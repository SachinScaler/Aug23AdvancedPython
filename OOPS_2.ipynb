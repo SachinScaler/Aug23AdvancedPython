{
  "nbformat": 4,
  "nbformat_minor": 0,
  "metadata": {
    "colab": {
      "provenance": [],
      "authorship_tag": "ABX9TyMHY/apdDkjxdb9BVNZFp3L",
      "include_colab_link": true
    },
    "kernelspec": {
      "name": "python3",
      "display_name": "Python 3"
    },
    "language_info": {
      "name": "python"
    }
  },
  "cells": [
    {
      "cell_type": "markdown",
      "metadata": {
        "id": "view-in-github",
        "colab_type": "text"
      },
      "source": [
        "<a href=\"https://colab.research.google.com/github/SachinScaler/Aug23AdvancedPython/blob/main/OOPS_2.ipynb\" target=\"_parent\"><img src=\"https://colab.research.google.com/assets/colab-badge.svg\" alt=\"Open In Colab\"/></a>"
      ]
    },
    {
      "cell_type": "code",
      "execution_count": null,
      "metadata": {
        "id": "NWgfRsXa89ET"
      },
      "outputs": [],
      "source": [
        "class Dog:\n",
        "\n",
        "    kind = \"canine\" # class var\n",
        "\n",
        "    def __init__(self, NAME):\n",
        "        self.name = NAME\n",
        "        #instance = local var"
      ]
    },
    {
      "cell_type": "code",
      "source": [
        "class Account:\n",
        "  def __init__(self, acc_id, name, bal):\n",
        "    self.acc_id = acc_id\n",
        "    self.name = name\n",
        "    self.bal = bal\n",
        "\n",
        "c1 = Account(1,100, \"Sachin\")\n",
        "c2 = Account(2,500, \"Ravi\")\n",
        "c2.surname = \"K\"\n",
        "print(c1.__dict__)\n",
        "print(c2.__dict__)"
      ],
      "metadata": {
        "colab": {
          "base_uri": "https://localhost:8080/"
        },
        "id": "18IIoUe7_sbR",
        "outputId": "f8eda5f5-93aa-4c45-b9e7-7598461a5a2a"
      },
      "execution_count": 2,
      "outputs": [
        {
          "output_type": "stream",
          "name": "stdout",
          "text": [
            "{'acc_id': 1, 'name': 100, 'bal': 'Sachin'}\n",
            "{'acc_id': 2, 'name': 500, 'bal': 'Ravi', 'surname': 'K'}\n"
          ]
        }
      ]
    },
    {
      "cell_type": "code",
      "source": [
        "class Student:\n",
        "  batch = 'June22' # class variable: Immutables\n",
        "  def __init__(self, name):\n",
        "    self.name = name\n",
        "  def get_person_name(self):\n",
        "    print(self.name)\n",
        "\n",
        "p1=Student(\"Needa\")\n",
        "p1.batch = 'July22' # using object: it creates an instance variable\n",
        "\n",
        "print(Student.batch, p1.batch)"
      ],
      "metadata": {
        "colab": {
          "base_uri": "https://localhost:8080/"
        },
        "id": "gFCUMtuY_vqP",
        "outputId": "f2a310c5-57cc-4e61-e0ec-c5998a20cd01"
      },
      "execution_count": 5,
      "outputs": [
        {
          "output_type": "stream",
          "name": "stdout",
          "text": [
            "June22 July22\n"
          ]
        }
      ]
    },
    {
      "cell_type": "code",
      "source": [
        "class Student:\n",
        "  batch = 'June22' # class variable: Immutables\n",
        "  def __init__(self, name):\n",
        "    self.name = name\n",
        "    self.batch='June22'\n",
        "  def get_person_name(self):\n",
        "    print(self.name)\n",
        "\n",
        "p1=Student(\"Needa\")\n",
        "p2=Student(\"Achu\")\n",
        "Student.batch = 'July22' # using class: it creates an instance variable\n",
        "\n",
        "print(Student.batch, p1.batch, p2.batch)"
      ],
      "metadata": {
        "colab": {
          "base_uri": "https://localhost:8080/"
        },
        "id": "l3dNWNwqAEj1",
        "outputId": "940e5bbc-0413-4b7d-afd8-889a2e976ea0"
      },
      "execution_count": 6,
      "outputs": [
        {
          "output_type": "stream",
          "name": "stdout",
          "text": [
            "July22 July22 July22\n"
          ]
        }
      ]
    },
    {
      "cell_type": "code",
      "source": [
        "class Student:\n",
        "  batch = 'June22' # class variable: Immutables\n",
        "  roll_no = 100\n",
        "  def __init__(self, name):\n",
        "    self.name = name\n",
        "    self.rollno = Student.roll_no\n",
        "    Student.roll_no+=1\n",
        "\n",
        "  def get_person_name(self):\n",
        "    print(self.name)\n",
        "\n",
        "\n",
        "p1=Student(\"Needa\")\n",
        "p2=Student(\"Achu\")"
      ],
      "metadata": {
        "id": "wg_5W9cIAPR_"
      },
      "execution_count": 21,
      "outputs": []
    },
    {
      "cell_type": "code",
      "source": [
        "p1.rollno"
      ],
      "metadata": {
        "colab": {
          "base_uri": "https://localhost:8080/"
        },
        "id": "7JrfOoETB7I0",
        "outputId": "18f1448b-0497-4c4e-e4c6-f1a58385ad50"
      },
      "execution_count": 22,
      "outputs": [
        {
          "output_type": "execute_result",
          "data": {
            "text/plain": [
              "100"
            ]
          },
          "metadata": {},
          "execution_count": 22
        }
      ]
    },
    {
      "cell_type": "code",
      "source": [
        "p2.rollno"
      ],
      "metadata": {
        "colab": {
          "base_uri": "https://localhost:8080/"
        },
        "id": "63FGvStsB90G",
        "outputId": "89d77e3b-acb2-45d9-95f5-8d39834773bc"
      },
      "execution_count": 23,
      "outputs": [
        {
          "output_type": "execute_result",
          "data": {
            "text/plain": [
              "101"
            ]
          },
          "metadata": {},
          "execution_count": 23
        }
      ]
    },
    {
      "cell_type": "code",
      "source": [
        "Student.roll_no"
      ],
      "metadata": {
        "colab": {
          "base_uri": "https://localhost:8080/"
        },
        "id": "_Qe8ZlTUB-mb",
        "outputId": "6687ae5d-f1f9-45d3-f860-430327a62e80"
      },
      "execution_count": 24,
      "outputs": [
        {
          "output_type": "execute_result",
          "data": {
            "text/plain": [
              "102"
            ]
          },
          "metadata": {},
          "execution_count": 24
        }
      ]
    },
    {
      "cell_type": "code",
      "source": [
        "p3=Student(\"Achu\")\n",
        "p3.rollno"
      ],
      "metadata": {
        "colab": {
          "base_uri": "https://localhost:8080/"
        },
        "id": "OHYzKehLChTN",
        "outputId": "dc445b03-c5a6-4409-9142-793053767127"
      },
      "execution_count": 25,
      "outputs": [
        {
          "output_type": "execute_result",
          "data": {
            "text/plain": [
              "102"
            ]
          },
          "metadata": {},
          "execution_count": 25
        }
      ]
    },
    {
      "cell_type": "code",
      "source": [
        "Student.roll_no"
      ],
      "metadata": {
        "colab": {
          "base_uri": "https://localhost:8080/"
        },
        "id": "JqTTQf7TClG4",
        "outputId": "536dfc9b-b586-4382-f79a-bdd4104e4d8a"
      },
      "execution_count": 26,
      "outputs": [
        {
          "output_type": "execute_result",
          "data": {
            "text/plain": [
              "103"
            ]
          },
          "metadata": {},
          "execution_count": 26
        }
      ]
    },
    {
      "cell_type": "code",
      "source": [
        "Student.roll_no+=1000"
      ],
      "metadata": {
        "id": "A3mXvBrcCq5_"
      },
      "execution_count": 27,
      "outputs": []
    },
    {
      "cell_type": "code",
      "source": [
        "p3=Student(\"Anuj\")\n",
        "p3.rollno"
      ],
      "metadata": {
        "colab": {
          "base_uri": "https://localhost:8080/"
        },
        "id": "u9YGe_aNC7HF",
        "outputId": "4d1f6256-90cf-494d-cd49-28b0b29ab0d1"
      },
      "execution_count": 28,
      "outputs": [
        {
          "output_type": "execute_result",
          "data": {
            "text/plain": [
              "1103"
            ]
          },
          "metadata": {},
          "execution_count": 28
        }
      ]
    },
    {
      "cell_type": "code",
      "source": [
        "class Student:\n",
        "  batch = ['June22'] # class variable: Mutables\n",
        "  def __init__(self, name):\n",
        "    self.name = name\n",
        "  def get_person_name(self):\n",
        "    print(self.name)\n",
        "\n",
        "p1=Student(\"Needa\")\n",
        "p1.batch.append('July22') # using object: shared hence the class var itself will get  modified\n",
        "\n",
        "print(Student.batch, p1.batch)"
      ],
      "metadata": {
        "colab": {
          "base_uri": "https://localhost:8080/"
        },
        "id": "UFkraEx0C8bh",
        "outputId": "128999c7-94c9-4ef6-a86e-bb8840962632"
      },
      "execution_count": 29,
      "outputs": [
        {
          "output_type": "stream",
          "name": "stdout",
          "text": [
            "['June22', 'July22'] ['June22', 'July22']\n"
          ]
        }
      ]
    },
    {
      "cell_type": "code",
      "source": [
        "class Student:\n",
        "  batch = ['June22'] # class variable: Mutable\n",
        "  def __init__(self, name):\n",
        "    self.name = name\n",
        "  def get_person_name(self):\n",
        "    print(self.name)\n",
        "\n",
        "\n",
        "p1=Student(\"Needa\")\n",
        "Student.batch.append('July22') # using Class: shared hence the class var itself will get  modified\n",
        "\n",
        "print(Student.batch, p1.batch)"
      ],
      "metadata": {
        "colab": {
          "base_uri": "https://localhost:8080/"
        },
        "id": "9cfHQx7TDpJW",
        "outputId": "120ad25f-41fe-4716-c6c9-d32337ff2562"
      },
      "execution_count": 30,
      "outputs": [
        {
          "output_type": "stream",
          "name": "stdout",
          "text": [
            "['June22', 'July22'] ['June22', 'July22']\n"
          ]
        }
      ]
    },
    {
      "cell_type": "code",
      "source": [
        "class A:\n",
        "    def __init__(self, name):\n",
        "        self.name = name\n",
        "\n",
        "a1 = A(\"Bunty\")\n",
        "a2 = A(\"Bunty\")\n",
        "\n",
        "print(id(a1) == id(a2))"
      ],
      "metadata": {
        "colab": {
          "base_uri": "https://localhost:8080/"
        },
        "id": "ErAVi80bD5Bg",
        "outputId": "12492150-f7c1-478a-892a-4dd76964ba8d"
      },
      "execution_count": 31,
      "outputs": [
        {
          "output_type": "stream",
          "name": "stdout",
          "text": [
            "False\n"
          ]
        }
      ]
    },
    {
      "cell_type": "code",
      "source": [
        "type(10)"
      ],
      "metadata": {
        "colab": {
          "base_uri": "https://localhost:8080/"
        },
        "id": "-nP-9KZHE1qK",
        "outputId": "a6e6d63c-0a70-49a6-c5c3-bc87de09db09"
      },
      "execution_count": 34,
      "outputs": [
        {
          "output_type": "execute_result",
          "data": {
            "text/plain": [
              "int"
            ]
          },
          "metadata": {},
          "execution_count": 34
        }
      ]
    },
    {
      "cell_type": "code",
      "source": [
        "class A:\n",
        "    def __init__(self):\n",
        "      print(\"New object Created!\")\n",
        "\n",
        "A() # line1\n",
        "\n",
        "obj1 = A() # line2\n",
        "\n",
        "if A():  # line 3\n",
        "    print(A()) # line 4"
      ],
      "metadata": {
        "colab": {
          "base_uri": "https://localhost:8080/"
        },
        "id": "J6FyZ-ssEstV",
        "outputId": "9425ae70-5693-4be4-ba14-ee74b4de0881"
      },
      "execution_count": 35,
      "outputs": [
        {
          "output_type": "stream",
          "name": "stdout",
          "text": [
            "New object Created!\n",
            "New object Created!\n",
            "New object Created!\n",
            "New object Created!\n",
            "<__main__.A object at 0x7a9cfc363460>\n"
          ]
        }
      ]
    },
    {
      "cell_type": "code",
      "source": [
        "class A:\n",
        "    counter= 0\n",
        "    def __init__(self):\n",
        "      A.counter+=1\n",
        "\n",
        "A()\n",
        "\n",
        "obj1 = A()\n",
        "\n",
        "if A():\n",
        "    print(A.counter)"
      ],
      "metadata": {
        "colab": {
          "base_uri": "https://localhost:8080/"
        },
        "id": "verTNVlUENOn",
        "outputId": "41a532af-6bc8-4b0f-bc07-02e98b99a3c1"
      },
      "execution_count": 36,
      "outputs": [
        {
          "output_type": "stream",
          "name": "stdout",
          "text": [
            "3\n"
          ]
        }
      ]
    },
    {
      "cell_type": "code",
      "source": [
        "class A:\n",
        "    counter=0\n",
        "    def __init__(self):\n",
        "      self.counter+=1\n",
        "\n",
        "A()\n",
        "\n",
        "obj1 = A()\n",
        "\n",
        "if A():\n",
        "    print(A.counter)"
      ],
      "metadata": {
        "colab": {
          "base_uri": "https://localhost:8080/"
        },
        "id": "5V8QX6wDEh_m",
        "outputId": "242b2900-8e2d-45ea-d560-803b9c991799"
      },
      "execution_count": 37,
      "outputs": [
        {
          "output_type": "stream",
          "name": "stdout",
          "text": [
            "0\n"
          ]
        }
      ]
    },
    {
      "cell_type": "code",
      "source": [
        "obj1.counter"
      ],
      "metadata": {
        "colab": {
          "base_uri": "https://localhost:8080/"
        },
        "id": "Jz1q2Vi-F1Hi",
        "outputId": "7682671c-c49f-4e0e-e48c-082fca503823"
      },
      "execution_count": 38,
      "outputs": [
        {
          "output_type": "execute_result",
          "data": {
            "text/plain": [
              "1"
            ]
          },
          "metadata": {},
          "execution_count": 38
        }
      ]
    },
    {
      "cell_type": "code",
      "source": [
        "class Student:\n",
        "  batch = ['June22'] # class variable: Mutable\n",
        "  def __init__(self, name):\n",
        "    self.name = name\n",
        "  def get_person_name(self):\n",
        "    print(self.name)\n",
        "\n",
        "  def __str__(self):\n",
        "    return f\"{self.name} from {self.batch}\"\n",
        "\n",
        "  def __eq__(self, obj):\n",
        "    if self.name==obj.name:\n",
        "        return True\n",
        "    else:\n",
        "        return False\n",
        "  def __add__(self, obj):\n",
        "        return  self.name+obj.name\n",
        "\n",
        "p1=Student(\"Needa\")"
      ],
      "metadata": {
        "id": "oaG1DkRJF5Tz"
      },
      "execution_count": 61,
      "outputs": []
    },
    {
      "cell_type": "code",
      "source": [
        "print(p1)"
      ],
      "metadata": {
        "colab": {
          "base_uri": "https://localhost:8080/"
        },
        "id": "lWWMM1rYGqOe",
        "outputId": "5d3ebac4-545e-4ebf-db16-3add6c896057"
      },
      "execution_count": 62,
      "outputs": [
        {
          "output_type": "stream",
          "name": "stdout",
          "text": [
            "Needa from ['June22']\n"
          ]
        }
      ]
    },
    {
      "cell_type": "code",
      "source": [
        "p2=Student(\"Nitesh\")"
      ],
      "metadata": {
        "id": "UA6mQ9D4G1JY"
      },
      "execution_count": 63,
      "outputs": []
    },
    {
      "cell_type": "code",
      "source": [
        "p1==p2"
      ],
      "metadata": {
        "colab": {
          "base_uri": "https://localhost:8080/"
        },
        "id": "B6Awv4nDHRGu",
        "outputId": "4348dfa5-b1ac-4add-8dfc-7cb456b39c71"
      },
      "execution_count": 64,
      "outputs": [
        {
          "output_type": "execute_result",
          "data": {
            "text/plain": [
              "False"
            ]
          },
          "metadata": {},
          "execution_count": 64
        }
      ]
    },
    {
      "cell_type": "code",
      "source": [
        "p1+p2"
      ],
      "metadata": {
        "colab": {
          "base_uri": "https://localhost:8080/",
          "height": 42
        },
        "id": "nXhyDW2nHSi_",
        "outputId": "fd4b3b81-9779-4e01-8424-b56cd2a1b7de"
      },
      "execution_count": 65,
      "outputs": [
        {
          "output_type": "execute_result",
          "data": {
            "text/plain": [
              "'NeedaNitesh'"
            ],
            "application/vnd.google.colaboratory.intrinsic+json": {
              "type": "string"
            }
          },
          "metadata": {},
          "execution_count": 65
        }
      ]
    },
    {
      "cell_type": "markdown",
      "source": [
        "Inheritance\n"
      ],
      "metadata": {
        "id": "X9dvJ9kdIEEj"
      }
    },
    {
      "cell_type": "code",
      "source": [
        "class Parent:\n",
        "    par_var = \"Class Var from Parent\"\n",
        "    def __init__(self):\n",
        "        print(\"inside Parent class\")\n",
        "\n",
        "class Child():\n",
        "    def __init__(self):\n",
        "        print(\"inside Child class\")\n",
        "\n",
        "p1 = Parent()\n",
        "p1.par_var"
      ],
      "metadata": {
        "colab": {
          "base_uri": "https://localhost:8080/",
          "height": 64
        },
        "id": "rar6OLV_Hfcy",
        "outputId": "f4fac30b-49af-4f6f-cbb9-e10b1974b7db"
      },
      "execution_count": 72,
      "outputs": [
        {
          "output_type": "stream",
          "name": "stdout",
          "text": [
            "inside Parent class\n"
          ]
        },
        {
          "output_type": "execute_result",
          "data": {
            "text/plain": [
              "'Class Var from Parent'"
            ],
            "application/vnd.google.colaboratory.intrinsic+json": {
              "type": "string"
            }
          },
          "metadata": {},
          "execution_count": 72
        }
      ]
    },
    {
      "cell_type": "code",
      "source": [
        "c1 = Child()\n",
        "c1.par_var"
      ],
      "metadata": {
        "colab": {
          "base_uri": "https://localhost:8080/",
          "height": 256
        },
        "id": "LFM6p8vZInzj",
        "outputId": "41979637-7ffa-443e-e477-c8acabed2a28"
      },
      "execution_count": 73,
      "outputs": [
        {
          "output_type": "stream",
          "name": "stdout",
          "text": [
            "inside Child class\n"
          ]
        },
        {
          "output_type": "error",
          "ename": "AttributeError",
          "evalue": "ignored",
          "traceback": [
            "\u001b[0;31m---------------------------------------------------------------------------\u001b[0m",
            "\u001b[0;31mAttributeError\u001b[0m                            Traceback (most recent call last)",
            "\u001b[0;32m<ipython-input-73-432064dd4f42>\u001b[0m in \u001b[0;36m<cell line: 2>\u001b[0;34m()\u001b[0m\n\u001b[1;32m      1\u001b[0m \u001b[0mc1\u001b[0m \u001b[0;34m=\u001b[0m \u001b[0mChild\u001b[0m\u001b[0;34m(\u001b[0m\u001b[0;34m)\u001b[0m\u001b[0;34m\u001b[0m\u001b[0;34m\u001b[0m\u001b[0m\n\u001b[0;32m----> 2\u001b[0;31m \u001b[0mc1\u001b[0m\u001b[0;34m.\u001b[0m\u001b[0mpar_var\u001b[0m\u001b[0;34m\u001b[0m\u001b[0;34m\u001b[0m\u001b[0m\n\u001b[0m",
            "\u001b[0;31mAttributeError\u001b[0m: 'Child' object has no attribute 'par_var'"
          ]
        }
      ]
    },
    {
      "cell_type": "code",
      "source": [
        "# inherit\n",
        "class Parent:\n",
        "    par_var = \"Class Var from Parent\"\n",
        "    def __init__(self):\n",
        "        print(\"inside Parent class\")\n",
        "    def method_in_parent(self):\n",
        "        return \"Parent Method\"\n",
        "    def method(self):\n",
        "        return \"Hi from Parent\"\n",
        "\n",
        "class Child(Parent):\n",
        "    def __init__(self):\n",
        "        print(\"inside Child class\")\n",
        "    def method(self):\n",
        "        return \"Hi from Child\"\n",
        "\n",
        "p1 = Parent()\n",
        "p1.par_var"
      ],
      "metadata": {
        "colab": {
          "base_uri": "https://localhost:8080/",
          "height": 64
        },
        "id": "FyHkjXSNIwBx",
        "outputId": "9b0bad4b-3cd3-4b9e-b79c-7bf12f8e3099"
      },
      "execution_count": 81,
      "outputs": [
        {
          "output_type": "stream",
          "name": "stdout",
          "text": [
            "inside Parent class\n"
          ]
        },
        {
          "output_type": "execute_result",
          "data": {
            "text/plain": [
              "'Class Var from Parent'"
            ],
            "application/vnd.google.colaboratory.intrinsic+json": {
              "type": "string"
            }
          },
          "metadata": {},
          "execution_count": 81
        }
      ]
    },
    {
      "cell_type": "code",
      "source": [
        "p1.method_in_parent()"
      ],
      "metadata": {
        "colab": {
          "base_uri": "https://localhost:8080/",
          "height": 42
        },
        "id": "bVNCjGApJZYy",
        "outputId": "f878bc9a-0cfa-4bc8-b34e-12cda84831e5"
      },
      "execution_count": 82,
      "outputs": [
        {
          "output_type": "execute_result",
          "data": {
            "text/plain": [
              "'Parent Method'"
            ],
            "application/vnd.google.colaboratory.intrinsic+json": {
              "type": "string"
            }
          },
          "metadata": {},
          "execution_count": 82
        }
      ]
    },
    {
      "cell_type": "code",
      "source": [
        "c1 = Child()\n",
        "c1.par_var"
      ],
      "metadata": {
        "colab": {
          "base_uri": "https://localhost:8080/",
          "height": 64
        },
        "id": "2l5oOSfQI9T9",
        "outputId": "c520e2c0-e15f-40e4-bab1-c1874d1f5267"
      },
      "execution_count": 83,
      "outputs": [
        {
          "output_type": "stream",
          "name": "stdout",
          "text": [
            "inside Child class\n"
          ]
        },
        {
          "output_type": "execute_result",
          "data": {
            "text/plain": [
              "'Class Var from Parent'"
            ],
            "application/vnd.google.colaboratory.intrinsic+json": {
              "type": "string"
            }
          },
          "metadata": {},
          "execution_count": 83
        }
      ]
    },
    {
      "cell_type": "code",
      "source": [
        "c1.method_in_parent()"
      ],
      "metadata": {
        "colab": {
          "base_uri": "https://localhost:8080/",
          "height": 42
        },
        "id": "R1w5AfKXJEHs",
        "outputId": "ac6129b6-55e9-4cbf-c1c2-5e2badbec7a3"
      },
      "execution_count": 84,
      "outputs": [
        {
          "output_type": "execute_result",
          "data": {
            "text/plain": [
              "'Parent Method'"
            ],
            "application/vnd.google.colaboratory.intrinsic+json": {
              "type": "string"
            }
          },
          "metadata": {},
          "execution_count": 84
        }
      ]
    },
    {
      "cell_type": "code",
      "source": [
        "p1.method()"
      ],
      "metadata": {
        "colab": {
          "base_uri": "https://localhost:8080/",
          "height": 42
        },
        "id": "uJBJ49gsJfsx",
        "outputId": "700724a8-e046-4e9e-c93b-1d15a6b5ee8e"
      },
      "execution_count": 85,
      "outputs": [
        {
          "output_type": "execute_result",
          "data": {
            "text/plain": [
              "'Hi from Parent'"
            ],
            "application/vnd.google.colaboratory.intrinsic+json": {
              "type": "string"
            }
          },
          "metadata": {},
          "execution_count": 85
        }
      ]
    },
    {
      "cell_type": "code",
      "source": [
        "c1.method()"
      ],
      "metadata": {
        "colab": {
          "base_uri": "https://localhost:8080/",
          "height": 42
        },
        "id": "2YAnFM6YJ5T2",
        "outputId": "f9cee59a-de66-442c-823d-b38f14754de9"
      },
      "execution_count": 86,
      "outputs": [
        {
          "output_type": "execute_result",
          "data": {
            "text/plain": [
              "'Hi from Child'"
            ],
            "application/vnd.google.colaboratory.intrinsic+json": {
              "type": "string"
            }
          },
          "metadata": {},
          "execution_count": 86
        }
      ]
    },
    {
      "cell_type": "markdown",
      "source": [],
      "metadata": {
        "id": "NdviCQV5KHhL"
      }
    },
    {
      "cell_type": "code",
      "source": [
        "# inherits\n",
        "class Parent:\n",
        "    par_var = \"Class Var from Parent\"\n",
        "    __pri_par_var=100 # private vars are not inherited\n",
        "    def __init__(self):\n",
        "        print(\"inside Parent class\")\n",
        "    def method_in_parent(self):\n",
        "        return \"Parent Method\"\n",
        "    def method(self):\n",
        "        return self.__pri_par_var\n",
        "\n",
        "class Child(Parent):\n",
        "    def __init__(self):\n",
        "        print(\"inside Child class\")\n",
        "    def method(self):\n",
        "        return self.__pri_par_var\n",
        "\n",
        "p1 = Parent()\n",
        "p1.method()"
      ],
      "metadata": {
        "colab": {
          "base_uri": "https://localhost:8080/"
        },
        "id": "nkn4XPcfJ-Ed",
        "outputId": "0e3d41ec-126f-45a2-9973-2264911c16c9"
      },
      "execution_count": 87,
      "outputs": [
        {
          "output_type": "stream",
          "name": "stdout",
          "text": [
            "inside Parent class\n"
          ]
        },
        {
          "output_type": "execute_result",
          "data": {
            "text/plain": [
              "100"
            ]
          },
          "metadata": {},
          "execution_count": 87
        }
      ]
    },
    {
      "cell_type": "code",
      "source": [
        "c1 = Child()\n",
        "c1.method()"
      ],
      "metadata": {
        "colab": {
          "base_uri": "https://localhost:8080/",
          "height": 410
        },
        "id": "leJ6agztKc4P",
        "outputId": "32d94474-332a-46f6-d5de-4a07790e6d64"
      },
      "execution_count": 88,
      "outputs": [
        {
          "output_type": "stream",
          "name": "stdout",
          "text": [
            "inside Child class\n"
          ]
        },
        {
          "output_type": "error",
          "ename": "AttributeError",
          "evalue": "ignored",
          "traceback": [
            "\u001b[0;31m---------------------------------------------------------------------------\u001b[0m",
            "\u001b[0;31mAttributeError\u001b[0m                            Traceback (most recent call last)",
            "\u001b[0;32m<ipython-input-88-845bc03a4eec>\u001b[0m in \u001b[0;36m<cell line: 2>\u001b[0;34m()\u001b[0m\n\u001b[1;32m      1\u001b[0m \u001b[0mc1\u001b[0m \u001b[0;34m=\u001b[0m \u001b[0mChild\u001b[0m\u001b[0;34m(\u001b[0m\u001b[0;34m)\u001b[0m\u001b[0;34m\u001b[0m\u001b[0;34m\u001b[0m\u001b[0m\n\u001b[0;32m----> 2\u001b[0;31m \u001b[0mc1\u001b[0m\u001b[0;34m.\u001b[0m\u001b[0mmethod\u001b[0m\u001b[0;34m(\u001b[0m\u001b[0;34m)\u001b[0m\u001b[0;34m\u001b[0m\u001b[0;34m\u001b[0m\u001b[0m\n\u001b[0m",
            "\u001b[0;32m<ipython-input-87-695bdac81959>\u001b[0m in \u001b[0;36mmethod\u001b[0;34m(self)\u001b[0m\n\u001b[1;32m     14\u001b[0m         \u001b[0mprint\u001b[0m\u001b[0;34m(\u001b[0m\u001b[0;34m\"inside Child class\"\u001b[0m\u001b[0;34m)\u001b[0m\u001b[0;34m\u001b[0m\u001b[0;34m\u001b[0m\u001b[0m\n\u001b[1;32m     15\u001b[0m     \u001b[0;32mdef\u001b[0m \u001b[0mmethod\u001b[0m\u001b[0;34m(\u001b[0m\u001b[0mself\u001b[0m\u001b[0;34m)\u001b[0m\u001b[0;34m:\u001b[0m\u001b[0;34m\u001b[0m\u001b[0;34m\u001b[0m\u001b[0m\n\u001b[0;32m---> 16\u001b[0;31m         \u001b[0;32mreturn\u001b[0m \u001b[0mself\u001b[0m\u001b[0;34m.\u001b[0m\u001b[0m__pri_par_var\u001b[0m\u001b[0;34m\u001b[0m\u001b[0;34m\u001b[0m\u001b[0m\n\u001b[0m\u001b[1;32m     17\u001b[0m \u001b[0;34m\u001b[0m\u001b[0m\n\u001b[1;32m     18\u001b[0m \u001b[0mp1\u001b[0m \u001b[0;34m=\u001b[0m \u001b[0mParent\u001b[0m\u001b[0;34m(\u001b[0m\u001b[0;34m)\u001b[0m\u001b[0;34m\u001b[0m\u001b[0;34m\u001b[0m\u001b[0m\n",
            "\u001b[0;31mAttributeError\u001b[0m: 'Child' object has no attribute '_Child__pri_par_var'"
          ]
        }
      ]
    },
    {
      "cell_type": "code",
      "source": [
        "#\n",
        "class SchoolMember:\n",
        "    def __init__(self,name):\n",
        "        self.name = name\n",
        "\n",
        "class Student(SchoolMember):\n",
        "    def __init__(self, name, grade):\n",
        "        self.grade=grade\n",
        "\n",
        "class Staff(SchoolMember):\n",
        "    def __init__(self, name, salary):\n",
        "        self.name = name\n",
        "        self.salary=salary\n",
        "\n",
        "class Teacher(Staff):\n",
        "    def __init__(self, name, salary, subject):\n",
        "        self.name = name\n",
        "        self.salary=salary\n",
        "        self.subject= subject\n",
        "\n",
        "s1 = Student(\"Sachin\",\"Primary\")"
      ],
      "metadata": {
        "id": "XXUdeBVcKhKn"
      },
      "execution_count": 93,
      "outputs": []
    },
    {
      "cell_type": "code",
      "source": [
        "s1.name"
      ],
      "metadata": {
        "colab": {
          "base_uri": "https://localhost:8080/",
          "height": 212
        },
        "id": "dTEHlTMmL6VX",
        "outputId": "80d3fade-2ea3-4994-a5ac-020a0dfa175d"
      },
      "execution_count": 94,
      "outputs": [
        {
          "output_type": "error",
          "ename": "AttributeError",
          "evalue": "ignored",
          "traceback": [
            "\u001b[0;31m---------------------------------------------------------------------------\u001b[0m",
            "\u001b[0;31mAttributeError\u001b[0m                            Traceback (most recent call last)",
            "\u001b[0;32m<ipython-input-94-bfa1764dcbdc>\u001b[0m in \u001b[0;36m<cell line: 1>\u001b[0;34m()\u001b[0m\n\u001b[0;32m----> 1\u001b[0;31m \u001b[0ms1\u001b[0m\u001b[0;34m.\u001b[0m\u001b[0mname\u001b[0m\u001b[0;34m\u001b[0m\u001b[0;34m\u001b[0m\u001b[0m\n\u001b[0m",
            "\u001b[0;31mAttributeError\u001b[0m: 'Student' object has no attribute 'name'"
          ]
        }
      ]
    },
    {
      "cell_type": "code",
      "source": [
        "s1.grade"
      ],
      "metadata": {
        "colab": {
          "base_uri": "https://localhost:8080/",
          "height": 42
        },
        "id": "bJC_NcJ6MHPJ",
        "outputId": "2c380d98-994c-4238-e337-64fb92889ddd"
      },
      "execution_count": 95,
      "outputs": [
        {
          "output_type": "execute_result",
          "data": {
            "text/plain": [
              "'Primary'"
            ],
            "application/vnd.google.colaboratory.intrinsic+json": {
              "type": "string"
            }
          },
          "metadata": {},
          "execution_count": 95
        }
      ]
    },
    {
      "cell_type": "code",
      "source": [
        "#\n",
        "class SchoolMember:\n",
        "    def __init__(self,name):\n",
        "        self.name = name\n",
        "\n",
        "class Student(SchoolMember):\n",
        "    def __init__(self, name, grade):\n",
        "        # SchoolMember.__init__(self,name) # method1\n",
        "        super().__init__(name) # method 2\n",
        "        self.grade=grade\n",
        "\n",
        "class Staff(SchoolMember):\n",
        "    def __init__(self, name, salary):\n",
        "        super().__init__(name)\n",
        "        self.salary=salary\n",
        "\n",
        "class Teacher(Staff):\n",
        "    def __init__(self, name, salary, subject):\n",
        "        super().__init__(name,salary)\n",
        "        self.subject= subject\n",
        "\n",
        "s1 = Student(\"Sachin\",\"Primary\")"
      ],
      "metadata": {
        "id": "8ocU6mV_MLbc"
      },
      "execution_count": 100,
      "outputs": []
    },
    {
      "cell_type": "code",
      "source": [
        "print(s1.grade)\n",
        "print(s1.name)"
      ],
      "metadata": {
        "colab": {
          "base_uri": "https://localhost:8080/"
        },
        "id": "pBn51VCmMlTd",
        "outputId": "e4b5b3c3-7485-4570-c28e-a746ec5e3908"
      },
      "execution_count": 101,
      "outputs": [
        {
          "output_type": "stream",
          "name": "stdout",
          "text": [
            "Primary\n",
            "Sachin\n"
          ]
        }
      ]
    },
    {
      "cell_type": "code",
      "source": [
        "t1 = Teacher(\"Sachin\",10, \"Adv Python\")"
      ],
      "metadata": {
        "id": "bO_DfB95MpHE"
      },
      "execution_count": 103,
      "outputs": []
    },
    {
      "cell_type": "code",
      "source": [
        "t1.name,t1.salary, t1.subject"
      ],
      "metadata": {
        "colab": {
          "base_uri": "https://localhost:8080/"
        },
        "id": "dWcF_cLbNNBp",
        "outputId": "7c4e05d7-f328-45a8-d5e8-47757e281924"
      },
      "execution_count": 104,
      "outputs": [
        {
          "output_type": "execute_result",
          "data": {
            "text/plain": [
              "('Sachin', 10, 'Adv Python')"
            ]
          },
          "metadata": {},
          "execution_count": 104
        }
      ]
    },
    {
      "cell_type": "code",
      "source": [
        "class Audio:\n",
        "    def use(self):\n",
        "        print(\"To listen\")\n",
        "\n",
        "class Video(Audio):\n",
        "    def use(self):\n",
        "        print(\"To see\")\n",
        "        super().use()\n",
        "\n",
        "\n",
        "class Movie(Video):\n",
        "    def use(self):\n",
        "        super().use() # Video.use(self)\n",
        "\n",
        "m1 = Movie()\n",
        "m1.use()"
      ],
      "metadata": {
        "colab": {
          "base_uri": "https://localhost:8080/"
        },
        "id": "DIiiuszCNUtJ",
        "outputId": "ce67014f-0029-4ceb-8f5b-beb416d89551"
      },
      "execution_count": 106,
      "outputs": [
        {
          "output_type": "stream",
          "name": "stdout",
          "text": [
            "To see\n",
            "To listen\n"
          ]
        }
      ]
    },
    {
      "cell_type": "code",
      "source": [
        "\n",
        "class Audio:\n",
        "    def use(self):\n",
        "        print(\"To listen\")\n",
        "\n",
        "class Video:\n",
        "    def use(self):\n",
        "        print(\"To see\")\n",
        "\n",
        "class Movie(Audio, Video):\n",
        "    def use(self):\n",
        "        super().use()\n",
        "\n",
        "m1 = Movie()\n",
        "m1.use()\n"
      ],
      "metadata": {
        "colab": {
          "base_uri": "https://localhost:8080/"
        },
        "id": "OUZYI7iBQokf",
        "outputId": "13f5f6a3-df76-46cf-a7ec-f4d81714c69e"
      },
      "execution_count": 109,
      "outputs": [
        {
          "output_type": "stream",
          "name": "stdout",
          "text": [
            "To listen\n"
          ]
        }
      ]
    },
    {
      "cell_type": "code",
      "source": [
        "class A:\n",
        "    x = 10\n",
        "\n",
        "class B(A):\n",
        "    pass\n",
        "\n",
        "class C(B):\n",
        "    pass\n",
        "\n",
        "class D(A):\n",
        "    x = 5\n",
        "\n",
        "class E(C, D):\n",
        "    pass\n",
        "\n",
        "e1 = E()\n",
        "e1.x"
      ],
      "metadata": {
        "colab": {
          "base_uri": "https://localhost:8080/"
        },
        "id": "XRcz4qRvQPJ6",
        "outputId": "d29aab1f-c16d-40e6-8919-af503b2c8611"
      },
      "execution_count": 110,
      "outputs": [
        {
          "output_type": "execute_result",
          "data": {
            "text/plain": [
              "5"
            ]
          },
          "metadata": {},
          "execution_count": 110
        }
      ]
    },
    {
      "cell_type": "code",
      "source": [
        "E.__mro__"
      ],
      "metadata": {
        "colab": {
          "base_uri": "https://localhost:8080/"
        },
        "id": "GgDJjx1yRjTE",
        "outputId": "febeca78-a27f-4023-9ec6-f61a6f575b2b"
      },
      "execution_count": 114,
      "outputs": [
        {
          "output_type": "execute_result",
          "data": {
            "text/plain": [
              "(__main__.E, __main__.C, __main__.B, __main__.D, __main__.A, object)"
            ]
          },
          "metadata": {},
          "execution_count": 114
        }
      ]
    },
    {
      "cell_type": "code",
      "source": [
        "E.mro()"
      ],
      "metadata": {
        "colab": {
          "base_uri": "https://localhost:8080/"
        },
        "id": "j34utxmySntr",
        "outputId": "e8614bc0-945a-4f2a-eb7b-45cf78039087"
      },
      "execution_count": 115,
      "outputs": [
        {
          "output_type": "execute_result",
          "data": {
            "text/plain": [
              "[__main__.E, __main__.C, __main__.B, __main__.D, __main__.A, object]"
            ]
          },
          "metadata": {},
          "execution_count": 115
        }
      ]
    },
    {
      "cell_type": "code",
      "source": [
        "class BankAccount:\n",
        "    def __init__(self, balance=100):\n",
        "        self.__balance = balance\n",
        "\n",
        "    def get_balance(self):\n",
        "        return self.__balance\n",
        "\n",
        "b1 = BankAccount(10)\n",
        "b1.__balance= 10000000000\n",
        "print(b1.get_balance())"
      ],
      "metadata": {
        "colab": {
          "base_uri": "https://localhost:8080/"
        },
        "id": "ql5okE9pSvPt",
        "outputId": "a378f74c-b5a1-4534-f95a-db7e9240f20b"
      },
      "execution_count": 116,
      "outputs": [
        {
          "output_type": "stream",
          "name": "stdout",
          "text": [
            "10\n"
          ]
        }
      ]
    },
    {
      "cell_type": "code",
      "source": [
        "class BankAccount:\n",
        "    def __init__(self, balance=100):\n",
        "        self.__balance = balance\n",
        "\n",
        "    # getter method\n",
        "    def get_balance(self):\n",
        "        return self.__balance\n",
        "\n",
        "    # setter method\n",
        "    def set_balance(self, balance):\n",
        "        self.__balance = balance\n",
        "\n",
        "\n",
        "b1 = BankAccount(10)\n",
        "b1.__balance=10000000000\n",
        "print(b1.get_balance())"
      ],
      "metadata": {
        "colab": {
          "base_uri": "https://localhost:8080/"
        },
        "id": "oz3ju_XEUZW4",
        "outputId": "fa99c9f0-04dc-4397-d11b-da1094960501"
      },
      "execution_count": 118,
      "outputs": [
        {
          "output_type": "stream",
          "name": "stdout",
          "text": [
            "10\n"
          ]
        }
      ]
    },
    {
      "cell_type": "markdown",
      "source": [
        "- methods used to access private vars outside the class: Getter Methods\n",
        "- methods used to set/update private vars outside the class: Setter Methods"
      ],
      "metadata": {
        "id": "2GmqOzc1VCha"
      }
    },
    {
      "cell_type": "code",
      "source": [
        "b1.set_balance(10000000000)\n",
        "print(b1.get_balance())"
      ],
      "metadata": {
        "colab": {
          "base_uri": "https://localhost:8080/"
        },
        "id": "w0pC7CS_Uosu",
        "outputId": "18ae4751-5444-4993-e27d-8fb91bf851fa"
      },
      "execution_count": 119,
      "outputs": [
        {
          "output_type": "stream",
          "name": "stdout",
          "text": [
            "10000000000\n"
          ]
        }
      ]
    },
    {
      "cell_type": "markdown",
      "source": [
        "Abstraction:\n",
        "- hide implementation details\n",
        "- provides generalize template\n",
        "\n",
        "### why:"
      ],
      "metadata": {
        "id": "arhuTJxCVesR"
      }
    },
    {
      "cell_type": "code",
      "source": [
        "'''\n",
        "we want shape class to acts as a template and\n",
        "every child class inheriting from Shape must override the area method\n",
        "'''\n",
        "class Shape:\n",
        "    def area(self):\n",
        "        pass\n",
        "\n",
        "class Square(Shape):\n",
        "    def __init__(self, side):\n",
        "        self.side = side\n",
        "\n",
        "    def area(self):\n",
        "        return self.side**2\n",
        "\n",
        "class Circle(Shape):\n",
        "    def __init__(self, radius):\n",
        "        self.radius = radius\n",
        "\n",
        "    #def area(self):\n",
        "    #     return 3.14*self.radius**2\n"
      ],
      "metadata": {
        "id": "96QjexccUsx6"
      },
      "execution_count": 132,
      "outputs": []
    },
    {
      "cell_type": "code",
      "source": [
        "s1 = Square(4)\n",
        "s1.area()"
      ],
      "metadata": {
        "colab": {
          "base_uri": "https://localhost:8080/"
        },
        "id": "q3cLIUoAWXgJ",
        "outputId": "508638d1-1b48-40a1-d569-bf4e923f9b22"
      },
      "execution_count": 133,
      "outputs": [
        {
          "output_type": "execute_result",
          "data": {
            "text/plain": [
              "16"
            ]
          },
          "metadata": {},
          "execution_count": 133
        }
      ]
    },
    {
      "cell_type": "code",
      "source": [
        "c1 = Circle(4)\n",
        "print(c1.area())"
      ],
      "metadata": {
        "colab": {
          "base_uri": "https://localhost:8080/"
        },
        "id": "leLpqk6XWgYK",
        "outputId": "7afc7ba3-fe72-4078-a787-e0670a9dcd85"
      },
      "execution_count": 134,
      "outputs": [
        {
          "output_type": "stream",
          "name": "stdout",
          "text": [
            "None\n"
          ]
        }
      ]
    },
    {
      "cell_type": "code",
      "source": [
        "'''\n",
        "we want shape class to acts as a template and\n",
        "every child class inheriting from Shape must override the area method\n",
        "'''\n",
        "from abc import ABC, abstractmethod\n",
        "\n",
        "class Shape(ABC): # inherit from ABC\n",
        "    @abstractmethod\n",
        "    def area(self): # abstract method\n",
        "        pass\n",
        "\n",
        "class Square(Shape):\n",
        "    def __init__(self, side):\n",
        "        self.side = side\n",
        "\n",
        "    def area(self):\n",
        "        return self.side**2\n",
        "\n",
        "class Circle(Shape):\n",
        "    def __init__(self, radius):\n",
        "        self.radius = radius\n",
        "\n",
        "    #def area(self):\n",
        "    #     return 3.14*self.radius**2\n"
      ],
      "metadata": {
        "id": "lDEOhIniW87v"
      },
      "execution_count": 136,
      "outputs": []
    },
    {
      "cell_type": "code",
      "source": [
        "s1 = Square(4)\n",
        "s1.area()"
      ],
      "metadata": {
        "colab": {
          "base_uri": "https://localhost:8080/"
        },
        "id": "sD-l_OWCXw7h",
        "outputId": "26a5b9b5-5170-42da-8247-530a1797e2ee"
      },
      "execution_count": 137,
      "outputs": [
        {
          "output_type": "execute_result",
          "data": {
            "text/plain": [
              "16"
            ]
          },
          "metadata": {},
          "execution_count": 137
        }
      ]
    },
    {
      "cell_type": "code",
      "source": [
        "c1 = Circle(4)"
      ],
      "metadata": {
        "colab": {
          "base_uri": "https://localhost:8080/",
          "height": 212
        },
        "id": "bmfp1Ux5YL_X",
        "outputId": "186df05f-9572-45fd-8945-315a833b5e1e"
      },
      "execution_count": 138,
      "outputs": [
        {
          "output_type": "error",
          "ename": "TypeError",
          "evalue": "ignored",
          "traceback": [
            "\u001b[0;31m---------------------------------------------------------------------------\u001b[0m",
            "\u001b[0;31mTypeError\u001b[0m                                 Traceback (most recent call last)",
            "\u001b[0;32m<ipython-input-138-63ab7025ae2a>\u001b[0m in \u001b[0;36m<cell line: 1>\u001b[0;34m()\u001b[0m\n\u001b[0;32m----> 1\u001b[0;31m \u001b[0mc1\u001b[0m \u001b[0;34m=\u001b[0m \u001b[0mCircle\u001b[0m\u001b[0;34m(\u001b[0m\u001b[0;36m4\u001b[0m\u001b[0;34m)\u001b[0m\u001b[0;34m\u001b[0m\u001b[0;34m\u001b[0m\u001b[0m\n\u001b[0m",
            "\u001b[0;31mTypeError\u001b[0m: Can't instantiate abstract class Circle with abstract method area"
          ]
        }
      ]
    },
    {
      "cell_type": "code",
      "source": [
        "\n",
        "class Circle(Shape):\n",
        "    def __init__(self, radius):\n",
        "        self.radius = radius\n",
        "\n",
        "    def area(self):\n",
        "        return 3.14*self.radius**2\n",
        "\n",
        "c1 = Circle(4)\n",
        "c1.area()"
      ],
      "metadata": {
        "colab": {
          "base_uri": "https://localhost:8080/"
        },
        "id": "w_6FcNU6YSye",
        "outputId": "6b4130c7-859a-412c-fbfe-aa1b690e9db8"
      },
      "execution_count": 140,
      "outputs": [
        {
          "output_type": "execute_result",
          "data": {
            "text/plain": [
              "50.24"
            ]
          },
          "metadata": {},
          "execution_count": 140
        }
      ]
    },
    {
      "cell_type": "markdown",
      "source": [
        "```\n",
        "abstract classes define what but not how\n",
        "```\n"
      ],
      "metadata": {
        "id": "-UPRyOzHYz9y"
      }
    },
    {
      "cell_type": "code",
      "source": [],
      "metadata": {
        "id": "10CK6Gu8Ydt3"
      },
      "execution_count": null,
      "outputs": []
    }
  ]
}