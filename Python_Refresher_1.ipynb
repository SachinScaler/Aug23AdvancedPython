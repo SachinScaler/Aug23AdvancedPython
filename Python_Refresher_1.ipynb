{
  "nbformat": 4,
  "nbformat_minor": 0,
  "metadata": {
    "colab": {
      "provenance": [],
      "authorship_tag": "ABX9TyPcTL6sWLmaxhlBfxzQoaJA",
      "include_colab_link": true
    },
    "kernelspec": {
      "name": "python3",
      "display_name": "Python 3"
    },
    "language_info": {
      "name": "python"
    }
  },
  "cells": [
    {
      "cell_type": "markdown",
      "metadata": {
        "id": "view-in-github",
        "colab_type": "text"
      },
      "source": [
        "<a href=\"https://colab.research.google.com/github/SachinScaler/Aug23AdvancedPython/blob/main/Python_Refresher_1.ipynb\" target=\"_parent\"><img src=\"https://colab.research.google.com/assets/colab-badge.svg\" alt=\"Open In Colab\"/></a>"
      ]
    },
    {
      "cell_type": "code",
      "execution_count": 1,
      "metadata": {
        "colab": {
          "base_uri": "https://localhost:8080/"
        },
        "id": "tyQIQYDv026G",
        "outputId": "c5742140-f8d8-4609-a17f-3d46d38ca6e8"
      },
      "outputs": [
        {
          "output_type": "stream",
          "name": "stdout",
          "text": [
            "Hello Advance python learners!!!\n"
          ]
        }
      ],
      "source": [
        "print(\"Hello Advance python learners!!!\")"
      ]
    },
    {
      "cell_type": "markdown",
      "source": [
        "Data Types:\n"
      ],
      "metadata": {
        "id": "W73Yld0FCj4V"
      }
    },
    {
      "cell_type": "code",
      "source": [
        "a = 10\n",
        "print(a)"
      ],
      "metadata": {
        "colab": {
          "base_uri": "https://localhost:8080/"
        },
        "id": "QZ7aRil6ChJ9",
        "outputId": "047de29c-be41-4807-ec45-fdb6e7726932"
      },
      "execution_count": 2,
      "outputs": [
        {
          "output_type": "stream",
          "name": "stdout",
          "text": [
            "10\n"
          ]
        }
      ]
    },
    {
      "cell_type": "code",
      "source": [
        "a = \"Sachin\"\n",
        "print(a)"
      ],
      "metadata": {
        "colab": {
          "base_uri": "https://localhost:8080/"
        },
        "id": "CTGoJ85mDj7C",
        "outputId": "2651bbd7-5d89-4573-bbe3-2505d9a316b8"
      },
      "execution_count": 3,
      "outputs": [
        {
          "output_type": "stream",
          "name": "stdout",
          "text": [
            "Sachin\n"
          ]
        }
      ]
    },
    {
      "cell_type": "markdown",
      "source": [
        "- Type Function: Tells the class which object belongs to"
      ],
      "metadata": {
        "id": "pl_IVxF2FaNe"
      }
    },
    {
      "cell_type": "code",
      "source": [
        "print(type(a))"
      ],
      "metadata": {
        "colab": {
          "base_uri": "https://localhost:8080/"
        },
        "id": "UaD_1QwmDlxZ",
        "outputId": "da160dee-c8a1-44f8-838c-47552fd2a207"
      },
      "execution_count": 4,
      "outputs": [
        {
          "output_type": "stream",
          "name": "stdout",
          "text": [
            "<class 'str'>\n"
          ]
        }
      ]
    },
    {
      "cell_type": "code",
      "source": [
        "print(type(10000))"
      ],
      "metadata": {
        "colab": {
          "base_uri": "https://localhost:8080/"
        },
        "id": "pZ1_jK5SFjNX",
        "outputId": "16d98652-2d11-4a26-9f35-f4740034c046"
      },
      "execution_count": 5,
      "outputs": [
        {
          "output_type": "stream",
          "name": "stdout",
          "text": [
            "<class 'int'>\n"
          ]
        }
      ]
    },
    {
      "cell_type": "code",
      "source": [
        "print(type(True))"
      ],
      "metadata": {
        "colab": {
          "base_uri": "https://localhost:8080/"
        },
        "id": "Vj7Y1QokFoW2",
        "outputId": "27ed8ad6-fbfd-4bd6-c34e-ef53f6d15f59"
      },
      "execution_count": 6,
      "outputs": [
        {
          "output_type": "stream",
          "name": "stdout",
          "text": [
            "<class 'bool'>\n"
          ]
        }
      ]
    },
    {
      "cell_type": "code",
      "source": [
        "print(type(1+2j))"
      ],
      "metadata": {
        "colab": {
          "base_uri": "https://localhost:8080/"
        },
        "id": "nqhEl_mfFqhw",
        "outputId": "8f947be2-3d9a-4d74-d532-0d76387836a4"
      },
      "execution_count": 7,
      "outputs": [
        {
          "output_type": "stream",
          "name": "stdout",
          "text": [
            "<class 'complex'>\n"
          ]
        }
      ]
    },
    {
      "cell_type": "markdown",
      "source": [
        "Isinstance(a,b):\n",
        "- a is data/var and b is the className\n",
        "- Returns True or False"
      ],
      "metadata": {
        "id": "C05P5Ft6FxKR"
      }
    },
    {
      "cell_type": "code",
      "source": [
        "isinstance(a,int)"
      ],
      "metadata": {
        "colab": {
          "base_uri": "https://localhost:8080/"
        },
        "id": "di6KkxybFtHF",
        "outputId": "0d1369ea-3e09-4662-9607-b4fcbeb5d0dd"
      },
      "execution_count": 8,
      "outputs": [
        {
          "output_type": "execute_result",
          "data": {
            "text/plain": [
              "False"
            ]
          },
          "metadata": {},
          "execution_count": 8
        }
      ]
    },
    {
      "cell_type": "code",
      "source": [
        "isinstance(a,str)"
      ],
      "metadata": {
        "colab": {
          "base_uri": "https://localhost:8080/"
        },
        "id": "GZh1eZHiGF96",
        "outputId": "c9522959-8232-4beb-aefa-67324af7408a"
      },
      "execution_count": 9,
      "outputs": [
        {
          "output_type": "execute_result",
          "data": {
            "text/plain": [
              "True"
            ]
          },
          "metadata": {},
          "execution_count": 9
        }
      ]
    },
    {
      "cell_type": "code",
      "source": [
        "isinstance(False,bool)"
      ],
      "metadata": {
        "colab": {
          "base_uri": "https://localhost:8080/"
        },
        "id": "XjW6ueFVGKJs",
        "outputId": "46590da7-19ac-4feb-e671-e85ae5ca3f5d"
      },
      "execution_count": 10,
      "outputs": [
        {
          "output_type": "execute_result",
          "data": {
            "text/plain": [
              "True"
            ]
          },
          "metadata": {},
          "execution_count": 10
        }
      ]
    },
    {
      "cell_type": "code",
      "source": [
        "isinstance(\"False\",bool)"
      ],
      "metadata": {
        "colab": {
          "base_uri": "https://localhost:8080/"
        },
        "id": "l6oVGfQKGM_3",
        "outputId": "f55e852c-5757-48d7-8355-a86cd6f9f200"
      },
      "execution_count": 11,
      "outputs": [
        {
          "output_type": "execute_result",
          "data": {
            "text/plain": [
              "False"
            ]
          },
          "metadata": {},
          "execution_count": 11
        }
      ]
    },
    {
      "cell_type": "markdown",
      "source": [
        "?"
      ],
      "metadata": {
        "id": "BVA91k2iGVt4"
      }
    },
    {
      "cell_type": "code",
      "source": [
        "isinstance(a,str)"
      ],
      "metadata": {
        "colab": {
          "base_uri": "https://localhost:8080/"
        },
        "id": "0zHtxbxUGR2P",
        "outputId": "20564108-64d9-4d24-d80f-54c6aab094ec"
      },
      "execution_count": 12,
      "outputs": [
        {
          "output_type": "execute_result",
          "data": {
            "text/plain": [
              "True"
            ]
          },
          "metadata": {},
          "execution_count": 12
        }
      ]
    },
    {
      "cell_type": "code",
      "source": [
        "isinstance(a,object)"
      ],
      "metadata": {
        "colab": {
          "base_uri": "https://localhost:8080/"
        },
        "id": "SaGE0eCpGYeI",
        "outputId": "6ca9b789-67da-4dca-8b7a-48c00e13f11c"
      },
      "execution_count": 13,
      "outputs": [
        {
          "output_type": "execute_result",
          "data": {
            "text/plain": [
              "True"
            ]
          },
          "metadata": {},
          "execution_count": 13
        }
      ]
    },
    {
      "cell_type": "code",
      "source": [
        "isinstance(10,object)"
      ],
      "metadata": {
        "colab": {
          "base_uri": "https://localhost:8080/"
        },
        "id": "XjT1bpbDGdWx",
        "outputId": "642b9422-93ec-4d7a-c323-dd5f4ea18455"
      },
      "execution_count": 14,
      "outputs": [
        {
          "output_type": "execute_result",
          "data": {
            "text/plain": [
              "True"
            ]
          },
          "metadata": {},
          "execution_count": 14
        }
      ]
    },
    {
      "cell_type": "markdown",
      "source": [
        "Arithmatic Ops:\n",
        "```\n",
        "+\n",
        "-\n",
        "*\n",
        "/\n",
        "// # floor Division\n",
        "% # module operator\n",
        "**   \n"
      ],
      "metadata": {
        "id": "IXUVKGl0Glbq"
      }
    },
    {
      "cell_type": "code",
      "source": [
        "a = 10\n",
        "b  =20\n",
        "\n",
        "print(a+b)"
      ],
      "metadata": {
        "colab": {
          "base_uri": "https://localhost:8080/"
        },
        "id": "-M_x16MFGe5o",
        "outputId": "72ce7ead-7ec0-4e06-aa7c-ac5c28144bfb"
      },
      "execution_count": 15,
      "outputs": [
        {
          "output_type": "stream",
          "name": "stdout",
          "text": [
            "30\n"
          ]
        }
      ]
    },
    {
      "cell_type": "code",
      "source": [
        "print(a-b)\n",
        "print(a*b)\n",
        "print(a/b)\n",
        "print(a**b)"
      ],
      "metadata": {
        "colab": {
          "base_uri": "https://localhost:8080/"
        },
        "id": "eaVU3VkeHLCg",
        "outputId": "b85d8277-8dde-43ee-ddaf-8ef5fb7e4825"
      },
      "execution_count": 17,
      "outputs": [
        {
          "output_type": "stream",
          "name": "stdout",
          "text": [
            "-10\n",
            "200\n",
            "0.5\n",
            "100000000000000000000\n"
          ]
        }
      ]
    },
    {
      "cell_type": "code",
      "source": [
        "print(a//b) # floor Division"
      ],
      "metadata": {
        "colab": {
          "base_uri": "https://localhost:8080/"
        },
        "id": "SpDe57VtHQFu",
        "outputId": "fa91ce83-ecd5-4e75-f978-e673fb2d975d"
      },
      "execution_count": 18,
      "outputs": [
        {
          "output_type": "stream",
          "name": "stdout",
          "text": [
            "0\n"
          ]
        }
      ]
    },
    {
      "cell_type": "code",
      "source": [
        "a = 10\n",
        "b = 3\n",
        "print(a%b) # remainder of a/b"
      ],
      "metadata": {
        "colab": {
          "base_uri": "https://localhost:8080/"
        },
        "id": "HVI8wP2fHb8u",
        "outputId": "2c43c9b1-9f0a-4ce1-ad8c-2c4342b487b4"
      },
      "execution_count": 19,
      "outputs": [
        {
          "output_type": "stream",
          "name": "stdout",
          "text": [
            "1\n"
          ]
        }
      ]
    },
    {
      "cell_type": "code",
      "source": [
        "a = -10\n",
        "b = 3\n",
        "print(a%b) # b - a%b # 3 - (10%3)--> 3-1"
      ],
      "metadata": {
        "colab": {
          "base_uri": "https://localhost:8080/"
        },
        "id": "mzpe-uccIdSd",
        "outputId": "0f00b40f-fb1a-4d88-cfcb-de30553bdc42"
      },
      "execution_count": 21,
      "outputs": [
        {
          "output_type": "stream",
          "name": "stdout",
          "text": [
            "2\n"
          ]
        }
      ]
    },
    {
      "cell_type": "code",
      "source": [
        "print(-8/3)"
      ],
      "metadata": {
        "colab": {
          "base_uri": "https://localhost:8080/"
        },
        "id": "w1dqT1DaImq1",
        "outputId": "67ddb87a-9dca-4971-a4e2-4d3517b3f0fd"
      },
      "execution_count": 22,
      "outputs": [
        {
          "output_type": "stream",
          "name": "stdout",
          "text": [
            "-2.6666666666666665\n"
          ]
        }
      ]
    },
    {
      "cell_type": "markdown",
      "source": [
        "```\n",
        "-3 || -2 -1  0\n",
        "### for -2.6666 -3 is floor and -2 is ceil\n",
        "```"
      ],
      "metadata": {
        "id": "8pGZL3yMLhX1"
      }
    },
    {
      "cell_type": "markdown",
      "source": [
        "### Identifier\n",
        " Name that we give to our variable\n",
        "\n",
        " Rules to create a valid Identifier:\n",
        " 1. It should start with Alphabets or `_`\n",
        " 2. It can contain alphanumeric or _"
      ],
      "metadata": {
        "id": "d86n76K5L7-e"
      }
    },
    {
      "cell_type": "code",
      "source": [
        "abs = -10000"
      ],
      "metadata": {
        "id": "Il2LmY47LQpp"
      },
      "execution_count": 23,
      "outputs": []
    },
    {
      "cell_type": "code",
      "source": [
        "name = \"Sachin\""
      ],
      "metadata": {
        "id": "PF9pC2VDMSfY"
      },
      "execution_count": 24,
      "outputs": []
    },
    {
      "cell_type": "markdown",
      "source": [],
      "metadata": {
        "id": "NiSkK36EMW9y"
      }
    },
    {
      "cell_type": "code",
      "source": [
        "1a = \"Kaushik\""
      ],
      "metadata": {
        "colab": {
          "base_uri": "https://localhost:8080/",
          "height": 142
        },
        "id": "8xQLF4qKMUPK",
        "outputId": "d71a6968-e94b-4e47-ef71-f6d5f3c2eedb"
      },
      "execution_count": 25,
      "outputs": [
        {
          "output_type": "error",
          "ename": "SyntaxError",
          "evalue": "ignored",
          "traceback": [
            "\u001b[0;36m  File \u001b[0;32m\"<ipython-input-25-14345da5e92f>\"\u001b[0;36m, line \u001b[0;32m1\u001b[0m\n\u001b[0;31m    1a = \"Kaushik\"\u001b[0m\n\u001b[0m    ^\u001b[0m\n\u001b[0;31mSyntaxError\u001b[0m\u001b[0;31m:\u001b[0m invalid decimal literal\n"
          ]
        }
      ]
    },
    {
      "cell_type": "code",
      "source": [
        "a1 = \"Kaushik\""
      ],
      "metadata": {
        "id": "AzKE0webMiXN"
      },
      "execution_count": 26,
      "outputs": []
    },
    {
      "cell_type": "markdown",
      "source": [
        "`_`: is A special Variable in python which stores output of last expression Executed"
      ],
      "metadata": {
        "id": "0rhyclr9MzDM"
      }
    },
    {
      "cell_type": "code",
      "source": [
        "print(_)"
      ],
      "metadata": {
        "colab": {
          "base_uri": "https://localhost:8080/"
        },
        "id": "SRThps-uMrXs",
        "outputId": "b8a2d604-340c-49eb-da30-7c167c6fd5f5"
      },
      "execution_count": 27,
      "outputs": [
        {
          "output_type": "stream",
          "name": "stdout",
          "text": [
            "True\n"
          ]
        }
      ]
    },
    {
      "cell_type": "code",
      "source": [
        "10 +20"
      ],
      "metadata": {
        "colab": {
          "base_uri": "https://localhost:8080/"
        },
        "id": "liWLyTuMM5G7",
        "outputId": "885d88d7-994b-489f-8d72-5b0e8f6dccb9"
      },
      "execution_count": 28,
      "outputs": [
        {
          "output_type": "execute_result",
          "data": {
            "text/plain": [
              "30"
            ]
          },
          "metadata": {},
          "execution_count": 28
        }
      ]
    },
    {
      "cell_type": "code",
      "source": [
        "print(_)"
      ],
      "metadata": {
        "colab": {
          "base_uri": "https://localhost:8080/"
        },
        "id": "vB8l2vopM7jW",
        "outputId": "c90d44ef-6b75-4b72-ba74-a267e173fdab"
      },
      "execution_count": 29,
      "outputs": [
        {
          "output_type": "stream",
          "name": "stdout",
          "text": [
            "30\n"
          ]
        }
      ]
    },
    {
      "cell_type": "code",
      "source": [
        "10/20"
      ],
      "metadata": {
        "colab": {
          "base_uri": "https://localhost:8080/"
        },
        "id": "KPFT2rGkM9_t",
        "outputId": "23538fe8-7362-492b-ca02-70e8d1056adc"
      },
      "execution_count": 30,
      "outputs": [
        {
          "output_type": "execute_result",
          "data": {
            "text/plain": [
              "0.5"
            ]
          },
          "metadata": {},
          "execution_count": 30
        }
      ]
    },
    {
      "cell_type": "code",
      "source": [
        "print(_)"
      ],
      "metadata": {
        "colab": {
          "base_uri": "https://localhost:8080/"
        },
        "id": "voEb-H09NMaC",
        "outputId": "79fab8c5-a538-440b-fe25-bbfa23fe6365"
      },
      "execution_count": 31,
      "outputs": [
        {
          "output_type": "stream",
          "name": "stdout",
          "text": [
            "0.5\n"
          ]
        }
      ]
    },
    {
      "cell_type": "code",
      "source": [
        "_ = 50"
      ],
      "metadata": {
        "id": "traxD5diNNDH"
      },
      "execution_count": 32,
      "outputs": []
    },
    {
      "cell_type": "code",
      "source": [
        "10/20"
      ],
      "metadata": {
        "colab": {
          "base_uri": "https://localhost:8080/"
        },
        "id": "ZzdkBWj_NPk1",
        "outputId": "b5e49868-5c40-4371-e25c-f2864a6b18f1"
      },
      "execution_count": 33,
      "outputs": [
        {
          "output_type": "execute_result",
          "data": {
            "text/plain": [
              "0.5"
            ]
          },
          "metadata": {},
          "execution_count": 33
        }
      ]
    },
    {
      "cell_type": "code",
      "source": [
        "print(_)"
      ],
      "metadata": {
        "colab": {
          "base_uri": "https://localhost:8080/"
        },
        "id": "3MeZuhltNUYH",
        "outputId": "0bbfdd6f-6c1c-43da-de8b-67b5b3356368"
      },
      "execution_count": 34,
      "outputs": [
        {
          "output_type": "stream",
          "name": "stdout",
          "text": [
            "50\n"
          ]
        }
      ]
    },
    {
      "cell_type": "code",
      "source": [
        "print(isinstance(int, object))"
      ],
      "metadata": {
        "colab": {
          "base_uri": "https://localhost:8080/"
        },
        "id": "N3wkKeL6NVY0",
        "outputId": "7834b588-f8d8-4de1-944b-8a6666427990"
      },
      "execution_count": 35,
      "outputs": [
        {
          "output_type": "stream",
          "name": "stdout",
          "text": [
            "True\n"
          ]
        }
      ]
    },
    {
      "cell_type": "markdown",
      "source": [
        "Mutable vs Immutables:"
      ],
      "metadata": {
        "id": "ooMQEEwrODBL"
      }
    },
    {
      "cell_type": "code",
      "source": [
        "a = 10\n",
        "print(type(a))"
      ],
      "metadata": {
        "colab": {
          "base_uri": "https://localhost:8080/"
        },
        "id": "FxKMT3BkNvqu",
        "outputId": "94be7499-cc69-4383-f1f5-e1b3d3b91ba0"
      },
      "execution_count": 36,
      "outputs": [
        {
          "output_type": "stream",
          "name": "stdout",
          "text": [
            "<class 'int'>\n"
          ]
        }
      ]
    },
    {
      "cell_type": "code",
      "source": [
        "a = a+1\n",
        "print(a)"
      ],
      "metadata": {
        "colab": {
          "base_uri": "https://localhost:8080/"
        },
        "id": "D0Y9dUzzO_dw",
        "outputId": "5da8ffb9-3ceb-4af1-e6b1-6cd0674bcd50"
      },
      "execution_count": 37,
      "outputs": [
        {
          "output_type": "stream",
          "name": "stdout",
          "text": [
            "11\n"
          ]
        }
      ]
    },
    {
      "cell_type": "markdown",
      "source": [
        "id: give id of Variables (Memory Location)"
      ],
      "metadata": {
        "id": "Xzd_xKmEPOrt"
      }
    },
    {
      "cell_type": "code",
      "source": [
        "a = 10\n",
        "print(id(a))"
      ],
      "metadata": {
        "colab": {
          "base_uri": "https://localhost:8080/"
        },
        "id": "M3t8VShyPHAJ",
        "outputId": "d90be0ae-ff92-4a4c-ffc4-69e9a5913ffb"
      },
      "execution_count": 38,
      "outputs": [
        {
          "output_type": "stream",
          "name": "stdout",
          "text": [
            "135102514201104\n"
          ]
        }
      ]
    },
    {
      "cell_type": "code",
      "source": [
        "a = a+1\n",
        "print(id(a))\n",
        "print(a)"
      ],
      "metadata": {
        "colab": {
          "base_uri": "https://localhost:8080/"
        },
        "id": "4XWKrnWWPVfE",
        "outputId": "6b6e5af3-61f1-4859-b2bb-fce5a4fba132"
      },
      "execution_count": 39,
      "outputs": [
        {
          "output_type": "stream",
          "name": "stdout",
          "text": [
            "135102514201136\n",
            "11\n"
          ]
        }
      ]
    },
    {
      "cell_type": "code",
      "source": [
        "a = 10\n",
        "b = a\n",
        "print(id(a))\n",
        "print(id(b))"
      ],
      "metadata": {
        "colab": {
          "base_uri": "https://localhost:8080/"
        },
        "id": "xmG4PIaLPfSo",
        "outputId": "d9d766b7-ae85-402d-f9a2-f4d501fa8ff7"
      },
      "execution_count": 40,
      "outputs": [
        {
          "output_type": "stream",
          "name": "stdout",
          "text": [
            "135102514201104\n",
            "135102514201104\n"
          ]
        }
      ]
    },
    {
      "cell_type": "code",
      "source": [
        "a = a +1\n",
        "print(id(a))\n",
        "print(id(b))"
      ],
      "metadata": {
        "colab": {
          "base_uri": "https://localhost:8080/"
        },
        "id": "N69MhfDpSGFO",
        "outputId": "c52a5e1c-89f3-4332-940d-ff5383eea2b5"
      },
      "execution_count": 41,
      "outputs": [
        {
          "output_type": "stream",
          "name": "stdout",
          "text": [
            "135102514201136\n",
            "135102514201104\n"
          ]
        }
      ]
    },
    {
      "cell_type": "code",
      "source": [
        "print(a)\n",
        "print(b)"
      ],
      "metadata": {
        "colab": {
          "base_uri": "https://localhost:8080/"
        },
        "id": "Q8B9sPTiSOPi",
        "outputId": "9b542861-78d8-4275-afa9-63e1d8807786"
      },
      "execution_count": 42,
      "outputs": [
        {
          "output_type": "stream",
          "name": "stdout",
          "text": [
            "11\n",
            "10\n"
          ]
        }
      ]
    },
    {
      "cell_type": "markdown",
      "source": [
        "Mutables:"
      ],
      "metadata": {
        "id": "eKX8LiGoSYTY"
      }
    },
    {
      "cell_type": "code",
      "source": [
        "a = [10]\n",
        "print(a)"
      ],
      "metadata": {
        "colab": {
          "base_uri": "https://localhost:8080/"
        },
        "id": "SVOWCQ86SRtV",
        "outputId": "748e10f1-2f07-4b82-d636-b4e826b4dc2b"
      },
      "execution_count": 43,
      "outputs": [
        {
          "output_type": "stream",
          "name": "stdout",
          "text": [
            "[10]\n"
          ]
        }
      ]
    },
    {
      "cell_type": "code",
      "source": [
        "print(type(a))"
      ],
      "metadata": {
        "colab": {
          "base_uri": "https://localhost:8080/"
        },
        "id": "wmOzUrdJSeRD",
        "outputId": "50f064f7-2313-4b80-af57-1cb639c3d2ed"
      },
      "execution_count": 44,
      "outputs": [
        {
          "output_type": "stream",
          "name": "stdout",
          "text": [
            "<class 'list'>\n"
          ]
        }
      ]
    },
    {
      "cell_type": "code",
      "source": [
        "a.append(11)\n",
        "print(a)"
      ],
      "metadata": {
        "colab": {
          "base_uri": "https://localhost:8080/"
        },
        "id": "HLlgyRPRSfRw",
        "outputId": "a0332aa5-d4dc-4679-8a62-2c87bfa29f14"
      },
      "execution_count": 45,
      "outputs": [
        {
          "output_type": "stream",
          "name": "stdout",
          "text": [
            "[10, 11]\n"
          ]
        }
      ]
    },
    {
      "cell_type": "code",
      "source": [
        "a = [10]\n",
        "print(a)\n",
        "print(\"Before ModificationL:\")\n",
        "print(id(a))\n",
        "a.append(11)\n",
        "print(\"After Modification:\")\n",
        "print(id(a))\n",
        "print(a)"
      ],
      "metadata": {
        "colab": {
          "base_uri": "https://localhost:8080/"
        },
        "id": "Q8C2aBf6SnnU",
        "outputId": "ce9446bc-a5db-4e68-ce60-a100d9441ec8"
      },
      "execution_count": 48,
      "outputs": [
        {
          "output_type": "stream",
          "name": "stdout",
          "text": [
            "[10]\n",
            "Before ModificationL:\n",
            "135101243228224\n",
            "After Modification:\n",
            "135101243228224\n",
            "[10, 11]\n"
          ]
        }
      ]
    },
    {
      "cell_type": "code",
      "source": [
        "import json\n",
        "dict1 = {\"name\":\"Sachin\",\"Occup\":\"Instructor\"}\n",
        "j1 = json.dumps(dict1)\n",
        "print(type(j1))"
      ],
      "metadata": {
        "colab": {
          "base_uri": "https://localhost:8080/"
        },
        "id": "pno5PoPzS4CO",
        "outputId": "029c1dd4-a839-40ab-ec7f-d9ad248730cf"
      },
      "execution_count": 49,
      "outputs": [
        {
          "output_type": "stream",
          "name": "stdout",
          "text": [
            "<class 'str'>\n"
          ]
        }
      ]
    },
    {
      "cell_type": "code",
      "source": [
        "print(j1)"
      ],
      "metadata": {
        "colab": {
          "base_uri": "https://localhost:8080/"
        },
        "id": "s1IXN-BtVqiX",
        "outputId": "d045a15d-24d5-4a08-dafb-6091eaf7c9b8"
      },
      "execution_count": 50,
      "outputs": [
        {
          "output_type": "stream",
          "name": "stdout",
          "text": [
            "{\"name\": \"Sachin\", \"Occup\": \"Instructor\"}\n"
          ]
        }
      ]
    },
    {
      "cell_type": "code",
      "source": [],
      "metadata": {
        "id": "4h24y4yIVsdN"
      },
      "execution_count": null,
      "outputs": []
    }
  ]
}