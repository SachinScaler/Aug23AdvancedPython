{
  "nbformat": 4,
  "nbformat_minor": 0,
  "metadata": {
    "colab": {
      "provenance": [],
      "authorship_tag": "ABX9TyOONzJ74SRoiJEvu7aetNvd",
      "include_colab_link": true
    },
    "kernelspec": {
      "name": "python3",
      "display_name": "Python 3"
    },
    "language_info": {
      "name": "python"
    }
  },
  "cells": [
    {
      "cell_type": "markdown",
      "metadata": {
        "id": "view-in-github",
        "colab_type": "text"
      },
      "source": [
        "<a href=\"https://colab.research.google.com/github/SachinScaler/Aug23AdvancedPython/blob/main/Time_and_Space_Complexity.ipynb\" target=\"_parent\"><img src=\"https://colab.research.google.com/assets/colab-badge.svg\" alt=\"Open In Colab\"/></a>"
      ]
    },
    {
      "cell_type": "code",
      "source": [
        "# a\n",
        "n = 10\n",
        "for i in range(n):\n",
        "        print(\"do Something\")"
      ],
      "metadata": {
        "id": "XLKtt_oq8EAa"
      },
      "execution_count": null,
      "outputs": []
    },
    {
      "cell_type": "code",
      "source": [
        "# b\n",
        "n = 10\n",
        "for i in range(n): #n\n",
        "    for j in range(0, n):#n\n",
        "        print(\"Inner Loop\") #n\n",
        "        break #n\n",
        "    print(\"Outer Loop\")"
      ],
      "metadata": {
        "id": "_0ZQaxl18Fdd"
      },
      "execution_count": null,
      "outputs": []
    },
    {
      "cell_type": "code",
      "execution_count": null,
      "metadata": {
        "id": "Gufki-cK6Qau"
      },
      "outputs": [],
      "source": [
        "# c\n",
        "n = 10\n",
        "for i in range(n): #n\n",
        "    for j in range(0, n, n//2):\n",
        "        for k in range(n): # 2n\n",
        "            break # 2n\n",
        "        print(\"do Something\")"
      ]
    },
    {
      "cell_type": "code",
      "source": [
        "n = 10\n",
        "for i in range(n):\n",
        "    for j in range(0, n, n//2):\n",
        "        print(\"do Something\")"
      ],
      "metadata": {
        "id": "wBI0OxgD8jYk"
      },
      "execution_count": null,
      "outputs": []
    },
    {
      "cell_type": "markdown",
      "source": [
        "big O"
      ],
      "metadata": {
        "id": "BV4a47Al8eJh"
      }
    },
    {
      "cell_type": "code",
      "source": [
        "def func(n):  # 1\n",
        "    a = 10 # 1\n",
        "    b = 20 # 1\n",
        "    c = 30 # 1\n",
        "    for i in range(n): # n\n",
        "        print(i)      # n\n",
        "\n",
        "func(10) # x\n"
      ],
      "metadata": {
        "id": "xWuNhicm_bjp"
      },
      "execution_count": null,
      "outputs": []
    },
    {
      "cell_type": "code",
      "source": [],
      "metadata": {
        "id": "ExuFwYznBBi4"
      },
      "execution_count": null,
      "outputs": []
    },
    {
      "cell_type": "markdown",
      "source": [
        "- n =10: x = y\n",
        "- n = 20: x=y\n",
        "with n is the excuting time changing\n",
        "- o(1)\n",
        "- Constant Time Complexity\n"
      ],
      "metadata": {
        "id": "VUQD3Z_B_xuc"
      }
    },
    {
      "cell_type": "code",
      "source": [
        "n = 5\n",
        "for i in range(n): # n\n",
        "    print(i)      # n"
      ],
      "metadata": {
        "id": "hBlwnNU__xLv"
      },
      "execution_count": null,
      "outputs": []
    },
    {
      "cell_type": "markdown",
      "source": [
        "x = 2n+c\n",
        "- o(n)\n",
        "\n"
      ],
      "metadata": {
        "id": "NlSoroDbAl7d"
      }
    },
    {
      "cell_type": "code",
      "source": [
        "n = 5\n",
        "for i in range(n): # n\n",
        "    print(i) #n\n",
        "    for j in range(n): # n\n",
        "        break # n\n",
        "\n",
        "# 4n+c: o(n)"
      ],
      "metadata": {
        "id": "46cu9ZhfAldW"
      },
      "execution_count": null,
      "outputs": []
    },
    {
      "cell_type": "code",
      "source": [
        "n = 5\n",
        "for i in range(n): # n +c\n",
        "    print(i) #n +c\n",
        "    for j in range(0, n, n//2): # n+c\n",
        "        print(\"Something\") # 2n +\n",
        "\n",
        "# n+n+n+2n+c ==  5n+c\n"
      ],
      "metadata": {
        "id": "GHCHUUe1B1jU"
      },
      "execution_count": null,
      "outputs": []
    },
    {
      "cell_type": "markdown",
      "source": [
        "o(n)"
      ],
      "metadata": {
        "id": "JQZogeGlCprS"
      }
    },
    {
      "cell_type": "code",
      "source": [],
      "metadata": {
        "id": "Pbqwc1M7CpM0"
      },
      "execution_count": null,
      "outputs": []
    },
    {
      "cell_type": "code",
      "source": [],
      "metadata": {
        "id": "O020L0ZwCn7D"
      },
      "execution_count": null,
      "outputs": []
    },
    {
      "cell_type": "code",
      "source": [
        "n =100000\n",
        "for j in range(0, n, n//2): # n\n",
        "        print(\"Something\") # n"
      ],
      "metadata": {
        "colab": {
          "base_uri": "https://localhost:8080/"
        },
        "id": "puaCCJPECFJc",
        "outputId": "aec7ac15-7969-43ae-a089-8409668c3a21"
      },
      "execution_count": 3,
      "outputs": [
        {
          "output_type": "stream",
          "name": "stdout",
          "text": [
            "Something\n",
            "Something\n"
          ]
        }
      ]
    },
    {
      "cell_type": "markdown",
      "source": [
        "- Linear Time Complexity- o(n)"
      ],
      "metadata": {
        "id": "PZ5YPxmnDktl"
      }
    },
    {
      "cell_type": "code",
      "source": [
        "# algo 1\n",
        "n = 10\n",
        "a = []\n",
        "def func(n):\n",
        "    a.append(n)\n",
        "    a.append(n)\n",
        "    a.append(n)\n",
        "    a.append(n)\n",
        "    a.append(n)\n",
        "func()\n",
        "\n",
        "# algo 2\n",
        "a = []\n",
        "for i in range(n):\n",
        "    a.append(n)\n",
        "# which one has less time complexity ? 1st O(1) and Second o(n)"
      ],
      "metadata": {
        "id": "ab9m2xT-CLyR"
      },
      "execution_count": null,
      "outputs": []
    },
    {
      "cell_type": "markdown",
      "source": [
        "Quadratic TC"
      ],
      "metadata": {
        "id": "KxmQ8-MPEqi0"
      }
    },
    {
      "cell_type": "code",
      "source": [
        "x=3\n",
        "for i in range(x): # x\n",
        "    for j in range(x): # x^2\n",
        "        print(\"Hello\") # x^2"
      ],
      "metadata": {
        "colab": {
          "base_uri": "https://localhost:8080/"
        },
        "id": "7CzXRQdhEpex",
        "outputId": "1f9e890a-c654-4621-dd90-51d257e76d77"
      },
      "execution_count": 4,
      "outputs": [
        {
          "output_type": "stream",
          "name": "stdout",
          "text": [
            "Hello\n",
            "Hello\n",
            "Hello\n",
            "Hello\n",
            "Hello\n",
            "Hello\n",
            "Hello\n",
            "Hello\n",
            "Hello\n"
          ]
        }
      ]
    },
    {
      "cell_type": "markdown",
      "source": [
        "- x+x^2+x^2+c--> (2x^2)+x+c\n",
        "- x^2"
      ],
      "metadata": {
        "id": "fhTrX1DRFFJ-"
      }
    },
    {
      "cell_type": "code",
      "source": [
        "x=10\n",
        "for i in range(x): # x\n",
        "    for j in range(x): # x^2\n",
        "        print(\"Hello\") # x^2\n",
        "        break"
      ],
      "metadata": {
        "colab": {
          "base_uri": "https://localhost:8080/"
        },
        "id": "VsuHxx-OE_EM",
        "outputId": "746b9582-3cf4-41a8-89ea-aef382a54fb5"
      },
      "execution_count": 6,
      "outputs": [
        {
          "output_type": "stream",
          "name": "stdout",
          "text": [
            "Hello\n",
            "Hello\n",
            "Hello\n",
            "Hello\n",
            "Hello\n",
            "Hello\n",
            "Hello\n",
            "Hello\n",
            "Hello\n",
            "Hello\n"
          ]
        }
      ]
    },
    {
      "cell_type": "code",
      "source": [
        "x=10\n",
        "n = 0\n",
        "for i in range(x): # x\n",
        "    for j in range(0,x,x//3): # x//2\n",
        "        print(\"Hello\") # 3x\n",
        "        n+=1\n",
        "print(n)"
      ],
      "metadata": {
        "colab": {
          "base_uri": "https://localhost:8080/"
        },
        "id": "AKHJnwLVGYiO",
        "outputId": "3ad87372-3672-42ac-8771-a1516ce69102"
      },
      "execution_count": 11,
      "outputs": [
        {
          "output_type": "stream",
          "name": "stdout",
          "text": [
            "Hello\n",
            "Hello\n",
            "Hello\n",
            "Hello\n",
            "Hello\n",
            "Hello\n",
            "Hello\n",
            "Hello\n",
            "Hello\n",
            "Hello\n",
            "Hello\n",
            "Hello\n",
            "Hello\n",
            "Hello\n",
            "Hello\n",
            "Hello\n",
            "Hello\n",
            "Hello\n",
            "Hello\n",
            "Hello\n",
            "20\n"
          ]
        }
      ]
    },
    {
      "cell_type": "code",
      "source": [
        "n =10\n",
        "for i in range(n): # n\n",
        "    for j in range(i):\n",
        "        print(\"hello\") # 0+1+2+3.............+n=N(n+1)/2 =->n^2/2+n2"
      ],
      "metadata": {
        "id": "-jP2EO_-KNX8"
      },
      "execution_count": null,
      "outputs": []
    },
    {
      "cell_type": "markdown",
      "source": [
        "- Logarithmic TC\n",
        "- Exponential TC\n",
        "### Space Complexity\n",
        "- recursion\n",
        "\n"
      ],
      "metadata": {
        "id": "mjpnWXwlHOGo"
      }
    },
    {
      "cell_type": "markdown",
      "source": [
        "### Logarithic TC"
      ],
      "metadata": {
        "id": "zILF97dzK6k6"
      }
    },
    {
      "cell_type": "code",
      "source": [
        "n = 16\n",
        "while n>0:\n",
        "    print(\"Hello\") #4-2-1\n",
        "    n = n//2"
      ],
      "metadata": {
        "colab": {
          "base_uri": "https://localhost:8080/"
        },
        "id": "Ws124zubGjqc",
        "outputId": "0dc77523-35ed-41a2-bb46-34fc37cdb1ac"
      },
      "execution_count": 16,
      "outputs": [
        {
          "output_type": "stream",
          "name": "stdout",
          "text": [
            "Hello\n",
            "Hello\n",
            "Hello\n",
            "Hello\n",
            "Hello\n"
          ]
        }
      ]
    },
    {
      "cell_type": "code",
      "source": [
        "n = 10\n",
        "m = n\n",
        "for i in range(m):\n",
        "    n = m\n",
        "    while n>0:\n",
        "        print(\"Hello\") #4-2-1\n",
        "        n = n//2 # log(n)+1\n",
        "\n",
        "# nlogn"
      ],
      "metadata": {
        "colab": {
          "base_uri": "https://localhost:8080/"
        },
        "id": "a4_XLEw_LJVX",
        "outputId": "8bce54e6-9011-4654-ca91-bc24b10d00b8"
      },
      "execution_count": 18,
      "outputs": [
        {
          "output_type": "stream",
          "name": "stdout",
          "text": [
            "Hello\n",
            "Hello\n",
            "Hello\n",
            "Hello\n"
          ]
        }
      ]
    },
    {
      "cell_type": "code",
      "source": [
        "# space complexity\n",
        "def fact(x):\n",
        "    if x==0:\n",
        "        return 1\n",
        "    else:\n",
        "        return x*fact(x-1)\n",
        "fact(5)"
      ],
      "metadata": {
        "colab": {
          "base_uri": "https://localhost:8080/"
        },
        "id": "nbcsvXlCODGb",
        "outputId": "557574a5-7d95-48dd-eb52-22400a3165c0"
      },
      "execution_count": 23,
      "outputs": [
        {
          "output_type": "execute_result",
          "data": {
            "text/plain": [
              "120"
            ]
          },
          "metadata": {},
          "execution_count": 23
        }
      ]
    },
    {
      "cell_type": "markdown",
      "source": [
        "HW: Optimize this to avoid Recursion"
      ],
      "metadata": {
        "id": "ZoRHONBGQpx0"
      }
    },
    {
      "cell_type": "markdown",
      "source": [
        "Fib"
      ],
      "metadata": {
        "id": "o59gdMVZNwJK"
      }
    },
    {
      "cell_type": "code",
      "source": [
        "##\n",
        "def fib(n):\n",
        "    if n<=1:\n",
        "        return n\n",
        "    else:\n",
        "        return fib(n-1)+fib(n-2)\n",
        "n = 7\n",
        "fib(n)"
      ],
      "metadata": {
        "colab": {
          "base_uri": "https://localhost:8080/"
        },
        "id": "TEBh6I8cMpb_",
        "outputId": "add6d2be-6f08-4774-b46f-14580ad2e578"
      },
      "execution_count": 21,
      "outputs": [
        {
          "output_type": "execute_result",
          "data": {
            "text/plain": [
              "13"
            ]
          },
          "metadata": {},
          "execution_count": 21
        }
      ]
    },
    {
      "cell_type": "markdown",
      "source": [
        "HW: Optimize this to avoid Recursion"
      ],
      "metadata": {
        "id": "QSCGpWb6Quv7"
      }
    },
    {
      "cell_type": "markdown",
      "source": [
        "#### Memozation of Fibonacci"
      ],
      "metadata": {
        "id": "SueWQfsIR5WV"
      }
    },
    {
      "cell_type": "code",
      "source": [
        "# Tabulation\n",
        "def fib_tab(n):\n",
        "    list1 = [0,1]\n",
        "    if n<=1:\n",
        "        return list1[n]\n",
        "    else:\n",
        "        while n-2>=0:\n",
        "            out= list1[-1] + list1[-2]\n",
        "            list1.append(out)\n",
        "            n-=1\n",
        "    return list1[-1]\n",
        "# TC: o(n)\n",
        "# sc: o(n)--> o(1)"
      ],
      "metadata": {
        "id": "w4mPvYmZQt0Z"
      },
      "execution_count": null,
      "outputs": []
    },
    {
      "cell_type": "markdown",
      "source": [
        "### Linear to Binary"
      ],
      "metadata": {
        "id": "1_Cot8YtS5-U"
      }
    },
    {
      "cell_type": "code",
      "source": [
        "list1 = [4,5,6,7,10,11,9]\n",
        "target = 10\n",
        "def linear_search(list1, target):\n",
        "\n",
        "    if target in list1:\n",
        "        return \"present\"\n",
        "    else:\n",
        "        return \"Not present\"\n",
        "\n",
        "# o(n)"
      ],
      "metadata": {
        "id": "0tpP-hVTN89o"
      },
      "execution_count": null,
      "outputs": []
    },
    {
      "cell_type": "code",
      "source": [
        "# binary Search\n",
        "def binary_search(list1, target):\n",
        "    list1.sort() # nlogn + log(n)\n",
        "    i,j=0,len(list1)-1\n",
        "    while i<=j: # stopping criteria i>j\n",
        "        mid_point = (i+j)//2\n",
        "        if list1[mid_point]>target:\n",
        "            j = mid_point-1\n",
        "        elif list1[mid_point]<target:\n",
        "            i = mid_point+1\n",
        "        else:\n",
        "             return mid_point\n",
        "    return \"Target Not Found\"\n",
        "list1 = [0,1,2,3,4,5,6]\n",
        "target = -1\n",
        "binary_search(list1, target)"
      ],
      "metadata": {
        "colab": {
          "base_uri": "https://localhost:8080/",
          "height": 56
        },
        "id": "W6V8dFRAVxEm",
        "outputId": "7dd6056e-28f4-4fd1-c482-13f0327b8872"
      },
      "execution_count": 25,
      "outputs": [
        {
          "output_type": "execute_result",
          "data": {
            "text/plain": [
              "'Target Not Found'"
            ],
            "application/vnd.google.colaboratory.intrinsic+json": {
              "type": "string"
            }
          },
          "metadata": {},
          "execution_count": 25
        }
      ]
    },
    {
      "cell_type": "code",
      "source": [
        "import math\n",
        "n =1000000000000\n",
        "\n",
        "math.log(n,2)"
      ],
      "metadata": {
        "colab": {
          "base_uri": "https://localhost:8080/"
        },
        "id": "Tpw26aecVx-f",
        "outputId": "241afb43-0ada-494a-c901-8c70a0eabdc0"
      },
      "execution_count": 26,
      "outputs": [
        {
          "output_type": "execute_result",
          "data": {
            "text/plain": [
              "39.86313713864835"
            ]
          },
          "metadata": {},
          "execution_count": 26
        }
      ]
    },
    {
      "cell_type": "code",
      "source": [
        "arr = [(1,2),(2,3),(2,3),(1,2),(5,6)]\n",
        "print([ (a,b) for i, [a,b] in enumerate(arr) if not any ((d==b and a==c) for c, d in arr[ : i])])"
      ],
      "metadata": {
        "colab": {
          "base_uri": "https://localhost:8080/"
        },
        "id": "vUs7fhVXZ4ns",
        "outputId": "42629f0c-eadd-468f-9ddf-dcce7370d177"
      },
      "execution_count": 27,
      "outputs": [
        {
          "output_type": "stream",
          "name": "stdout",
          "text": [
            "[(1, 2), (2, 3), (5, 6)]\n"
          ]
        }
      ]
    },
    {
      "cell_type": "code",
      "source": [
        "for i, [a,b] in enumerate(arr):\n",
        "\n",
        "[(1,2 ), (2,3)]\n",
        "#2, 3 = d and c\n"
      ],
      "metadata": {
        "id": "-J7It5t-aQhm"
      },
      "execution_count": null,
      "outputs": []
    },
    {
      "cell_type": "markdown",
      "source": [
        " #  filtering in comprehnsion and any"
      ],
      "metadata": {
        "id": "8rrLXutYbX9C"
      }
    },
    {
      "cell_type": "code",
      "source": [
        "not(any([True,True, True])) # e1 or e2 or e3..."
      ],
      "metadata": {
        "colab": {
          "base_uri": "https://localhost:8080/"
        },
        "id": "-yT--3IXbbdh",
        "outputId": "394e3b17-02f9-4004-84d0-5135a83d6e15"
      },
      "execution_count": 35,
      "outputs": [
        {
          "output_type": "execute_result",
          "data": {
            "text/plain": [
              "False"
            ]
          },
          "metadata": {},
          "execution_count": 35
        }
      ]
    },
    {
      "cell_type": "code",
      "source": [
        "all([True,True, True]) # e1 and e2 and e3"
      ],
      "metadata": {
        "colab": {
          "base_uri": "https://localhost:8080/"
        },
        "id": "P7ZnSX46bmCn",
        "outputId": "63420f0a-83b3-4874-f410-cf0a9e3ca064"
      },
      "execution_count": 36,
      "outputs": [
        {
          "output_type": "execute_result",
          "data": {
            "text/plain": [
              "True"
            ]
          },
          "metadata": {},
          "execution_count": 36
        }
      ]
    },
    {
      "cell_type": "code",
      "source": [],
      "metadata": {
        "id": "3dcrO3t5bvJL"
      },
      "execution_count": null,
      "outputs": []
    }
  ]
}