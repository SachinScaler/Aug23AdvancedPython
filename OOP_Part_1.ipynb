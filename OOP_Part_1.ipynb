{
  "nbformat": 4,
  "nbformat_minor": 0,
  "metadata": {
    "colab": {
      "provenance": [],
      "authorship_tag": "ABX9TyOYUlnf73hwyerUBK9h9N8v",
      "include_colab_link": true
    },
    "kernelspec": {
      "name": "python3",
      "display_name": "Python 3"
    },
    "language_info": {
      "name": "python"
    }
  },
  "cells": [
    {
      "cell_type": "markdown",
      "metadata": {
        "id": "view-in-github",
        "colab_type": "text"
      },
      "source": [
        "<a href=\"https://colab.research.google.com/github/SachinScaler/Aug23AdvancedPython/blob/main/OOP_Part_1.ipynb\" target=\"_parent\"><img src=\"https://colab.research.google.com/assets/colab-badge.svg\" alt=\"Open In Colab\"/></a>"
      ]
    },
    {
      "cell_type": "code",
      "execution_count": 1,
      "metadata": {
        "id": "KoDci6PYenPz"
      },
      "outputs": [],
      "source": [
        "class Student:\n",
        "    pass\n",
        "\n",
        "s1 = Student() # instantiating Student Class\n",
        "s2 = Student()"
      ]
    },
    {
      "cell_type": "code",
      "source": [
        "s1.name = \"Nitesh\"\n",
        "s2.name = \"Aryan\"\n",
        "s2.id=101"
      ],
      "metadata": {
        "id": "M7ogwIKYmbmP"
      },
      "execution_count": 3,
      "outputs": []
    },
    {
      "cell_type": "code",
      "source": [
        "# properties are also instance Variables"
      ],
      "metadata": {
        "id": "lC1joje7mjU6"
      },
      "execution_count": 4,
      "outputs": []
    },
    {
      "cell_type": "code",
      "source": [
        "print(s1.id)"
      ],
      "metadata": {
        "colab": {
          "base_uri": "https://localhost:8080/",
          "height": 192
        },
        "id": "hIyj3C_Ymsp7",
        "outputId": "468c6b8c-6bff-478f-a16b-4ce54d150ef1"
      },
      "execution_count": 5,
      "outputs": [
        {
          "output_type": "error",
          "ename": "AttributeError",
          "evalue": "ignored",
          "traceback": [
            "\u001b[0;31m---------------------------------------------------------------------------\u001b[0m",
            "\u001b[0;31mAttributeError\u001b[0m                            Traceback (most recent call last)",
            "\u001b[0;32m<ipython-input-5-13fefe9127e7>\u001b[0m in \u001b[0;36m<cell line: 1>\u001b[0;34m()\u001b[0m\n\u001b[0;32m----> 1\u001b[0;31m \u001b[0mprint\u001b[0m\u001b[0;34m(\u001b[0m\u001b[0ms1\u001b[0m\u001b[0;34m.\u001b[0m\u001b[0mid\u001b[0m\u001b[0;34m)\u001b[0m\u001b[0;34m\u001b[0m\u001b[0;34m\u001b[0m\u001b[0m\n\u001b[0m",
            "\u001b[0;31mAttributeError\u001b[0m: 'Student' object has no attribute 'id'"
          ]
        }
      ]
    },
    {
      "cell_type": "code",
      "source": [
        "s1.__dict__"
      ],
      "metadata": {
        "colab": {
          "base_uri": "https://localhost:8080/"
        },
        "id": "TEpvePvwmz8j",
        "outputId": "c75c1b3f-f4ac-4e7d-8231-e93bd45dc606"
      },
      "execution_count": 6,
      "outputs": [
        {
          "output_type": "execute_result",
          "data": {
            "text/plain": [
              "{'name': 'Nitesh'}"
            ]
          },
          "metadata": {},
          "execution_count": 6
        }
      ]
    },
    {
      "cell_type": "code",
      "source": [
        "s2.__dict__"
      ],
      "metadata": {
        "colab": {
          "base_uri": "https://localhost:8080/"
        },
        "id": "ulVA_T_inPht",
        "outputId": "3307c72d-4948-4695-c9cb-dd147d3ac9f0"
      },
      "execution_count": 7,
      "outputs": [
        {
          "output_type": "execute_result",
          "data": {
            "text/plain": [
              "{'name': 'Aryan', 'id': 101}"
            ]
          },
          "metadata": {},
          "execution_count": 7
        }
      ]
    },
    {
      "cell_type": "code",
      "source": [
        "s1.name = \"Nitesh\"\n",
        "s2.name = \"Aryan\"\n",
        "s2.id=101\n",
        "s1.id=102\n"
      ],
      "metadata": {
        "id": "9k2WzTLxnRDG"
      },
      "execution_count": 8,
      "outputs": []
    },
    {
      "cell_type": "code",
      "source": [
        "isinstance(s1,Student)"
      ],
      "metadata": {
        "colab": {
          "base_uri": "https://localhost:8080/"
        },
        "id": "bRX3wF2KniKW",
        "outputId": "1af07665-7aab-4a7e-9a3f-6e3b56d361ff"
      },
      "execution_count": 9,
      "outputs": [
        {
          "output_type": "execute_result",
          "data": {
            "text/plain": [
              "True"
            ]
          },
          "metadata": {},
          "execution_count": 9
        }
      ]
    },
    {
      "cell_type": "code",
      "source": [
        "isinstance(s1,object)"
      ],
      "metadata": {
        "colab": {
          "base_uri": "https://localhost:8080/"
        },
        "id": "fLuJRD3bnozs",
        "outputId": "e1dd0c5a-2a19-401c-a593-58e53770a05d"
      },
      "execution_count": 10,
      "outputs": [
        {
          "output_type": "execute_result",
          "data": {
            "text/plain": [
              "True"
            ]
          },
          "metadata": {},
          "execution_count": 10
        }
      ]
    },
    {
      "cell_type": "code",
      "source": [
        "isinstance(Student,object)"
      ],
      "metadata": {
        "colab": {
          "base_uri": "https://localhost:8080/"
        },
        "id": "U3rsUg19nrUH",
        "outputId": "99d01a52-79c8-4bf6-8a36-bf17ea11a893"
      },
      "execution_count": 11,
      "outputs": [
        {
          "output_type": "execute_result",
          "data": {
            "text/plain": [
              "True"
            ]
          },
          "metadata": {},
          "execution_count": 11
        }
      ]
    },
    {
      "cell_type": "code",
      "source": [
        "class Student(object): # class Student:\n",
        "    pass"
      ],
      "metadata": {
        "id": "K5br8wa3nvFw"
      },
      "execution_count": 12,
      "outputs": []
    },
    {
      "cell_type": "markdown",
      "source": [
        "### Init: Intializer"
      ],
      "metadata": {
        "id": "myIj5D8roAmS"
      }
    },
    {
      "cell_type": "code",
      "source": [
        "class Student:\n",
        "    def __init__(self, name,id):\n",
        "        self.name = name\n",
        "        self.id = id\n",
        "\n",
        "s1 = Student(\"Nitesh\",101 ) # instantiating Student Class\n",
        "s2 = Student(\"Aryan\", 102)"
      ],
      "metadata": {
        "id": "LXF9ataLncg4"
      },
      "execution_count": 14,
      "outputs": []
    },
    {
      "cell_type": "code",
      "source": [
        "s1.__dict__"
      ],
      "metadata": {
        "colab": {
          "base_uri": "https://localhost:8080/"
        },
        "id": "xuduLsc1oMDa",
        "outputId": "3333b2fc-3649-49ee-af7b-e8a0c4ac301e"
      },
      "execution_count": 15,
      "outputs": [
        {
          "output_type": "execute_result",
          "data": {
            "text/plain": [
              "{'name': 'Nitesh', 'id': 101}"
            ]
          },
          "metadata": {},
          "execution_count": 15
        }
      ]
    },
    {
      "cell_type": "code",
      "source": [
        "s2.__dict__"
      ],
      "metadata": {
        "colab": {
          "base_uri": "https://localhost:8080/"
        },
        "id": "CrZfXKc0odSt",
        "outputId": "b5285f6b-401e-439f-a490-8f690ecf3a51"
      },
      "execution_count": 16,
      "outputs": [
        {
          "output_type": "execute_result",
          "data": {
            "text/plain": [
              "{'name': 'Aryan', 'id': 102}"
            ]
          },
          "metadata": {},
          "execution_count": 16
        }
      ]
    },
    {
      "cell_type": "code",
      "source": [
        "class A:\n",
        "    def func():\n",
        "        print(\"Hello\")\n",
        "\n",
        "a1 = A()\n",
        "a1.func() # a1.attributename, a1.function()"
      ],
      "metadata": {
        "colab": {
          "base_uri": "https://localhost:8080/",
          "height": 225
        },
        "id": "NXAc303doev2",
        "outputId": "d416bc83-9298-4df9-ebc7-029048d3f0d5"
      },
      "execution_count": 19,
      "outputs": [
        {
          "output_type": "error",
          "ename": "TypeError",
          "evalue": "ignored",
          "traceback": [
            "\u001b[0;31m---------------------------------------------------------------------------\u001b[0m",
            "\u001b[0;31mTypeError\u001b[0m                                 Traceback (most recent call last)",
            "\u001b[0;32m<ipython-input-19-36283b22ac21>\u001b[0m in \u001b[0;36m<cell line: 6>\u001b[0;34m()\u001b[0m\n\u001b[1;32m      4\u001b[0m \u001b[0;34m\u001b[0m\u001b[0m\n\u001b[1;32m      5\u001b[0m \u001b[0ma1\u001b[0m \u001b[0;34m=\u001b[0m \u001b[0mA\u001b[0m\u001b[0;34m(\u001b[0m\u001b[0;34m)\u001b[0m\u001b[0;34m\u001b[0m\u001b[0;34m\u001b[0m\u001b[0m\n\u001b[0;32m----> 6\u001b[0;31m \u001b[0ma1\u001b[0m\u001b[0;34m.\u001b[0m\u001b[0mfunc\u001b[0m\u001b[0;34m(\u001b[0m\u001b[0;34m)\u001b[0m \u001b[0;31m# a1.attributename, a1.function()\u001b[0m\u001b[0;34m\u001b[0m\u001b[0;34m\u001b[0m\u001b[0m\n\u001b[0m",
            "\u001b[0;31mTypeError\u001b[0m: A.func() takes 0 positional arguments but 1 was given"
          ]
        }
      ]
    },
    {
      "cell_type": "markdown",
      "source": [
        "a1.func() --> A.func(a1)"
      ],
      "metadata": {
        "id": "-7T_xFW5ryE8"
      }
    },
    {
      "cell_type": "code",
      "source": [
        "class A:\n",
        "    def func(obj):\n",
        "        print(\"Hello\")\n",
        "\n",
        "a1 = A()\n",
        "a1.func() # a1.attributename, a1.function()"
      ],
      "metadata": {
        "colab": {
          "base_uri": "https://localhost:8080/"
        },
        "id": "t8j4y-FDrV65",
        "outputId": "27a4c2ec-ce69-4eea-a8e4-c95386a6b727"
      },
      "execution_count": 20,
      "outputs": [
        {
          "output_type": "stream",
          "name": "stdout",
          "text": [
            "Hello\n"
          ]
        }
      ]
    },
    {
      "cell_type": "code",
      "source": [
        "a2 = A()\n",
        "a2.func()"
      ],
      "metadata": {
        "colab": {
          "base_uri": "https://localhost:8080/"
        },
        "id": "GOoMqdrNr8Yx",
        "outputId": "1c78654b-92fd-486f-e650-535406421369"
      },
      "execution_count": 21,
      "outputs": [
        {
          "output_type": "stream",
          "name": "stdout",
          "text": [
            "Hello\n"
          ]
        }
      ]
    },
    {
      "cell_type": "code",
      "source": [
        "class A:\n",
        "    def func(obj):\n",
        "        print(id(obj))\n",
        "        print(\"Hello\")\n",
        "\n",
        "a1 = A()\n",
        "print(id(a1))"
      ],
      "metadata": {
        "colab": {
          "base_uri": "https://localhost:8080/"
        },
        "id": "xV3pOAmHsB7J",
        "outputId": "9203e611-ff88-4514-d491-118a5220cb74"
      },
      "execution_count": 22,
      "outputs": [
        {
          "output_type": "stream",
          "name": "stdout",
          "text": [
            "132860143493824\n"
          ]
        }
      ]
    },
    {
      "cell_type": "code",
      "source": [
        "a1.func()"
      ],
      "metadata": {
        "colab": {
          "base_uri": "https://localhost:8080/"
        },
        "id": "iO2Du_5csXnB",
        "outputId": "014e68f1-9efb-4a1a-cc4b-21132768c71a"
      },
      "execution_count": 23,
      "outputs": [
        {
          "output_type": "stream",
          "name": "stdout",
          "text": [
            "132860143493824\n",
            "Hello\n"
          ]
        }
      ]
    },
    {
      "cell_type": "code",
      "source": [
        "a100 = A()\n",
        "print(id(a100))\n",
        "a100.func()"
      ],
      "metadata": {
        "colab": {
          "base_uri": "https://localhost:8080/"
        },
        "id": "gdj58yJ9seDY",
        "outputId": "83746898-1804-4a15-e6ee-d047852db3b8"
      },
      "execution_count": 24,
      "outputs": [
        {
          "output_type": "stream",
          "name": "stdout",
          "text": [
            "132860143487824\n",
            "132860143487824\n",
            "Hello\n"
          ]
        }
      ]
    },
    {
      "cell_type": "code",
      "source": [
        "class A:\n",
        "    def func(self):\n",
        "        print(id(self))\n",
        "        print(\"Hello\")\n",
        "\n",
        "# self will store the current object calling the function\n",
        "a1 = A()\n",
        "a2 = A()\n",
        "a1.func() # A.func(a1)\n",
        "a2.func()\n"
      ],
      "metadata": {
        "colab": {
          "base_uri": "https://localhost:8080/"
        },
        "id": "2jRoJaV7si_w",
        "outputId": "34eb3aec-35ae-4e12-cd65-f82cc1383106"
      },
      "execution_count": 26,
      "outputs": [
        {
          "output_type": "stream",
          "name": "stdout",
          "text": [
            "132860143496752\n",
            "Hello\n",
            "132860143492672\n",
            "Hello\n"
          ]
        }
      ]
    },
    {
      "cell_type": "code",
      "source": [],
      "metadata": {
        "colab": {
          "base_uri": "https://localhost:8080/"
        },
        "id": "8WAPYtbitN2h",
        "outputId": "4a903657-2292-4537-b02d-6a7ce01a1663"
      },
      "execution_count": 27,
      "outputs": [
        {
          "output_type": "stream",
          "name": "stdout",
          "text": [
            "132860143496752\n",
            "Hello\n"
          ]
        }
      ]
    },
    {
      "cell_type": "code",
      "source": [
        "def Hello(name):\n",
        "    print(\"Hello \", name)\n",
        "\n",
        "Hello(\"Sachin\")"
      ],
      "metadata": {
        "colab": {
          "base_uri": "https://localhost:8080/"
        },
        "id": "RInG3IlWtbOw",
        "outputId": "d4dd851d-9b19-4d2d-a127-0bb202b07fb7"
      },
      "execution_count": 28,
      "outputs": [
        {
          "output_type": "stream",
          "name": "stdout",
          "text": [
            "Hello  Sachin\n"
          ]
        }
      ]
    },
    {
      "cell_type": "code",
      "source": [
        "class Student: # class Student:\n",
        "    def intro(self):\n",
        "        print(\"Hi My name is\", self.name) # self.name= s1.name and s2.name\n",
        "\n",
        "s1 = Student()\n",
        "s2 = Student()\n",
        "\n",
        "s1.name = \"Nitesh\"\n",
        "s2.name = \"Aryan\"\n",
        "s2.id=101\n",
        "s1.id=102"
      ],
      "metadata": {
        "id": "R0bdgy1ntomD"
      },
      "execution_count": 37,
      "outputs": []
    },
    {
      "cell_type": "code",
      "source": [
        "print(s1.name)"
      ],
      "metadata": {
        "colab": {
          "base_uri": "https://localhost:8080/"
        },
        "id": "cepKMtAot5t1",
        "outputId": "0ed94905-927d-4dcb-8b7f-fb203a248165"
      },
      "execution_count": 38,
      "outputs": [
        {
          "output_type": "stream",
          "name": "stdout",
          "text": [
            "Nitesh\n"
          ]
        }
      ]
    },
    {
      "cell_type": "code",
      "source": [
        "s1.intro()"
      ],
      "metadata": {
        "colab": {
          "base_uri": "https://localhost:8080/"
        },
        "id": "DBkCKuI1uG07",
        "outputId": "964c7d48-a65c-4df9-bbdd-a7cc0494d425"
      },
      "execution_count": 39,
      "outputs": [
        {
          "output_type": "stream",
          "name": "stdout",
          "text": [
            "Hi My name is Nitesh\n"
          ]
        }
      ]
    },
    {
      "cell_type": "code",
      "source": [
        "s2.intro()"
      ],
      "metadata": {
        "colab": {
          "base_uri": "https://localhost:8080/"
        },
        "id": "-ANYFqY_uL8m",
        "outputId": "8d69b0bd-cec9-4db1-a595-2fe53174956c"
      },
      "execution_count": 40,
      "outputs": [
        {
          "output_type": "stream",
          "name": "stdout",
          "text": [
            "Hi My name is Aryan\n"
          ]
        }
      ]
    },
    {
      "cell_type": "code",
      "source": [
        "class Student: # class Student:\n",
        "    def intro(self):\n",
        "        print(\"Hi My name is\", self.name) # self.name= s1.name and s2.name\n",
        "    def create_name(self, name):\n",
        "        self.name=name\n",
        "\n",
        "s1 = Student()\n",
        "# s1.name = \"Rushikesh\"\n",
        "s1.create_name(\"Rushikesh\")\n",
        "print(s1.__dict__)"
      ],
      "metadata": {
        "colab": {
          "base_uri": "https://localhost:8080/"
        },
        "id": "qfH9af9huZNP",
        "outputId": "c7f535b4-fc50-4f6d-c99a-74d922079dc5"
      },
      "execution_count": 42,
      "outputs": [
        {
          "output_type": "stream",
          "name": "stdout",
          "text": [
            "{'name': 'Rushikesh'}\n"
          ]
        }
      ]
    },
    {
      "cell_type": "code",
      "source": [
        "class Student:\n",
        "    def __init__(self, name,id):\n",
        "        self.name = name\n",
        "        self.id = id\n",
        "\n",
        "s1 = Student(\"Nitesh\",101) # instantiating Student Class\n",
        "s2 = Student(\"Aryan\", 102)"
      ],
      "metadata": {
        "id": "K5goKclRvIDi"
      },
      "execution_count": 43,
      "outputs": []
    },
    {
      "cell_type": "code",
      "source": [
        "# __new__--> object of class S1"
      ],
      "metadata": {
        "id": "nfDsmIbhvwbZ"
      },
      "execution_count": null,
      "outputs": []
    },
    {
      "cell_type": "code",
      "source": [
        "print(id(s1))\n",
        "s1.name"
      ],
      "metadata": {
        "colab": {
          "base_uri": "https://localhost:8080/",
          "height": 73
        },
        "id": "AsroCFxIwVYQ",
        "outputId": "a66e195a-4170-4877-b041-05cea43df3fa"
      },
      "execution_count": 44,
      "outputs": [
        {
          "output_type": "stream",
          "name": "stdout",
          "text": [
            "132860619830848\n"
          ]
        },
        {
          "output_type": "execute_result",
          "data": {
            "text/plain": [
              "'Nitesh'"
            ],
            "application/vnd.google.colaboratory.intrinsic+json": {
              "type": "string"
            }
          },
          "metadata": {},
          "execution_count": 44
        }
      ]
    },
    {
      "cell_type": "code",
      "source": [
        "s1.name=\"Jatesh\"\n",
        "print(id(s1))"
      ],
      "metadata": {
        "colab": {
          "base_uri": "https://localhost:8080/"
        },
        "id": "JZNPVBsGwbA2",
        "outputId": "14b1cd8f-7b31-4c10-e1f6-d346d4a082bc"
      },
      "execution_count": 45,
      "outputs": [
        {
          "output_type": "stream",
          "name": "stdout",
          "text": [
            "132860619830848\n"
          ]
        }
      ]
    },
    {
      "cell_type": "markdown",
      "source": [
        "###"
      ],
      "metadata": {
        "id": "pKYYMaOWwoE8"
      }
    },
    {
      "cell_type": "code",
      "source": [
        "dir(s1) # all atrrubutes and methods present to object"
      ],
      "metadata": {
        "colab": {
          "base_uri": "https://localhost:8080/"
        },
        "id": "alZ1uLXHwgch",
        "outputId": "bf833829-8627-4e0f-ce51-567d11154f61"
      },
      "execution_count": 47,
      "outputs": [
        {
          "output_type": "execute_result",
          "data": {
            "text/plain": [
              "['__class__',\n",
              " '__delattr__',\n",
              " '__dict__',\n",
              " '__dir__',\n",
              " '__doc__',\n",
              " '__eq__',\n",
              " '__format__',\n",
              " '__ge__',\n",
              " '__getattribute__',\n",
              " '__gt__',\n",
              " '__hash__',\n",
              " '__init__',\n",
              " '__init_subclass__',\n",
              " '__le__',\n",
              " '__lt__',\n",
              " '__module__',\n",
              " '__ne__',\n",
              " '__new__',\n",
              " '__reduce__',\n",
              " '__reduce_ex__',\n",
              " '__repr__',\n",
              " '__setattr__',\n",
              " '__sizeof__',\n",
              " '__str__',\n",
              " '__subclasshook__',\n",
              " '__weakref__',\n",
              " 'id',\n",
              " 'name']"
            ]
          },
          "metadata": {},
          "execution_count": 47
        }
      ]
    },
    {
      "cell_type": "markdown",
      "source": [
        "Explore following dunder methods:\n",
        "- `__eq__`\n",
        "- `__str__`\n",
        "- `__ge__`\n",
        "- `__new__`\n",
        "- `__del__`\n"
      ],
      "metadata": {
        "id": "NxODPj4QyZ31"
      }
    },
    {
      "cell_type": "code",
      "source": [
        "class Student:\n",
        "    def __init__(self, name,id):\n",
        "        print(\"Create Object of Student\")\n",
        "        self.name = name\n",
        "        self.id = id\n",
        "\n",
        "s1 = Student(\"Nitesh\",101) # instantiating Student Class\n",
        "s2 = Student(\"Aryan\", 102)"
      ],
      "metadata": {
        "colab": {
          "base_uri": "https://localhost:8080/"
        },
        "id": "SL6vaP7syQ-7",
        "outputId": "a9526c23-30f2-4f2a-93c8-f1f741d77830"
      },
      "execution_count": 49,
      "outputs": [
        {
          "output_type": "stream",
          "name": "stdout",
          "text": [
            "Create Object of Student\n",
            "Create Object of Student\n"
          ]
        }
      ]
    },
    {
      "cell_type": "markdown",
      "source": [
        "## Class Variables\n",
        "##  Pillars of OOP"
      ],
      "metadata": {
        "id": "VDnvPPZqy2qu"
      }
    },
    {
      "cell_type": "code",
      "source": [
        "11 + 20 # arithmatic sum"
      ],
      "metadata": {
        "colab": {
          "base_uri": "https://localhost:8080/"
        },
        "id": "LzzDXcOPyvyc",
        "outputId": "fa17fb96-6aa3-4444-efbf-8c51acc88ba0"
      },
      "execution_count": 52,
      "outputs": [
        {
          "output_type": "execute_result",
          "data": {
            "text/plain": [
              "31"
            ]
          },
          "metadata": {},
          "execution_count": 52
        }
      ]
    },
    {
      "cell_type": "code",
      "source": [
        "\"11\" + \"20\" # concatengation"
      ],
      "metadata": {
        "colab": {
          "base_uri": "https://localhost:8080/",
          "height": 56
        },
        "id": "BrF7VP02zvRl",
        "outputId": "1289232a-91bc-48ea-fb69-60ccfa82deba"
      },
      "execution_count": 53,
      "outputs": [
        {
          "output_type": "execute_result",
          "data": {
            "text/plain": [
              "'1120'"
            ],
            "application/vnd.google.colaboratory.intrinsic+json": {
              "type": "string"
            }
          },
          "metadata": {},
          "execution_count": 53
        }
      ]
    },
    {
      "cell_type": "code",
      "source": [
        "class Circle():\n",
        "    def __init__(self,r):\n",
        "        self.radius=r\n",
        "    def area(self):\n",
        "        return  3.14*(self.radius**2) # 3.14 r\n",
        "\n",
        "c1 = Circle(100)\n",
        "c1.area()"
      ],
      "metadata": {
        "colab": {
          "base_uri": "https://localhost:8080/"
        },
        "id": "4hhJ2ygszyqO",
        "outputId": "a0f9d94f-97d1-450a-eaa8-631d3e51352e"
      },
      "execution_count": 57,
      "outputs": [
        {
          "output_type": "execute_result",
          "data": {
            "text/plain": [
              "31400.0"
            ]
          },
          "metadata": {},
          "execution_count": 57
        }
      ]
    },
    {
      "cell_type": "code",
      "source": [
        "class Square():\n",
        "    def __init__(self,side):\n",
        "        self.side=side\n",
        "    def area(self):\n",
        "        return self.side*self.side # 3.14 r\n",
        "\n",
        "s1 = Square(100)\n",
        "s1.area()"
      ],
      "metadata": {
        "colab": {
          "base_uri": "https://localhost:8080/"
        },
        "id": "L4_pBhnm0cjZ",
        "outputId": "040d86af-81d7-4d12-d38a-23f02930b124"
      },
      "execution_count": 58,
      "outputs": [
        {
          "output_type": "execute_result",
          "data": {
            "text/plain": [
              "10000"
            ]
          },
          "metadata": {},
          "execution_count": 58
        }
      ]
    },
    {
      "cell_type": "code",
      "source": [
        "# ineheritance\n",
        "class B:\n",
        "    pass\n",
        "\n",
        "class A(B): # inheritance\n",
        "    pass\n"
      ],
      "metadata": {
        "id": "GBYr5JoG00dL"
      },
      "execution_count": 62,
      "outputs": []
    },
    {
      "cell_type": "code",
      "source": [
        "### Abstraction\n",
        "s1 = Square(20)\n",
        "s1.area()\n"
      ],
      "metadata": {
        "colab": {
          "base_uri": "https://localhost:8080/"
        },
        "id": "97KPWVt-1Kl8",
        "outputId": "a25ddbc9-0327-46ad-c20e-2ff295669dee"
      },
      "execution_count": 63,
      "outputs": [
        {
          "output_type": "execute_result",
          "data": {
            "text/plain": [
              "400"
            ]
          },
          "metadata": {},
          "execution_count": 63
        }
      ]
    },
    {
      "cell_type": "code",
      "source": [
        "s2 = Square(10)\n",
        "s2.area()"
      ],
      "metadata": {
        "colab": {
          "base_uri": "https://localhost:8080/"
        },
        "id": "Oi8inaEK4vIc",
        "outputId": "084341b6-f129-4c8e-a1ce-316dace51e81"
      },
      "execution_count": 64,
      "outputs": [
        {
          "output_type": "execute_result",
          "data": {
            "text/plain": [
              "100"
            ]
          },
          "metadata": {},
          "execution_count": 64
        }
      ]
    },
    {
      "cell_type": "markdown",
      "source": [],
      "metadata": {
        "id": "AwvcLhS54229"
      }
    },
    {
      "cell_type": "code",
      "source": [
        "### encapsulation\n",
        "s1 # properties as well as functionality"
      ],
      "metadata": {
        "colab": {
          "base_uri": "https://localhost:8080/"
        },
        "id": "GJhpIzFt4xgv",
        "outputId": "66308f6e-87dc-4ecf-d1f7-936447528a54"
      },
      "execution_count": 65,
      "outputs": [
        {
          "output_type": "execute_result",
          "data": {
            "text/plain": [
              "<__main__.Square at 0x78d5e9a87160>"
            ]
          },
          "metadata": {},
          "execution_count": 65
        }
      ]
    },
    {
      "cell_type": "code",
      "source": [
        "s1.side"
      ],
      "metadata": {
        "colab": {
          "base_uri": "https://localhost:8080/"
        },
        "id": "_PmXdCcJ5DI2",
        "outputId": "807b4973-c918-41a7-91cf-9a757a2e1910"
      },
      "execution_count": 66,
      "outputs": [
        {
          "output_type": "execute_result",
          "data": {
            "text/plain": [
              "20"
            ]
          },
          "metadata": {},
          "execution_count": 66
        }
      ]
    },
    {
      "cell_type": "code",
      "source": [
        "s1.area()"
      ],
      "metadata": {
        "colab": {
          "base_uri": "https://localhost:8080/"
        },
        "id": "36knK3tA5F7T",
        "outputId": "ebe5cb26-a35f-48c7-b9e2-03e86be45c6a"
      },
      "execution_count": 67,
      "outputs": [
        {
          "output_type": "execute_result",
          "data": {
            "text/plain": [
              "400"
            ]
          },
          "metadata": {},
          "execution_count": 67
        }
      ]
    },
    {
      "cell_type": "markdown",
      "source": [
        "Access Specifier"
      ],
      "metadata": {
        "id": "ev0AdgAl5alW"
      }
    },
    {
      "cell_type": "markdown",
      "source": [
        "```\n",
        "class Square():\n",
        "    def __init__(self,side):\n",
        "        self.side=side # public varible\n",
        "    def area(self):\n",
        "        return self.side*self.side # 3.14 r\n",
        "\n",
        "s1 = Square(100)\n",
        "print(s1.side)\n",
        "```"
      ],
      "metadata": {
        "id": "YAov2Hi85ta_"
      }
    },
    {
      "cell_type": "code",
      "source": [
        "class Square():\n",
        "    def __init__(self,side):\n",
        "        self.__side=side # private varible\n",
        "    def area(self):\n",
        "        return self.__side*self.__side # 3.14 r\n",
        "\n",
        "s1 = Square(100)\n",
        "print(s1.__side)"
      ],
      "metadata": {
        "colab": {
          "base_uri": "https://localhost:8080/",
          "height": 225
        },
        "id": "Oa7gD2L_5HTp",
        "outputId": "6a8fe2ad-6fd5-441f-9347-1b41048e1273"
      },
      "execution_count": 72,
      "outputs": [
        {
          "output_type": "error",
          "ename": "AttributeError",
          "evalue": "ignored",
          "traceback": [
            "\u001b[0;31m---------------------------------------------------------------------------\u001b[0m",
            "\u001b[0;31mAttributeError\u001b[0m                            Traceback (most recent call last)",
            "\u001b[0;32m<ipython-input-72-770042e0ac54>\u001b[0m in \u001b[0;36m<cell line: 8>\u001b[0;34m()\u001b[0m\n\u001b[1;32m      6\u001b[0m \u001b[0;34m\u001b[0m\u001b[0m\n\u001b[1;32m      7\u001b[0m \u001b[0ms1\u001b[0m \u001b[0;34m=\u001b[0m \u001b[0mSquare\u001b[0m\u001b[0;34m(\u001b[0m\u001b[0;36m100\u001b[0m\u001b[0;34m)\u001b[0m\u001b[0;34m\u001b[0m\u001b[0;34m\u001b[0m\u001b[0m\n\u001b[0;32m----> 8\u001b[0;31m \u001b[0mprint\u001b[0m\u001b[0;34m(\u001b[0m\u001b[0ms1\u001b[0m\u001b[0;34m.\u001b[0m\u001b[0m__side\u001b[0m\u001b[0;34m)\u001b[0m\u001b[0;34m\u001b[0m\u001b[0;34m\u001b[0m\u001b[0m\n\u001b[0m",
            "\u001b[0;31mAttributeError\u001b[0m: 'Square' object has no attribute '__side'"
          ]
        }
      ]
    },
    {
      "cell_type": "code",
      "source": [
        "(s1.__side)*(s1.__side)"
      ],
      "metadata": {
        "colab": {
          "base_uri": "https://localhost:8080/",
          "height": 192
        },
        "id": "pLac6Wft5gyQ",
        "outputId": "c0f0b176-5f28-406d-8004-3b9333057acc"
      },
      "execution_count": 73,
      "outputs": [
        {
          "output_type": "error",
          "ename": "AttributeError",
          "evalue": "ignored",
          "traceback": [
            "\u001b[0;31m---------------------------------------------------------------------------\u001b[0m",
            "\u001b[0;31mAttributeError\u001b[0m                            Traceback (most recent call last)",
            "\u001b[0;32m<ipython-input-73-e8957e4c3e7b>\u001b[0m in \u001b[0;36m<cell line: 1>\u001b[0;34m()\u001b[0m\n\u001b[0;32m----> 1\u001b[0;31m \u001b[0;34m(\u001b[0m\u001b[0ms1\u001b[0m\u001b[0;34m.\u001b[0m\u001b[0m__side\u001b[0m\u001b[0;34m)\u001b[0m\u001b[0;34m*\u001b[0m\u001b[0;34m(\u001b[0m\u001b[0ms1\u001b[0m\u001b[0;34m.\u001b[0m\u001b[0m__side\u001b[0m\u001b[0;34m)\u001b[0m\u001b[0;34m\u001b[0m\u001b[0;34m\u001b[0m\u001b[0m\n\u001b[0m",
            "\u001b[0;31mAttributeError\u001b[0m: 'Square' object has no attribute '__side'"
          ]
        }
      ]
    },
    {
      "cell_type": "code",
      "source": [
        "s1.area()"
      ],
      "metadata": {
        "colab": {
          "base_uri": "https://localhost:8080/"
        },
        "id": "KU-BjwVX5n4L",
        "outputId": "dc2241cf-0829-4e24-ff7f-05a02f7ac739"
      },
      "execution_count": 74,
      "outputs": [
        {
          "output_type": "execute_result",
          "data": {
            "text/plain": [
              "10000"
            ]
          },
          "metadata": {},
          "execution_count": 74
        }
      ]
    },
    {
      "cell_type": "markdown",
      "source": [
        "### There is no such thing as truly private in python"
      ],
      "metadata": {
        "id": "pwNzJCFu6kIk"
      }
    },
    {
      "cell_type": "code",
      "source": [
        "s1.__dict__ # name mangling # _className__privatevate"
      ],
      "metadata": {
        "colab": {
          "base_uri": "https://localhost:8080/"
        },
        "id": "FUNqiCEo6g98",
        "outputId": "63a7041e-20d5-41ea-c27d-c1541029d150"
      },
      "execution_count": 78,
      "outputs": [
        {
          "output_type": "execute_result",
          "data": {
            "text/plain": [
              "{'_Square__side': 100}"
            ]
          },
          "metadata": {},
          "execution_count": 78
        }
      ]
    },
    {
      "cell_type": "code",
      "source": [
        "(s1._Square__side)*(s1._Square__side)"
      ],
      "metadata": {
        "colab": {
          "base_uri": "https://localhost:8080/"
        },
        "id": "d2DKqnN46zI0",
        "outputId": "88677471-c891-4a9a-ad09-647ece73b7c2"
      },
      "execution_count": 79,
      "outputs": [
        {
          "output_type": "execute_result",
          "data": {
            "text/plain": [
              "10000"
            ]
          },
          "metadata": {},
          "execution_count": 79
        }
      ]
    },
    {
      "cell_type": "markdown",
      "source": [
        "### HW: _ Protected Variables"
      ],
      "metadata": {
        "id": "QVG181es6MBj"
      }
    },
    {
      "cell_type": "markdown",
      "source": [
        "Class Variables:\n"
      ],
      "metadata": {
        "id": "3MBGwVaB7NIK"
      }
    },
    {
      "cell_type": "code",
      "source": [
        "class Student:\n",
        "    course_name=\"DSML\"  # Class Variable\n",
        "    def __init__(self, name,id):\n",
        "        self.name = name\n",
        "        self.id = id\n",
        "\n",
        "\n",
        "s1 = Student(\"Nitesh\",101) # instantiating Student Class\n",
        "s2 = Student(\"Aryan\", 102)\n",
        "s3 = Student(\"Shabi\", 103)"
      ],
      "metadata": {
        "id": "PTnBOCIz58_u"
      },
      "execution_count": 97,
      "outputs": []
    },
    {
      "cell_type": "code",
      "source": [
        "s1.course_name"
      ],
      "metadata": {
        "colab": {
          "base_uri": "https://localhost:8080/",
          "height": 56
        },
        "id": "6KSAMpLw7rsw",
        "outputId": "849ad8aa-b257-473d-fa22-0c5810a6e72e"
      },
      "execution_count": 98,
      "outputs": [
        {
          "output_type": "execute_result",
          "data": {
            "text/plain": [
              "'DSML'"
            ],
            "application/vnd.google.colaboratory.intrinsic+json": {
              "type": "string"
            }
          },
          "metadata": {},
          "execution_count": 98
        }
      ]
    },
    {
      "cell_type": "code",
      "source": [
        "s2.course_name"
      ],
      "metadata": {
        "colab": {
          "base_uri": "https://localhost:8080/",
          "height": 56
        },
        "id": "Z2i8W2Wv7teE",
        "outputId": "1f04a917-1a31-4493-a3d2-6de4136a2f7d"
      },
      "execution_count": 99,
      "outputs": [
        {
          "output_type": "execute_result",
          "data": {
            "text/plain": [
              "'DSML'"
            ],
            "application/vnd.google.colaboratory.intrinsic+json": {
              "type": "string"
            }
          },
          "metadata": {},
          "execution_count": 99
        }
      ]
    },
    {
      "cell_type": "code",
      "source": [
        "s3.course_name"
      ],
      "metadata": {
        "colab": {
          "base_uri": "https://localhost:8080/",
          "height": 56
        },
        "id": "S5RzBfh57u47",
        "outputId": "e1b088ad-edec-4a66-c48c-24515a0898e6"
      },
      "execution_count": 100,
      "outputs": [
        {
          "output_type": "execute_result",
          "data": {
            "text/plain": [
              "'DSML'"
            ],
            "application/vnd.google.colaboratory.intrinsic+json": {
              "type": "string"
            }
          },
          "metadata": {},
          "execution_count": 100
        }
      ]
    },
    {
      "cell_type": "code",
      "source": [
        "Student.course_name=\"Academy\" # all objects will be affected\n",
        "print(s1.course_name)\n",
        "print(s2.course_name)\n",
        "print(s3.course_name)"
      ],
      "metadata": {
        "colab": {
          "base_uri": "https://localhost:8080/"
        },
        "id": "NIm2pRJJ736N",
        "outputId": "eb130340-406a-4d76-949b-42cfa0eb2da1"
      },
      "execution_count": 104,
      "outputs": [
        {
          "output_type": "stream",
          "name": "stdout",
          "text": [
            "Academy\n",
            "Academy\n",
            "DSML\n"
          ]
        }
      ]
    },
    {
      "cell_type": "code",
      "source": [
        "s3.course_name=\"DSML\" # creating instance variables specific to s3 only\n",
        "print(s1.course_name)\n",
        "print(s2.course_name)\n",
        "print(s3.course_name)"
      ],
      "metadata": {
        "colab": {
          "base_uri": "https://localhost:8080/"
        },
        "id": "pHHQRLYh8bCm",
        "outputId": "11f043f4-9f41-41cc-af3b-30363000812d"
      },
      "execution_count": 105,
      "outputs": [
        {
          "output_type": "stream",
          "name": "stdout",
          "text": [
            "Academy\n",
            "Academy\n",
            "DSML\n"
          ]
        }
      ]
    },
    {
      "cell_type": "markdown",
      "source": [
        "- One more use case of class Variable\n",
        "- Inheritance\n",
        "- abstract Classes"
      ],
      "metadata": {
        "id": "ES6Bcuqm887k"
      }
    },
    {
      "cell_type": "code",
      "source": [
        "class Circle():\n",
        "    def __init__(self,r):\n",
        "        self.radius=r\n",
        "    def area(self):\n",
        "        return  3.14*(self.radius**2) # 3.14 r\n",
        "\n",
        "c1 = Circle(100)\n",
        "c1.area()"
      ],
      "metadata": {
        "id": "qqhf1Y248l-D"
      },
      "execution_count": 105,
      "outputs": []
    },
    {
      "cell_type": "code",
      "source": [
        "def funct(list1, val):\n",
        "    list1[0]=val"
      ],
      "metadata": {
        "id": "-ugCsxYE-_6o"
      },
      "execution_count": null,
      "outputs": []
    },
    {
      "cell_type": "code",
      "source": [
        "var = 100\n",
        "class A:\n",
        "    a = 3  # ClassVar\n",
        "    def temp():\n",
        "        print(var)\n",
        "class B:\n",
        "    def temp():\n",
        "        print(var)\n",
        "A.temp()for i in range(n):\n",
        "p = 0\n",
        "j = n\n",
        "while(j>1):\n",
        "p+=1\n",
        "k = 1\n",
        "while(k<p):\n",
        "q+=1\n",
        "k *=2\n",
        "j = j/2\n"
      ],
      "metadata": {
        "colab": {
          "base_uri": "https://localhost:8080/"
        },
        "id": "66pxA88k_itH",
        "outputId": "ac09dc10-56a3-4412-edf1-480f9fd2beed"
      },
      "execution_count": 132,
      "outputs": [
        {
          "output_type": "stream",
          "name": "stdout",
          "text": [
            "100\n"
          ]
        }
      ]
    },
    {
      "cell_type": "code",
      "source": [
        "class Student:\n",
        "    def __init__(self, name,id) -> None:\n",
        "        self.name = name\n",
        "        self.id = id\n",
        "\n",
        "s1 = Student(\"Varun\", \"1\")\n",
        "s2 = Student(\"Sachin\", \"2\")\n",
        "# while i am creating class it comes like this in IDE, what is None here ?"
      ],
      "metadata": {
        "id": "_ZOUViHf_wfy"
      },
      "execution_count": 121,
      "outputs": []
    },
    {
      "cell_type": "code",
      "source": [
        "def myfunct(a: str)->None:\n",
        "    return (\"Hello \" + a)\n",
        "myfunct(\"10\")"
      ],
      "metadata": {
        "colab": {
          "base_uri": "https://localhost:8080/",
          "height": 56
        },
        "id": "oOxTPgZ6Af4j",
        "outputId": "d826e788-b445-42c8-fd52-bfbcb7e5bd4b"
      },
      "execution_count": 128,
      "outputs": [
        {
          "output_type": "execute_result",
          "data": {
            "text/plain": [
              "'Hello 10'"
            ],
            "application/vnd.google.colaboratory.intrinsic+json": {
              "type": "string"
            }
          },
          "metadata": {},
          "execution_count": 128
        }
      ]
    },
    {
      "cell_type": "code",
      "source": [
        "help(myfunct)"
      ],
      "metadata": {
        "colab": {
          "base_uri": "https://localhost:8080/"
        },
        "id": "t7eGyYhTAw2N",
        "outputId": "e0a9772f-3114-4881-910d-650b1e3c6d5a"
      },
      "execution_count": 129,
      "outputs": [
        {
          "output_type": "stream",
          "name": "stdout",
          "text": [
            "Help on function myfunct in module __main__:\n",
            "\n",
            "myfunct(a: str) -> None\n",
            "\n"
          ]
        }
      ]
    },
    {
      "cell_type": "code",
      "source": [
        "i,j,k,p,q = 0\n",
        "for i in range(n):\n",
        "    p = 0\n",
        "    j = n\n",
        "    while(j>1):\n",
        "        p+=1 # logn\n",
        "        k = 1\n",
        "        while(k<p):\n",
        "            q+=1\n",
        "            k *=2 # logp\n",
        "    j = j/2 # logn\n"
      ],
      "metadata": {
        "id": "E4NsBCkrBGJ0"
      },
      "execution_count": null,
      "outputs": []
    }
  ]
}