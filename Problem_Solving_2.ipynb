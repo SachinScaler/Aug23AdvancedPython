{
  "nbformat": 4,
  "nbformat_minor": 0,
  "metadata": {
    "colab": {
      "provenance": [],
      "authorship_tag": "ABX9TyM+NrX7tS0phigkTfnyWAFb",
      "include_colab_link": true
    },
    "kernelspec": {
      "name": "python3",
      "display_name": "Python 3"
    },
    "language_info": {
      "name": "python"
    }
  },
  "cells": [
    {
      "cell_type": "markdown",
      "metadata": {
        "id": "view-in-github",
        "colab_type": "text"
      },
      "source": [
        "<a href=\"https://colab.research.google.com/github/SachinScaler/Aug23AdvancedPython/blob/main/Problem_Solving_2.ipynb\" target=\"_parent\"><img src=\"https://colab.research.google.com/assets/colab-badge.svg\" alt=\"Open In Colab\"/></a>"
      ]
    },
    {
      "cell_type": "code",
      "execution_count": null,
      "metadata": {
        "colab": {
          "base_uri": "https://localhost:8080/"
        },
        "id": "X82xxW2M_yaL",
        "outputId": "6b515099-d4a3-4ffd-a735-5a59e8f7cf18"
      },
      "outputs": [
        {
          "output_type": "stream",
          "name": "stdout",
          "text": [
            "Emma 10 Machine Learning\n"
          ]
        }
      ],
      "source": [
        "class Student:\n",
        "  # Class variable\n",
        "  subject_name = 'Math for Machine Learning'\n",
        "\n",
        "  # constructor\n",
        "  def __init__(self, name, roll_no):\n",
        "    self.name = name\n",
        "    self.roll_no = roll_no\n",
        "\n",
        "# outside the class\n",
        "# create Objects\n",
        "s1 = Student('Emma', 10)#blank1\n",
        "#_____________________#blank2\n",
        "Student.subject_name=\"Machine Learning\"\n",
        "\n",
        "print(s1.name, s1.roll_no, s1.subject_name) # Emma 10 Machine Learning"
      ]
    },
    {
      "cell_type": "code",
      "source": [
        "class Student:\n",
        "  # Class variable\n",
        "  subject_name = 'Math for Machine Learning'\n",
        "\n",
        "  # constructor\n",
        "  def __init__(self, name, roll_no):\n",
        "    self.name = name\n",
        "    self.roll_no = roll_no\n",
        "\n",
        "# outside the class\n",
        "# create Objects\n",
        "s1 = Student('Emma', 10)#blank1\n",
        "#_____________________#blank2\n",
        "s1.subject_name=\"Machine Learning\" # we are creating an instance variable\n",
        "\n",
        "\n",
        "print(s1.name, s1.roll_no, s1.subject_name) # Emma 10 Machine Learning"
      ],
      "metadata": {
        "colab": {
          "base_uri": "https://localhost:8080/"
        },
        "id": "PdjtLFO6CA99",
        "outputId": "49164f1f-6eeb-401a-e1dd-43bdb4a4c550"
      },
      "execution_count": null,
      "outputs": [
        {
          "output_type": "stream",
          "name": "stdout",
          "text": [
            "Emma 10 Machine Learning\n"
          ]
        }
      ]
    },
    {
      "cell_type": "code",
      "source": [
        "(lambda x: ((x**3)%2==0,x**3))(4)"
      ],
      "metadata": {
        "colab": {
          "base_uri": "https://localhost:8080/"
        },
        "id": "V_Wuxv3FCLD7",
        "outputId": "9aa9bb2b-7a6a-4d86-c682-3e8b9803ec3d"
      },
      "execution_count": null,
      "outputs": [
        {
          "output_type": "execute_result",
          "data": {
            "text/plain": [
              "(True, 64)"
            ]
          },
          "metadata": {},
          "execution_count": 5
        }
      ]
    },
    {
      "cell_type": "code",
      "source": [
        "class Student:\n",
        "    def __init__(self,roll,marks):\n",
        "        self.roll = roll\n",
        "        self.marks = marks\n",
        "    def display(self):\n",
        "        print('Roll:', self.roll,'Marks:',self.marks, end=\" \")\n",
        "\n",
        "student1 = Student(34,'A')\n",
        "student1.age = 17\n",
        "print(student1.display(), 'Age:',student1.age)"
      ],
      "metadata": {
        "colab": {
          "base_uri": "https://localhost:8080/"
        },
        "id": "aPklz5mhC7n0",
        "outputId": "525186d5-17b7-4504-8693-c5e141e1b964"
      },
      "execution_count": null,
      "outputs": [
        {
          "output_type": "stream",
          "name": "stdout",
          "text": [
            "Roll: 34 Marks: A None Age: 17\n"
          ]
        }
      ]
    },
    {
      "cell_type": "code",
      "source": [
        "def hello():\n",
        "    print(\"Hi\")\n",
        "print(hello())"
      ],
      "metadata": {
        "colab": {
          "base_uri": "https://localhost:8080/"
        },
        "id": "QlsGLMKMDfO4",
        "outputId": "6fcfd9a2-27c6-4fb3-cca1-12ebf0f14d1f"
      },
      "execution_count": null,
      "outputs": [
        {
          "output_type": "stream",
          "name": "stdout",
          "text": [
            "Hi\n",
            "None\n"
          ]
        }
      ]
    },
    {
      "cell_type": "code",
      "source": [
        "class A:\n",
        "   def one(self):\n",
        "       return self.two()\n",
        "   def two(self):\n",
        "       return 'A'\n",
        "class B(A):\n",
        "   def two(self):\n",
        "       return 'B'\n",
        "obj= B()\n",
        "print(obj.one())"
      ],
      "metadata": {
        "colab": {
          "base_uri": "https://localhost:8080/"
        },
        "id": "EDK_yawoDzPc",
        "outputId": "cd556c84-9ac4-46fb-eaf2-a3ac11094d74"
      },
      "execution_count": null,
      "outputs": [
        {
          "output_type": "stream",
          "name": "stdout",
          "text": [
            "B\n"
          ]
        }
      ]
    },
    {
      "cell_type": "code",
      "source": [
        "class Parent:\n",
        "  def __init__(self):\n",
        "    pass\n",
        "  def print(self):\n",
        "    print(\"60\")\n",
        "\n",
        "class Child(Parent):\n",
        "   # ____________\n",
        "   def type(self):\n",
        "    super().print()\n",
        "\n",
        "C=Child()\n",
        "C.type()"
      ],
      "metadata": {
        "colab": {
          "base_uri": "https://localhost:8080/"
        },
        "id": "weqGu2oNF4YP",
        "outputId": "ce1e0cfb-41e1-4363-8869-68a0a3cc1ea0"
      },
      "execution_count": null,
      "outputs": [
        {
          "output_type": "stream",
          "name": "stdout",
          "text": [
            "60\n"
          ]
        }
      ]
    },
    {
      "cell_type": "code",
      "source": [
        "class Parent:\n",
        "  def __init__(self):\n",
        "    pass\n",
        "  def print(self):\n",
        "    print(\"60\")\n",
        "\n",
        "class Child(Parent):\n",
        "   # ____________\n",
        "   def type(self):\n",
        "    self.print()\n",
        "\n",
        "C=Child()\n",
        "C.type()"
      ],
      "metadata": {
        "colab": {
          "base_uri": "https://localhost:8080/"
        },
        "id": "V1jIcwDuGfFA",
        "outputId": "6f5f4742-f8a8-45bd-e05d-b40abf852fee"
      },
      "execution_count": null,
      "outputs": [
        {
          "output_type": "stream",
          "name": "stdout",
          "text": [
            "60\n"
          ]
        }
      ]
    },
    {
      "cell_type": "code",
      "source": [
        "class Parent:\n",
        "  def __init__(self):\n",
        "    pass\n",
        "  def print(self):\n",
        "    print(\"60\")\n",
        "\n",
        "class Child(Parent):\n",
        "   # ____________\n",
        "   def type(self):\n",
        "    Parent.print(self)\n",
        "\n",
        "   def Hello():\n",
        "        print(\"Inside Class Method\")\n",
        "\n",
        "C=Child()\n",
        "C.type()"
      ],
      "metadata": {
        "colab": {
          "base_uri": "https://localhost:8080/"
        },
        "id": "9bUijnJpGqgB",
        "outputId": "7ba744ef-ed19-4f7a-f747-1258d972b2ee"
      },
      "execution_count": null,
      "outputs": [
        {
          "output_type": "stream",
          "name": "stdout",
          "text": [
            "60\n"
          ]
        }
      ]
    },
    {
      "cell_type": "code",
      "source": [
        "Child.print(C)"
      ],
      "metadata": {
        "colab": {
          "base_uri": "https://localhost:8080/"
        },
        "id": "CLSA7EbbGwIS",
        "outputId": "218807ae-91bb-4a2c-882b-c9c85fa60efa"
      },
      "execution_count": null,
      "outputs": [
        {
          "output_type": "stream",
          "name": "stdout",
          "text": [
            "60\n"
          ]
        }
      ]
    },
    {
      "cell_type": "code",
      "source": [
        "Child.type(C)"
      ],
      "metadata": {
        "colab": {
          "base_uri": "https://localhost:8080/"
        },
        "id": "C1IfeDkOG9iC",
        "outputId": "b3b0ec14-6308-4f59-e45a-e17afb491ce2"
      },
      "execution_count": null,
      "outputs": [
        {
          "output_type": "stream",
          "name": "stdout",
          "text": [
            "60\n"
          ]
        }
      ]
    },
    {
      "cell_type": "code",
      "source": [
        "C.Hello()"
      ],
      "metadata": {
        "colab": {
          "base_uri": "https://localhost:8080/",
          "height": 174
        },
        "id": "MdKM_WKZHAK5",
        "outputId": "eabf0c0a-34ea-48f5-a785-b97c26d74fcd"
      },
      "execution_count": null,
      "outputs": [
        {
          "output_type": "error",
          "ename": "TypeError",
          "evalue": "ignored",
          "traceback": [
            "\u001b[0;31m---------------------------------------------------------------------------\u001b[0m",
            "\u001b[0;31mTypeError\u001b[0m                                 Traceback (most recent call last)",
            "\u001b[0;32m<ipython-input-42-c9679272f813>\u001b[0m in \u001b[0;36m<cell line: 1>\u001b[0;34m()\u001b[0m\n\u001b[0;32m----> 1\u001b[0;31m \u001b[0mC\u001b[0m\u001b[0;34m.\u001b[0m\u001b[0mHello\u001b[0m\u001b[0;34m(\u001b[0m\u001b[0;34m)\u001b[0m\u001b[0;34m\u001b[0m\u001b[0;34m\u001b[0m\u001b[0m\n\u001b[0m",
            "\u001b[0;31mTypeError\u001b[0m: Child.Hello() takes 0 positional arguments but 1 was given"
          ]
        }
      ]
    },
    {
      "cell_type": "code",
      "source": [
        "Child.Hello()"
      ],
      "metadata": {
        "colab": {
          "base_uri": "https://localhost:8080/"
        },
        "id": "V3k9H7XAHPQB",
        "outputId": "1ff60306-e3a6-46df-fb77-15ac7233aa49"
      },
      "execution_count": null,
      "outputs": [
        {
          "output_type": "stream",
          "name": "stdout",
          "text": [
            "Inside Class Method\n"
          ]
        }
      ]
    },
    {
      "cell_type": "code",
      "source": [
        "class Demo:\n",
        "    def __new__(self):\n",
        "        self.__init__(self)\n",
        "        print(\"Demo's __new__() invoked\")\n",
        "\n",
        "    def __init__(self):\n",
        "        print(\"Demo's __init__() invoked\")\n",
        "\n",
        "class Derived_Demo(Demo):\n",
        "    def __new__(self):\n",
        "        print(\"Derived_Demo's __new__() invoked\")\n",
        "\n",
        "    def __init__(self):\n",
        "        print(\"Derived_Demo's __init__() invoked\")\n",
        "\n",
        "def main():\n",
        "    obj1 = Derived_Demo()\n",
        "    obj2 = Demo()\n",
        "\n",
        "main()"
      ],
      "metadata": {
        "colab": {
          "base_uri": "https://localhost:8080/"
        },
        "id": "wYGNRN5vHZeO",
        "outputId": "b9068042-b3cc-45aa-dd89-ba40a9a7ebca"
      },
      "execution_count": null,
      "outputs": [
        {
          "output_type": "stream",
          "name": "stdout",
          "text": [
            "Derived_Demo's __new__() invoked\n",
            "Demo's __init__() invoked\n",
            "Demo's __new__() invoked\n"
          ]
        }
      ]
    },
    {
      "cell_type": "code",
      "source": [
        "class Demo:\n",
        "    def __new__(self):\n",
        "        #self.__init__(self)\n",
        "        print(\"Demo's __new__() invoked\")\n",
        "\n",
        "    def __init__(self):\n",
        "        print(\"Demo's __init__() invoked\")\n",
        "\n",
        "obj2 = Demo()"
      ],
      "metadata": {
        "colab": {
          "base_uri": "https://localhost:8080/"
        },
        "id": "PlYFSAwfI3IX",
        "outputId": "0f0e1b38-9c86-4384-a3f9-b25f6435acb3"
      },
      "execution_count": null,
      "outputs": [
        {
          "output_type": "stream",
          "name": "stdout",
          "text": [
            "Demo's __init__() invoked\n"
          ]
        }
      ]
    },
    {
      "cell_type": "code",
      "source": [
        "class A(object):\n",
        "    def __new__(cls):\n",
        "         print(\"Creating instance\")\n",
        "         return super(A, cls).__new__(cls) # returns a valid instance\n",
        "\n",
        "    def __init__(self):\n",
        "        print(\"Init is called\")\n",
        "\n",
        "A()"
      ],
      "metadata": {
        "colab": {
          "base_uri": "https://localhost:8080/"
        },
        "id": "5HP-jCSWJCv6",
        "outputId": "b43607ea-d933-4881-9a0b-6a6ab17c9083"
      },
      "execution_count": null,
      "outputs": [
        {
          "output_type": "stream",
          "name": "stdout",
          "text": [
            "Creating instance\n",
            "Init is called\n"
          ]
        },
        {
          "output_type": "execute_result",
          "data": {
            "text/plain": [
              "<__main__.A at 0x7e81a0f125f0>"
            ]
          },
          "metadata": {},
          "execution_count": 45
        }
      ]
    },
    {
      "cell_type": "code",
      "source": [
        "list1 = [[1,2,3],[4,5,6],[7,8,9]]\n",
        "list2 = [[9,8,7],[6,5,4],[3,2,1]]\n",
        "ls11,ls12,ls13=list1\n",
        "ls21,ls22,ls23=list2\n",
        "print(list(zip(ls11,ls12,ls13,ls21,ls22,ls23)))"
      ],
      "metadata": {
        "colab": {
          "base_uri": "https://localhost:8080/"
        },
        "id": "INV-ej0FJYwQ",
        "outputId": "0f198987-468c-4701-da17-e621b21a4348"
      },
      "execution_count": null,
      "outputs": [
        {
          "output_type": "stream",
          "name": "stdout",
          "text": [
            "[(1, 4, 7, 9, 6, 3), (2, 5, 8, 8, 5, 2), (3, 6, 9, 7, 4, 1)]\n"
          ]
        }
      ]
    },
    {
      "cell_type": "code",
      "source": [
        "print(ls11)"
      ],
      "metadata": {
        "colab": {
          "base_uri": "https://localhost:8080/"
        },
        "id": "OENgu9zONGKl",
        "outputId": "4dfd306c-7c75-4391-a595-1d2c4e62d985"
      },
      "execution_count": null,
      "outputs": [
        {
          "output_type": "stream",
          "name": "stdout",
          "text": [
            "[1, 2, 3]\n"
          ]
        }
      ]
    },
    {
      "cell_type": "code",
      "source": [
        "list1 = [1,2,3]\n",
        "list2 = [5,6,7]\n",
        "out = zip(list1,list2)\n",
        "zipped_tup = list(out)\n",
        "zipped_tup"
      ],
      "metadata": {
        "colab": {
          "base_uri": "https://localhost:8080/"
        },
        "id": "Wbict7WQNK5W",
        "outputId": "cbf3e986-a37c-4203-ef7c-f6b974cd14b0"
      },
      "execution_count": null,
      "outputs": [
        {
          "output_type": "execute_result",
          "data": {
            "text/plain": [
              "[(1, 5), (2, 6), (3, 7)]"
            ]
          },
          "metadata": {},
          "execution_count": 58
        }
      ]
    },
    {
      "cell_type": "code",
      "source": [
        "# unzip\n",
        "a,b = zip(*zipped_tup)\n",
        "print(a)\n",
        "print(b)"
      ],
      "metadata": {
        "colab": {
          "base_uri": "https://localhost:8080/"
        },
        "id": "aPv1my3fNlUq",
        "outputId": "7d845762-ed09-4d0f-e561-cb233a3cbe09"
      },
      "execution_count": null,
      "outputs": [
        {
          "output_type": "stream",
          "name": "stdout",
          "text": [
            "(1, 2, 3)\n",
            "(5, 6, 7)\n"
          ]
        }
      ]
    },
    {
      "cell_type": "code",
      "source": [
        "x = [1,2,3]\n",
        "y = [4,5,6]\n",
        "zipped = zip(x,y)\n",
        "unzipped_x, unzipped_y = zip(*zipped)"
      ],
      "metadata": {
        "id": "H3GjgLvUNqkC"
      },
      "execution_count": null,
      "outputs": []
    },
    {
      "cell_type": "code",
      "source": [
        "n=9\n",
        "fib = [0, 1, 1, 2, 3, 5, 8, 13, 21]\n",
        "\n",
        "#map(lambda x:fact(x) if (lambda Prime(x)) else x, fib(9))\n",
        "def prime():\n",
        "    pass"
      ],
      "metadata": {
        "id": "PZwWz3SROJ4z"
      },
      "execution_count": null,
      "outputs": []
    },
    {
      "cell_type": "code",
      "source": [
        "def func2(c, d):\n",
        "    return c, d\n",
        "\n",
        "def func1(a, b):\n",
        "    c = a**1\n",
        "    d = b**2\n",
        "    return lambda: func2(c,d)\n",
        "\n",
        "result = func1(1, 2)\n",
        "print(type(result))\n",
        "print(result())"
      ],
      "metadata": {
        "colab": {
          "base_uri": "https://localhost:8080/"
        },
        "id": "YIT1N6IFQIyC",
        "outputId": "f1006cf3-d9fa-4b21-b788-b38c20fadd03"
      },
      "execution_count": null,
      "outputs": [
        {
          "output_type": "stream",
          "name": "stdout",
          "text": [
            "<class 'function'>\n",
            "(1, 4)\n"
          ]
        }
      ]
    },
    {
      "cell_type": "code",
      "source": [
        "lambda : 4"
      ],
      "metadata": {
        "colab": {
          "base_uri": "https://localhost:8080/"
        },
        "id": "LmNDsnyFQLjd",
        "outputId": "40014f03-3829-48dc-9ce4-0bc60b197b56"
      },
      "execution_count": null,
      "outputs": [
        {
          "output_type": "execute_result",
          "data": {
            "text/plain": [
              "<function __main__.<lambda>()>"
            ]
          },
          "metadata": {},
          "execution_count": 60
        }
      ]
    },
    {
      "cell_type": "code",
      "source": [
        "ids = [\"SAM@gmail.com\", \"Ram@gmail.com\", \"sam@gmail.com\", \"samJohnson@iit.com\", \"SaM@harvard.com\"]\n",
        "name = \"sam\"\n",
        "result = list(filter(lambda x : name.lower() in x or name.upper() in x , ids))\n",
        "print(result)"
      ],
      "metadata": {
        "colab": {
          "base_uri": "https://localhost:8080/"
        },
        "id": "VcBwzgfiQSBz",
        "outputId": "9c62b29f-b628-46a5-c984-35a0071a42fc"
      },
      "execution_count": null,
      "outputs": [
        {
          "output_type": "stream",
          "name": "stdout",
          "text": [
            "['SAM@gmail.com', 'sam@gmail.com', 'samJohnson@iit.com']\n"
          ]
        }
      ]
    },
    {
      "cell_type": "code",
      "source": [],
      "metadata": {
        "colab": {
          "base_uri": "https://localhost:8080/"
        },
        "id": "4GT3u6VxRqmE",
        "outputId": "3c88a465-65a3-4403-b17a-4eb81fea675c"
      },
      "execution_count": null,
      "outputs": [
        {
          "output_type": "stream",
          "name": "stdout",
          "text": [
            "sam\n"
          ]
        }
      ]
    },
    {
      "cell_type": "code",
      "source": [
        "set()|{1}"
      ],
      "metadata": {
        "colab": {
          "base_uri": "https://localhost:8080/"
        },
        "id": "1tlq7NH8SFPe",
        "outputId": "a884ab55-15f2-472b-d897-98a866eb2881"
      },
      "execution_count": null,
      "outputs": [
        {
          "output_type": "execute_result",
          "data": {
            "text/plain": [
              "{1}"
            ]
          },
          "metadata": {},
          "execution_count": 69
        }
      ]
    },
    {
      "cell_type": "code",
      "source": [
        "### Write recursive implementation of subset question"
      ],
      "metadata": {
        "id": "rjw1gLANTwxt"
      },
      "execution_count": null,
      "outputs": []
    },
    {
      "cell_type": "markdown",
      "source": [
        "### What is DataClass?\n",
        "\n",
        "It's a Decorator which helps in creating Classes used for storing DATA and reduces BoilerPlate i.e. dunder"
      ],
      "metadata": {
        "id": "0LFBPTogVc7P"
      }
    },
    {
      "cell_type": "code",
      "source": [
        "class Person:\n",
        "    def __init__(self, name, age):\n",
        "        self.name=name\n",
        "        self.age=age\n",
        "\n",
        "    # __str__ or __repr__\n",
        "p1 = Person(\"Sachin\",1000)\n",
        "print(p1)"
      ],
      "metadata": {
        "colab": {
          "base_uri": "https://localhost:8080/"
        },
        "id": "0BNl9bMfVeWr",
        "outputId": "7320a865-3d2e-4ed8-820a-0bfef46ab488"
      },
      "execution_count": null,
      "outputs": [
        {
          "output_type": "stream",
          "name": "stdout",
          "text": [
            "<__main__.Person object at 0x7e816a9ce050>\n"
          ]
        }
      ]
    },
    {
      "cell_type": "code",
      "source": [
        "p2 = Person(\"Naveen\",1000)\n",
        "print(p2==p1)"
      ],
      "metadata": {
        "colab": {
          "base_uri": "https://localhost:8080/"
        },
        "id": "Z4ImzHXtW0U1",
        "outputId": "098da7f5-6ea8-4e9a-a1e7-fbee9c1d3c77"
      },
      "execution_count": null,
      "outputs": [
        {
          "output_type": "stream",
          "name": "stdout",
          "text": [
            "False\n"
          ]
        }
      ]
    },
    {
      "cell_type": "code",
      "source": [
        "p3 = Person(\"Sachin\",1000)\n",
        "print(p3==p1)"
      ],
      "metadata": {
        "colab": {
          "base_uri": "https://localhost:8080/"
        },
        "id": "J0tx7sxlW69E",
        "outputId": "7e687b42-ad30-42af-c28b-e7b21811637c"
      },
      "execution_count": null,
      "outputs": [
        {
          "output_type": "stream",
          "name": "stdout",
          "text": [
            "False\n"
          ]
        }
      ]
    },
    {
      "cell_type": "code",
      "source": [
        "from dataclasses import dataclass\n",
        "\n",
        "@dataclass\n",
        "class Person:\n",
        "    name:str\n",
        "    age:int\n",
        "\n",
        "p1 = Person(\"Sachin\",1000)\n",
        "print(p1)"
      ],
      "metadata": {
        "colab": {
          "base_uri": "https://localhost:8080/"
        },
        "id": "G-_VgjW7WNGv",
        "outputId": "4a1ee900-fe13-4021-ce93-332a2d04f785"
      },
      "execution_count": null,
      "outputs": [
        {
          "output_type": "stream",
          "name": "stdout",
          "text": [
            "Person(name='Sachin', age=1000)\n"
          ]
        }
      ]
    },
    {
      "cell_type": "code",
      "source": [
        "p3 = Person(\"Sachin\",1000)\n",
        "print(p3==p1)"
      ],
      "metadata": {
        "colab": {
          "base_uri": "https://localhost:8080/"
        },
        "id": "Ye90adw6WjgC",
        "outputId": "89e1e9c5-7d61-45a6-b785-fcffbef8e42c"
      },
      "execution_count": null,
      "outputs": [
        {
          "output_type": "stream",
          "name": "stdout",
          "text": [
            "True\n"
          ]
        }
      ]
    },
    {
      "cell_type": "code",
      "source": [
        "from dataclasses import dataclass\n",
        "\n",
        "@dataclass\n",
        "class Person:\n",
        "    name:str\n",
        "    age:int\n",
        "\n",
        "p1 = Person(\"Sachin\",1000)\n",
        "print(p1)"
      ],
      "metadata": {
        "colab": {
          "base_uri": "https://localhost:8080/"
        },
        "id": "Lq23MroRXESI",
        "outputId": "6c5946fa-07c7-430a-d797-53d86bfd4b86"
      },
      "execution_count": null,
      "outputs": [
        {
          "output_type": "stream",
          "name": "stdout",
          "text": [
            "Person(name='Sachin', age=1000)\n"
          ]
        }
      ]
    },
    {
      "cell_type": "code",
      "source": [
        "p1.age = 100"
      ],
      "metadata": {
        "id": "iqwNSGfnXO6g"
      },
      "execution_count": null,
      "outputs": []
    },
    {
      "cell_type": "code",
      "source": [
        "print(p1)"
      ],
      "metadata": {
        "colab": {
          "base_uri": "https://localhost:8080/"
        },
        "id": "QL2NrAAGXU9U",
        "outputId": "143b3a80-6fbb-4f47-b978-10b4d63710b7"
      },
      "execution_count": null,
      "outputs": [
        {
          "output_type": "stream",
          "name": "stdout",
          "text": [
            "Person(name='Sachin', age=100)\n"
          ]
        }
      ]
    },
    {
      "cell_type": "code",
      "source": [
        "from dataclasses import dataclass\n",
        "\n",
        "@dataclass(frozen=True)\n",
        "class Person:\n",
        "    name:str\n",
        "    age:int\n",
        "\n",
        "p1 = Person(\"Sachin\",1000)\n",
        "print(p1)"
      ],
      "metadata": {
        "colab": {
          "base_uri": "https://localhost:8080/"
        },
        "id": "ypzhHwMYXZ0t",
        "outputId": "3c2f7b47-90f5-439a-f90e-361e490b9827"
      },
      "execution_count": null,
      "outputs": [
        {
          "output_type": "stream",
          "name": "stdout",
          "text": [
            "Person(name='Sachin', age=1000)\n"
          ]
        }
      ]
    },
    {
      "cell_type": "code",
      "source": [
        "p1.age = 100"
      ],
      "metadata": {
        "colab": {
          "base_uri": "https://localhost:8080/",
          "height": 208
        },
        "id": "iejKOv_nXhHX",
        "outputId": "85c84d57-02bd-4e19-f597-ecd171f65b4e"
      },
      "execution_count": null,
      "outputs": [
        {
          "output_type": "error",
          "ename": "FrozenInstanceError",
          "evalue": "ignored",
          "traceback": [
            "\u001b[0;31m---------------------------------------------------------------------------\u001b[0m",
            "\u001b[0;31mFrozenInstanceError\u001b[0m                       Traceback (most recent call last)",
            "\u001b[0;32m<ipython-input-86-02eb6a4593de>\u001b[0m in \u001b[0;36m<cell line: 1>\u001b[0;34m()\u001b[0m\n\u001b[0;32m----> 1\u001b[0;31m \u001b[0mp1\u001b[0m\u001b[0;34m.\u001b[0m\u001b[0mage\u001b[0m \u001b[0;34m=\u001b[0m \u001b[0;36m100\u001b[0m\u001b[0;34m\u001b[0m\u001b[0;34m\u001b[0m\u001b[0m\n\u001b[0m",
            "\u001b[0;32m<string>\u001b[0m in \u001b[0;36m__setattr__\u001b[0;34m(self, name, value)\u001b[0m\n",
            "\u001b[0;31mFrozenInstanceError\u001b[0m: cannot assign to field 'age'"
          ]
        }
      ]
    },
    {
      "cell_type": "code",
      "source": [
        "p1.__dict__"
      ],
      "metadata": {
        "colab": {
          "base_uri": "https://localhost:8080/"
        },
        "id": "OKaXL338XiD5",
        "outputId": "6c526b0b-323a-412a-f8a4-935870de12ee"
      },
      "execution_count": null,
      "outputs": [
        {
          "output_type": "execute_result",
          "data": {
            "text/plain": [
              "{'name': 'Sachin', 'age': 1000}"
            ]
          },
          "metadata": {},
          "execution_count": 87
        }
      ]
    },
    {
      "cell_type": "code",
      "source": [
        "from dataclasses import dataclass\n",
        "\n",
        "@dataclass(frozen=True)\n",
        "class Person:\n",
        "    name:str\n",
        "    age:int=100\n",
        "\n",
        "p1 = Person(\"Sachin\")\n",
        "print(p1)"
      ],
      "metadata": {
        "colab": {
          "base_uri": "https://localhost:8080/"
        },
        "id": "rmhHJfJLXrLA",
        "outputId": "12bec8dd-b26f-4800-916c-65db46b9275e"
      },
      "execution_count": null,
      "outputs": [
        {
          "output_type": "stream",
          "name": "stdout",
          "text": [
            "Person(name='Sachin', age=100)\n"
          ]
        }
      ]
    },
    {
      "cell_type": "code",
      "source": [
        "from dataclasses import dataclass\n",
        "\n",
        "@dataclass(frozen=True)\n",
        "class Person:\n",
        "    name:str\n",
        "    age:int=100\n",
        "\n",
        "    def set_age(self,age):\n",
        "        self.age=age\n",
        "\n",
        "p1 = Person(\"Sachin\")\n",
        "print(p1)"
      ],
      "metadata": {
        "colab": {
          "base_uri": "https://localhost:8080/"
        },
        "id": "tt2fsxG5X6rj",
        "outputId": "9475b9aa-d722-4f46-a7d0-4fa11f2465f3"
      },
      "execution_count": null,
      "outputs": [
        {
          "output_type": "stream",
          "name": "stdout",
          "text": [
            "Person(name='Sachin', age=100)\n"
          ]
        }
      ]
    },
    {
      "cell_type": "code",
      "source": [
        "p1.age= 1000"
      ],
      "metadata": {
        "colab": {
          "base_uri": "https://localhost:8080/",
          "height": 208
        },
        "id": "agSDQ5UAYFPs",
        "outputId": "622607d8-c18d-4430-96e0-391baa6e014f"
      },
      "execution_count": null,
      "outputs": [
        {
          "output_type": "error",
          "ename": "FrozenInstanceError",
          "evalue": "ignored",
          "traceback": [
            "\u001b[0;31m---------------------------------------------------------------------------\u001b[0m",
            "\u001b[0;31mFrozenInstanceError\u001b[0m                       Traceback (most recent call last)",
            "\u001b[0;32m<ipython-input-90-d147f47c947c>\u001b[0m in \u001b[0;36m<cell line: 1>\u001b[0;34m()\u001b[0m\n\u001b[0;32m----> 1\u001b[0;31m \u001b[0mp1\u001b[0m\u001b[0;34m.\u001b[0m\u001b[0mage\u001b[0m\u001b[0;34m=\u001b[0m \u001b[0;36m1000\u001b[0m\u001b[0;34m\u001b[0m\u001b[0;34m\u001b[0m\u001b[0m\n\u001b[0m",
            "\u001b[0;32m<string>\u001b[0m in \u001b[0;36m__setattr__\u001b[0;34m(self, name, value)\u001b[0m\n",
            "\u001b[0;31mFrozenInstanceError\u001b[0m: cannot assign to field 'age'"
          ]
        }
      ]
    },
    {
      "cell_type": "code",
      "source": [
        "p1.set_age(1000)"
      ],
      "metadata": {
        "colab": {
          "base_uri": "https://localhost:8080/",
          "height": 327
        },
        "id": "_3h3peEKYJEX",
        "outputId": "6f5e37c4-be06-49cf-e20b-07d950dce84a"
      },
      "execution_count": null,
      "outputs": [
        {
          "output_type": "error",
          "ename": "FrozenInstanceError",
          "evalue": "ignored",
          "traceback": [
            "\u001b[0;31m---------------------------------------------------------------------------\u001b[0m",
            "\u001b[0;31mFrozenInstanceError\u001b[0m                       Traceback (most recent call last)",
            "\u001b[0;32m<ipython-input-92-61e8f70f434f>\u001b[0m in \u001b[0;36m<cell line: 1>\u001b[0;34m()\u001b[0m\n\u001b[0;32m----> 1\u001b[0;31m \u001b[0mp1\u001b[0m\u001b[0;34m.\u001b[0m\u001b[0mset_age\u001b[0m\u001b[0;34m(\u001b[0m\u001b[0;36m1000\u001b[0m\u001b[0;34m)\u001b[0m\u001b[0;34m\u001b[0m\u001b[0;34m\u001b[0m\u001b[0m\n\u001b[0m",
            "\u001b[0;32m<ipython-input-89-b28a55a67b16>\u001b[0m in \u001b[0;36mset_age\u001b[0;34m(self, age)\u001b[0m\n\u001b[1;32m      7\u001b[0m \u001b[0;34m\u001b[0m\u001b[0m\n\u001b[1;32m      8\u001b[0m     \u001b[0;32mdef\u001b[0m \u001b[0mset_age\u001b[0m\u001b[0;34m(\u001b[0m\u001b[0mself\u001b[0m\u001b[0;34m,\u001b[0m\u001b[0mage\u001b[0m\u001b[0;34m)\u001b[0m\u001b[0;34m:\u001b[0m\u001b[0;34m\u001b[0m\u001b[0;34m\u001b[0m\u001b[0m\n\u001b[0;32m----> 9\u001b[0;31m         \u001b[0mself\u001b[0m\u001b[0;34m.\u001b[0m\u001b[0mage\u001b[0m\u001b[0;34m=\u001b[0m\u001b[0mage\u001b[0m\u001b[0;34m\u001b[0m\u001b[0;34m\u001b[0m\u001b[0m\n\u001b[0m\u001b[1;32m     10\u001b[0m \u001b[0;34m\u001b[0m\u001b[0m\n\u001b[1;32m     11\u001b[0m \u001b[0mp1\u001b[0m \u001b[0;34m=\u001b[0m \u001b[0mPerson\u001b[0m\u001b[0;34m(\u001b[0m\u001b[0;34m\"Sachin\"\u001b[0m\u001b[0;34m)\u001b[0m\u001b[0;34m\u001b[0m\u001b[0;34m\u001b[0m\u001b[0m\n",
            "\u001b[0;32m<string>\u001b[0m in \u001b[0;36m__setattr__\u001b[0;34m(self, name, value)\u001b[0m\n",
            "\u001b[0;31mFrozenInstanceError\u001b[0m: cannot assign to field 'age'"
          ]
        }
      ]
    },
    {
      "cell_type": "code",
      "source": [],
      "metadata": {
        "id": "OnpZVLm7YN78"
      },
      "execution_count": null,
      "outputs": []
    }
  ]
}