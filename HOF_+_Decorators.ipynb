{
  "nbformat": 4,
  "nbformat_minor": 0,
  "metadata": {
    "colab": {
      "provenance": [],
      "authorship_tag": "ABX9TyMeok4QcIRb3Hl6pWgP6WF1",
      "include_colab_link": true
    },
    "kernelspec": {
      "name": "python3",
      "display_name": "Python 3"
    },
    "language_info": {
      "name": "python"
    }
  },
  "cells": [
    {
      "cell_type": "markdown",
      "metadata": {
        "id": "view-in-github",
        "colab_type": "text"
      },
      "source": [
        "<a href=\"https://colab.research.google.com/github/SachinScaler/Aug23AdvancedPython/blob/main/HOF_%2B_Decorators.ipynb\" target=\"_parent\"><img src=\"https://colab.research.google.com/assets/colab-badge.svg\" alt=\"Open In Colab\"/></a>"
      ]
    },
    {
      "cell_type": "code",
      "execution_count": 1,
      "metadata": {
        "colab": {
          "base_uri": "https://localhost:8080/"
        },
        "id": "64nlXQOWkwZ3",
        "outputId": "f565029d-d234-46d3-8de8-cd9ae6f1379b"
      },
      "outputs": [
        {
          "output_type": "execute_result",
          "data": {
            "text/plain": [
              "8"
            ]
          },
          "metadata": {},
          "execution_count": 1
        }
      ],
      "source": [
        "def func(x,n):\n",
        "    return x**n\n",
        "\n",
        "# FCC\n",
        "func(2,3)"
      ]
    },
    {
      "cell_type": "code",
      "source": [
        "f2 = func\n",
        "type(f2)"
      ],
      "metadata": {
        "colab": {
          "base_uri": "https://localhost:8080/"
        },
        "id": "ioodt4ESlSEf",
        "outputId": "b0bfa6db-6915-4456-81ae-e40075b2bf75"
      },
      "execution_count": 2,
      "outputs": [
        {
          "output_type": "execute_result",
          "data": {
            "text/plain": [
              "function"
            ]
          },
          "metadata": {},
          "execution_count": 2
        }
      ]
    },
    {
      "cell_type": "code",
      "source": [
        "f2(3,2)"
      ],
      "metadata": {
        "colab": {
          "base_uri": "https://localhost:8080/"
        },
        "id": "nENaZrTulhpB",
        "outputId": "649046f8-1c9e-4593-89d2-2ca0aea4a0bc"
      },
      "execution_count": 3,
      "outputs": [
        {
          "output_type": "execute_result",
          "data": {
            "text/plain": [
              "9"
            ]
          },
          "metadata": {},
          "execution_count": 3
        }
      ]
    },
    {
      "cell_type": "markdown",
      "source": [
        "HOF: A function that returns another function"
      ],
      "metadata": {
        "id": "BHB1K25Elp23"
      }
    },
    {
      "cell_type": "code",
      "source": [
        "def gen_exp(n):\n",
        "    def exp(x):\n",
        "        return x**n\n",
        "    return exp\n",
        "\n",
        "exp_5=gen_exp(5)"
      ],
      "metadata": {
        "id": "9tBUwpRjlmm5"
      },
      "execution_count": 4,
      "outputs": []
    },
    {
      "cell_type": "code",
      "source": [
        "type(exp_5)"
      ],
      "metadata": {
        "colab": {
          "base_uri": "https://localhost:8080/"
        },
        "id": "IFDtrirmnarx",
        "outputId": "501931b5-dfac-4bbd-a228-42f7a0b73aa4"
      },
      "execution_count": 5,
      "outputs": [
        {
          "output_type": "execute_result",
          "data": {
            "text/plain": [
              "function"
            ]
          },
          "metadata": {},
          "execution_count": 5
        }
      ]
    },
    {
      "cell_type": "code",
      "source": [
        "exp_5(2)"
      ],
      "metadata": {
        "colab": {
          "base_uri": "https://localhost:8080/"
        },
        "id": "7Ac84hBIndRd",
        "outputId": "b6f292dd-59fe-4a4e-8803-c7c99164e9c0"
      },
      "execution_count": 6,
      "outputs": [
        {
          "output_type": "execute_result",
          "data": {
            "text/plain": [
              "32"
            ]
          },
          "metadata": {},
          "execution_count": 6
        }
      ]
    },
    {
      "cell_type": "code",
      "source": [
        "exp_5(1)"
      ],
      "metadata": {
        "colab": {
          "base_uri": "https://localhost:8080/"
        },
        "id": "tQkbgXG3nlRL",
        "outputId": "3e89831c-f2c6-4b99-c70d-7f51403887c2"
      },
      "execution_count": 7,
      "outputs": [
        {
          "output_type": "execute_result",
          "data": {
            "text/plain": [
              "1"
            ]
          },
          "metadata": {},
          "execution_count": 7
        }
      ]
    },
    {
      "cell_type": "code",
      "source": [
        "exp_6=gen_exp(6)\n",
        "exp_6(2)"
      ],
      "metadata": {
        "colab": {
          "base_uri": "https://localhost:8080/"
        },
        "id": "logTVQHOnm5n",
        "outputId": "3ce783e0-fdb5-4eab-fcfd-ef413f335d2c"
      },
      "execution_count": 8,
      "outputs": [
        {
          "output_type": "execute_result",
          "data": {
            "text/plain": [
              "64"
            ]
          },
          "metadata": {},
          "execution_count": 8
        }
      ]
    },
    {
      "cell_type": "markdown",
      "source": [
        "You want to generate different variation of a function"
      ],
      "metadata": {
        "id": "F_FuDDygn2gg"
      }
    },
    {
      "cell_type": "markdown",
      "source": [
        "Decorators"
      ],
      "metadata": {
        "id": "Z2bmhxJMockU"
      }
    },
    {
      "cell_type": "code",
      "source": [
        "def foo():\n",
        "    print(\"Hello Everyone\")\n",
        "def bar():\n",
        "    print(\"Welcome to FP2 Session!!\")\n",
        "\n",
        "foo()\n",
        "bar()"
      ],
      "metadata": {
        "colab": {
          "base_uri": "https://localhost:8080/"
        },
        "id": "pqLUIBeMntpA",
        "outputId": "b147db14-fa5a-4614-fcd3-23061a82166e"
      },
      "execution_count": 10,
      "outputs": [
        {
          "output_type": "stream",
          "name": "stdout",
          "text": [
            "Hello Everyone\n",
            "Welcome to FP2 Session!!\n"
          ]
        }
      ]
    },
    {
      "cell_type": "code",
      "source": [
        "# add a line before and after the print statement\n",
        "def foo():\n",
        "    print(\"-\"*50)\n",
        "    print(\"Hello Everyone\")\n",
        "    print(\"-\"*50)\n",
        "def bar():\n",
        "    print(\"-\"*50)\n",
        "    print(\"Welcome to FP2 Session!!\")\n",
        "    print(\"-\"*50)\n",
        "\n",
        "foo()\n",
        "bar()"
      ],
      "metadata": {
        "colab": {
          "base_uri": "https://localhost:8080/"
        },
        "id": "AZb59sAVpVI4",
        "outputId": "a858d71e-e589-493f-dfa0-9f0c98235bd0"
      },
      "execution_count": 11,
      "outputs": [
        {
          "output_type": "stream",
          "name": "stdout",
          "text": [
            "--------------------------------------------------\n",
            "Hello Everyone\n",
            "--------------------------------------------------\n",
            "--------------------------------------------------\n",
            "Welcome to FP2 Session!!\n",
            "--------------------------------------------------\n"
          ]
        }
      ]
    },
    {
      "cell_type": "code",
      "source": [
        "def foo():\n",
        "    print(\"Hello Everyone\")\n",
        "def bar():\n",
        "    print(\"Welcome to FP2 Session!!\")\n",
        "\n",
        "foo()\n",
        "bar()"
      ],
      "metadata": {
        "colab": {
          "base_uri": "https://localhost:8080/"
        },
        "id": "vnzuGrJDqIcO",
        "outputId": "018b53d6-f9bb-488e-ef80-da0bc42011e7"
      },
      "execution_count": 13,
      "outputs": [
        {
          "output_type": "stream",
          "name": "stdout",
          "text": [
            "Hello Everyone\n",
            "Welcome to FP2 Session!!\n"
          ]
        }
      ]
    },
    {
      "cell_type": "code",
      "source": [
        "def pretty(func):\n",
        "    def inner():\n",
        "        print(\"-\"*50)\n",
        "        func()\n",
        "        print(\"-\"*50)\n",
        "\n",
        "    return inner\n",
        "\n",
        "new_foo = pretty(foo)\n",
        "new_bar = pretty(bar)"
      ],
      "metadata": {
        "id": "k9BDa_n_ppMC"
      },
      "execution_count": 14,
      "outputs": []
    },
    {
      "cell_type": "code",
      "source": [
        "type(new_foo)"
      ],
      "metadata": {
        "colab": {
          "base_uri": "https://localhost:8080/"
        },
        "id": "EZaYemCAp3BY",
        "outputId": "3ac5de0f-3821-4f68-c5a5-667b8e6f7219"
      },
      "execution_count": 15,
      "outputs": [
        {
          "output_type": "execute_result",
          "data": {
            "text/plain": [
              "function"
            ]
          },
          "metadata": {},
          "execution_count": 15
        }
      ]
    },
    {
      "cell_type": "code",
      "source": [
        "new_foo()"
      ],
      "metadata": {
        "colab": {
          "base_uri": "https://localhost:8080/"
        },
        "id": "o6XpDACwqYux",
        "outputId": "190f41f8-5ef1-4506-b4f0-6d83f3de415f"
      },
      "execution_count": 17,
      "outputs": [
        {
          "output_type": "stream",
          "name": "stdout",
          "text": [
            "--------------------------------------------------\n",
            "Hello Everyone\n",
            "--------------------------------------------------\n"
          ]
        }
      ]
    },
    {
      "cell_type": "code",
      "source": [
        "type(new_bar)"
      ],
      "metadata": {
        "colab": {
          "base_uri": "https://localhost:8080/"
        },
        "id": "NvniphYDqWKW",
        "outputId": "59abb574-1de6-4d50-f24f-3a80484aeb45"
      },
      "execution_count": 16,
      "outputs": [
        {
          "output_type": "execute_result",
          "data": {
            "text/plain": [
              "function"
            ]
          },
          "metadata": {},
          "execution_count": 16
        }
      ]
    },
    {
      "cell_type": "code",
      "source": [
        "new_bar()"
      ],
      "metadata": {
        "colab": {
          "base_uri": "https://localhost:8080/"
        },
        "id": "8-_-Lef4qYAj",
        "outputId": "085da963-f74d-42c1-acdb-543603f4652e"
      },
      "execution_count": 18,
      "outputs": [
        {
          "output_type": "stream",
          "name": "stdout",
          "text": [
            "--------------------------------------------------\n",
            "Welcome to FP2 Session!!\n",
            "--------------------------------------------------\n"
          ]
        }
      ]
    },
    {
      "cell_type": "code",
      "source": [
        "@pretty\n",
        "def random_func():\n",
        "    print(\"What in the world is happpening\")\n",
        "\n",
        "random_func()"
      ],
      "metadata": {
        "colab": {
          "base_uri": "https://localhost:8080/"
        },
        "id": "Cj2F3VIHqfYQ",
        "outputId": "9c5e04d1-10d6-410c-e8cd-68636c47de26"
      },
      "execution_count": 20,
      "outputs": [
        {
          "output_type": "stream",
          "name": "stdout",
          "text": [
            "--------------------------------------------------\n",
            "What in the world is happpening\n",
            "--------------------------------------------------\n"
          ]
        }
      ]
    },
    {
      "cell_type": "markdown",
      "source": [
        "- dataclass: what is this and how does it work\n",
        "- fastapi/flaskapi: Python frameworks to create webserver(Covered in MLOPS)"
      ],
      "metadata": {
        "id": "OkCNOMpLrEj_"
      }
    },
    {
      "cell_type": "markdown",
      "source": [
        "Decorators"
      ],
      "metadata": {
        "id": "egTeqwVwsIEg"
      }
    },
    {
      "cell_type": "code",
      "source": [
        "def factorail_rec(n):\n",
        "    if n<=1:\n",
        "        return 1\n",
        "    else:\n",
        "        return factorail_rec(n-1)*n\n",
        "\n",
        "factorail_rec(5)"
      ],
      "metadata": {
        "colab": {
          "base_uri": "https://localhost:8080/"
        },
        "id": "gouAEftDq3C_",
        "outputId": "42723d50-516a-4094-9833-d9fcf31bfb2a"
      },
      "execution_count": 21,
      "outputs": [
        {
          "output_type": "execute_result",
          "data": {
            "text/plain": [
              "120"
            ]
          },
          "metadata": {},
          "execution_count": 21
        }
      ]
    },
    {
      "cell_type": "code",
      "source": [
        "def factorial_for(n):\n",
        "    out = 1\n",
        "    for i in range(1,n+1):\n",
        "        out*=i\n",
        "    return out\n",
        "factorial_for(5)"
      ],
      "metadata": {
        "colab": {
          "base_uri": "https://localhost:8080/"
        },
        "id": "RvovZb6rsXf7",
        "outputId": "55f144b8-7fef-4622-bd3a-70ad6bc6be64"
      },
      "execution_count": 22,
      "outputs": [
        {
          "output_type": "execute_result",
          "data": {
            "text/plain": [
              "120"
            ]
          },
          "metadata": {},
          "execution_count": 22
        }
      ]
    },
    {
      "cell_type": "code",
      "source": [
        "def factorial_while(n):\n",
        "    out = 1\n",
        "    while n>=1:\n",
        "        out*=n\n",
        "        n-=1\n",
        "    return out\n",
        "factorial_while(5)"
      ],
      "metadata": {
        "colab": {
          "base_uri": "https://localhost:8080/"
        },
        "id": "ZKB3PzGjsh3R",
        "outputId": "72419ec4-9855-4ced-e834-477ad0272dac"
      },
      "execution_count": 24,
      "outputs": [
        {
          "output_type": "execute_result",
          "data": {
            "text/plain": [
              "120"
            ]
          },
          "metadata": {},
          "execution_count": 24
        }
      ]
    },
    {
      "cell_type": "markdown",
      "source": [
        "### compare with fib"
      ],
      "metadata": {
        "id": "09uPVNQKsvII"
      }
    },
    {
      "cell_type": "code",
      "source": [
        "import time\n",
        "def speed_check(func):\n",
        "    def wrapper(n):\n",
        "        print(\"Starting Execution\")\n",
        "        s = time.time()\n",
        "        out = func(n)\n",
        "        e = time.time()\n",
        "        print(\"Execution finished\")\n",
        "        print(\"Total time taken: \", e-s)\n",
        "        return out\n",
        "\n",
        "    return wrapper\n",
        "\n",
        "@speed_check # new_func= speed_check(factorail_rec)\n",
        "def factorail_rec(n):\n",
        "    if n<=1:\n",
        "        return 1\n",
        "    else:\n",
        "        return factorail_rec(n-1)*n\n",
        "\n",
        "factorail_rec(5)"
      ],
      "metadata": {
        "colab": {
          "base_uri": "https://localhost:8080/"
        },
        "id": "l761UniisoIO",
        "outputId": "8f9d31f7-a01b-4af8-e036-b0d27378d899"
      },
      "execution_count": 28,
      "outputs": [
        {
          "output_type": "stream",
          "name": "stdout",
          "text": [
            "Starting Execution\n",
            "Starting Execution\n",
            "Starting Execution\n",
            "Starting Execution\n",
            "Starting Execution\n",
            "Execution finished\n",
            "Total time taken:  1.6689300537109375e-06\n",
            "Execution finished\n",
            "Total time taken:  0.004163265228271484\n",
            "Execution finished\n",
            "Total time taken:  0.005143404006958008\n",
            "Execution finished\n",
            "Total time taken:  0.006137847900390625\n",
            "Execution finished\n",
            "Total time taken:  0.006693601608276367\n"
          ]
        },
        {
          "output_type": "execute_result",
          "data": {
            "text/plain": [
              "120"
            ]
          },
          "metadata": {},
          "execution_count": 28
        }
      ]
    },
    {
      "cell_type": "code",
      "source": [
        "@speed_check\n",
        "def factorial_while(n):\n",
        "    out = 1\n",
        "    while n>=1:\n",
        "        out*=n\n",
        "        n-=1\n",
        "    return out\n",
        "out = factorial_while(5)\n",
        "print(out)"
      ],
      "metadata": {
        "colab": {
          "base_uri": "https://localhost:8080/"
        },
        "id": "jT3fZHVtuFsM",
        "outputId": "f40ac116-9878-40a3-f4c2-a580f37c39c7"
      },
      "execution_count": 29,
      "outputs": [
        {
          "output_type": "stream",
          "name": "stdout",
          "text": [
            "Starting Execution\n",
            "Execution finished\n",
            "Total time taken:  3.814697265625e-06\n",
            "120\n"
          ]
        }
      ]
    },
    {
      "cell_type": "code",
      "source": [
        "@speed_check\n",
        "def factorial_for(n):\n",
        "    out = 1\n",
        "    for i in range(1,n+1):\n",
        "        out*=i\n",
        "    return out\n",
        "factorial_for(5)"
      ],
      "metadata": {
        "colab": {
          "base_uri": "https://localhost:8080/"
        },
        "id": "nTa2TZeVucMK",
        "outputId": "2ac445f0-1fed-4140-91ee-414ffe4bb139"
      },
      "execution_count": 30,
      "outputs": [
        {
          "output_type": "stream",
          "name": "stdout",
          "text": [
            "Starting Execution\n",
            "Execution finished\n",
            "Total time taken:  4.0531158447265625e-06\n"
          ]
        },
        {
          "output_type": "execute_result",
          "data": {
            "text/plain": [
              "120"
            ]
          },
          "metadata": {},
          "execution_count": 30
        }
      ]
    },
    {
      "cell_type": "code",
      "source": [
        "@speed_check\n",
        "def achu_func(a):\n",
        "    return a+1,a*2,a-3,a//4\n",
        "achu_func(10)"
      ],
      "metadata": {
        "colab": {
          "base_uri": "https://localhost:8080/"
        },
        "id": "nsl-m9lQvNRw",
        "outputId": "2a001623-119c-44ab-dbc1-6a59c276d61d"
      },
      "execution_count": 31,
      "outputs": [
        {
          "output_type": "stream",
          "name": "stdout",
          "text": [
            "Starting Execution\n",
            "Execution finished\n",
            "Total time taken:  2.6226043701171875e-06\n"
          ]
        },
        {
          "output_type": "execute_result",
          "data": {
            "text/plain": [
              "(11, 20, 7, 2)"
            ]
          },
          "metadata": {},
          "execution_count": 31
        }
      ]
    },
    {
      "cell_type": "code",
      "source": [
        "import time\n",
        "def speed_check(func):\n",
        "    def wrapper(a,b):\n",
        "        print(\"Starting Execution\")\n",
        "        s = time.time()\n",
        "        out = func(a,b)\n",
        "        e = time.time()\n",
        "        print(\"Execution finished\")\n",
        "        print(\"Total time taken: \", e-s)\n",
        "        return out\n",
        "\n",
        "    return wrapper"
      ],
      "metadata": {
        "id": "Wf6vIUVavt04"
      },
      "execution_count": 36,
      "outputs": []
    },
    {
      "cell_type": "code",
      "source": [
        "@speed_check\n",
        "def achu_func2(a,b):\n",
        "    return a+1,a*2,a-3,a//4\n",
        "achu_func2(10,20)"
      ],
      "metadata": {
        "colab": {
          "base_uri": "https://localhost:8080/"
        },
        "id": "9to__B1Nv0jA",
        "outputId": "64c7c212-0fd9-4eae-81bd-c52f80b3f223"
      },
      "execution_count": 37,
      "outputs": [
        {
          "output_type": "stream",
          "name": "stdout",
          "text": [
            "Starting Execution\n",
            "Execution finished\n",
            "Total time taken:  2.6226043701171875e-06\n"
          ]
        },
        {
          "output_type": "execute_result",
          "data": {
            "text/plain": [
              "(11, 20, 7, 2)"
            ]
          },
          "metadata": {},
          "execution_count": 37
        }
      ]
    },
    {
      "cell_type": "code",
      "source": [
        "import time\n",
        "def speed_check(func):\n",
        "    def wrapper(n):\n",
        "        print(\"Starting Execution\")\n",
        "        s = time.time()\n",
        "        out = func(n)\n",
        "        e = time.time()\n",
        "        print(\"Execution finished\")\n",
        "        print(\"Total time taken: \", e-s)\n",
        "        return out\n",
        "\n",
        "    return wrapper"
      ],
      "metadata": {
        "id": "_zUEwqqxwGj3"
      },
      "execution_count": 39,
      "outputs": []
    },
    {
      "cell_type": "code",
      "source": [
        "def factorial_for(n):\n",
        "    out = 1\n",
        "    for i in range(1,n+1):\n",
        "        out*=i\n",
        "    return out\n",
        "factorial_for(5)"
      ],
      "metadata": {
        "colab": {
          "base_uri": "https://localhost:8080/"
        },
        "id": "dFNhs75gweZf",
        "outputId": "ab6d3a4f-55a9-4fab-a6a7-74db0618b091"
      },
      "execution_count": 43,
      "outputs": [
        {
          "output_type": "execute_result",
          "data": {
            "text/plain": [
              "120"
            ]
          },
          "metadata": {},
          "execution_count": 43
        }
      ]
    },
    {
      "cell_type": "code",
      "source": [
        "a = factorial_for\n",
        "a(3)"
      ],
      "metadata": {
        "colab": {
          "base_uri": "https://localhost:8080/"
        },
        "id": "kmuAsh8vxSww",
        "outputId": "8dbf68da-bac0-43a5-d413-256439102eb6"
      },
      "execution_count": 44,
      "outputs": [
        {
          "output_type": "execute_result",
          "data": {
            "text/plain": [
              "6"
            ]
          },
          "metadata": {},
          "execution_count": 44
        }
      ]
    },
    {
      "cell_type": "code",
      "source": [
        "a.__name__"
      ],
      "metadata": {
        "colab": {
          "base_uri": "https://localhost:8080/",
          "height": 56
        },
        "id": "xvLxrOjoxXcs",
        "outputId": "bfced640-8f9e-492a-b976-daaf2c03fb11"
      },
      "execution_count": 45,
      "outputs": [
        {
          "output_type": "execute_result",
          "data": {
            "text/plain": [
              "'factorial_for'"
            ],
            "application/vnd.google.colaboratory.intrinsic+json": {
              "type": "string"
            }
          },
          "metadata": {},
          "execution_count": 45
        }
      ]
    },
    {
      "cell_type": "code",
      "source": [
        "from datetime import datetime\n",
        "str(datetime.now())"
      ],
      "metadata": {
        "colab": {
          "base_uri": "https://localhost:8080/",
          "height": 56
        },
        "id": "0wCw3mUmwnRh",
        "outputId": "485fa1e5-f505-4580-9dc2-8e355a81d0b2"
      },
      "execution_count": 42,
      "outputs": [
        {
          "output_type": "execute_result",
          "data": {
            "text/plain": [
              "'2023-09-09 16:25:29.240992'"
            ],
            "application/vnd.google.colaboratory.intrinsic+json": {
              "type": "string"
            }
          },
          "metadata": {},
          "execution_count": 42
        }
      ]
    },
    {
      "cell_type": "code",
      "source": [
        "## we want to add a logger to all of our functions to track\n",
        "\n",
        "def logger(func):\n",
        "    def wrapper(n):\n",
        "        print(\"logger is logging: \")\n",
        "        with open(\"logs.txt\",\"a\") as f:\n",
        "            info = f\"Function {func.__name__} executed with input arg {str(n)} on {str(datetime.now())}\\n\"\n",
        "            f.write(info)\n",
        "        out = func(n)\n",
        "        return out\n",
        "    return wrapper\n",
        "\n",
        "@logger\n",
        "def factorial_for(n):\n",
        "    out = 1\n",
        "    for i in range(1,n+1):\n",
        "        out*=i\n",
        "    return out\n",
        "factorial_for(5)"
      ],
      "metadata": {
        "colab": {
          "base_uri": "https://localhost:8080/"
        },
        "id": "kYKp13f_wuHJ",
        "outputId": "6c4cde8a-cae0-4bf6-db06-5a46b8baf119"
      },
      "execution_count": 51,
      "outputs": [
        {
          "output_type": "stream",
          "name": "stdout",
          "text": [
            "logger is logging: \n"
          ]
        },
        {
          "output_type": "execute_result",
          "data": {
            "text/plain": [
              "120"
            ]
          },
          "metadata": {},
          "execution_count": 51
        }
      ]
    },
    {
      "cell_type": "code",
      "source": [
        "factorial_for(20)"
      ],
      "metadata": {
        "colab": {
          "base_uri": "https://localhost:8080/"
        },
        "id": "ec3UGaLYyVgQ",
        "outputId": "6c6339a0-3712-46ab-e2bd-764c1bc77da2"
      },
      "execution_count": 52,
      "outputs": [
        {
          "output_type": "stream",
          "name": "stdout",
          "text": [
            "logger is logging: \n"
          ]
        },
        {
          "output_type": "execute_result",
          "data": {
            "text/plain": [
              "2432902008176640000"
            ]
          },
          "metadata": {},
          "execution_count": 52
        }
      ]
    },
    {
      "cell_type": "code",
      "source": [
        "@speed_check\n",
        "@logger\n",
        "def factorial_for(n):\n",
        "    out = 1\n",
        "    for i in range(1,n+1):\n",
        "        out*=i\n",
        "    return out\n",
        "factorial_for(5)"
      ],
      "metadata": {
        "colab": {
          "base_uri": "https://localhost:8080/"
        },
        "id": "Y-PuxEXkyjl8",
        "outputId": "fe4a7624-c800-4f1e-e53d-7da5c43dc809"
      },
      "execution_count": 53,
      "outputs": [
        {
          "output_type": "stream",
          "name": "stdout",
          "text": [
            "Starting Execution\n",
            "logger is logging: \n",
            "Execution finished\n",
            "Total time taken:  0.00018477439880371094\n"
          ]
        },
        {
          "output_type": "execute_result",
          "data": {
            "text/plain": [
              "120"
            ]
          },
          "metadata": {},
          "execution_count": 53
        }
      ]
    },
    {
      "cell_type": "markdown",
      "source": [
        "Repeat with fibs examples"
      ],
      "metadata": {
        "id": "pFJRHLhtzfrR"
      }
    },
    {
      "cell_type": "code",
      "source": [
        "@logger\n",
        "def factorail_rec(n):\n",
        "    if n<=1:\n",
        "        return 1\n",
        "    else:\n",
        "        return factorail_rec(n-1)*n\n",
        "\n",
        "out = factorail_rec(100)\n",
        "print(out)"
      ],
      "metadata": {
        "colab": {
          "base_uri": "https://localhost:8080/"
        },
        "id": "MEvOqeXLzVs6",
        "outputId": "ef8dad0f-cad0-46b8-c331-dc8a7ad4b12c"
      },
      "execution_count": 54,
      "outputs": [
        {
          "output_type": "stream",
          "name": "stdout",
          "text": [
            "logger is logging: \n",
            "logger is logging: \n",
            "logger is logging: \n",
            "logger is logging: \n",
            "logger is logging: \n",
            "logger is logging: \n",
            "logger is logging: \n",
            "logger is logging: \n",
            "logger is logging: \n",
            "logger is logging: \n",
            "logger is logging: \n",
            "logger is logging: \n",
            "logger is logging: \n",
            "logger is logging: \n",
            "logger is logging: \n",
            "logger is logging: \n",
            "logger is logging: \n",
            "logger is logging: \n",
            "logger is logging: \n",
            "logger is logging: \n",
            "logger is logging: \n",
            "logger is logging: \n",
            "logger is logging: \n",
            "logger is logging: \n",
            "logger is logging: \n",
            "logger is logging: \n",
            "logger is logging: \n",
            "logger is logging: \n",
            "logger is logging: \n",
            "logger is logging: \n",
            "logger is logging: \n",
            "logger is logging: \n",
            "logger is logging: \n",
            "logger is logging: \n",
            "logger is logging: \n",
            "logger is logging: \n",
            "logger is logging: \n",
            "logger is logging: \n",
            "logger is logging: \n",
            "logger is logging: \n",
            "logger is logging: \n",
            "logger is logging: \n",
            "logger is logging: \n",
            "logger is logging: \n",
            "logger is logging: \n",
            "logger is logging: \n",
            "logger is logging: \n",
            "logger is logging: \n",
            "logger is logging: \n",
            "logger is logging: \n",
            "logger is logging: \n",
            "logger is logging: \n",
            "logger is logging: \n",
            "logger is logging: \n",
            "logger is logging: \n",
            "logger is logging: \n",
            "logger is logging: \n",
            "logger is logging: \n",
            "logger is logging: \n",
            "logger is logging: \n",
            "logger is logging: \n",
            "logger is logging: \n",
            "logger is logging: \n",
            "logger is logging: \n",
            "logger is logging: \n",
            "logger is logging: \n",
            "logger is logging: \n",
            "logger is logging: \n",
            "logger is logging: \n",
            "logger is logging: \n",
            "logger is logging: \n",
            "logger is logging: \n",
            "logger is logging: \n",
            "logger is logging: \n",
            "logger is logging: \n",
            "logger is logging: \n",
            "logger is logging: \n",
            "logger is logging: \n",
            "logger is logging: \n",
            "logger is logging: \n",
            "logger is logging: \n",
            "logger is logging: \n",
            "logger is logging: \n",
            "logger is logging: \n",
            "logger is logging: \n",
            "logger is logging: \n",
            "logger is logging: \n",
            "logger is logging: \n",
            "logger is logging: \n",
            "logger is logging: \n",
            "logger is logging: \n",
            "logger is logging: \n",
            "logger is logging: \n",
            "logger is logging: \n",
            "logger is logging: \n",
            "logger is logging: \n",
            "logger is logging: \n",
            "logger is logging: \n",
            "logger is logging: \n",
            "logger is logging: \n",
            "93326215443944152681699238856266700490715968264381621468592963895217599993229915608941463976156518286253697920827223758251185210916864000000000000000000000000\n"
          ]
        }
      ]
    },
    {
      "cell_type": "code",
      "source": [],
      "metadata": {
        "id": "UDv8YpC5z3Hs"
      },
      "execution_count": null,
      "outputs": []
    }
  ]
}